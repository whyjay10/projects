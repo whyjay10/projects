{
 "cells": [
  {
   "cell_type": "markdown",
   "metadata": {},
   "source": [
    "## Import packages and datasets"
   ]
  },
  {
   "cell_type": "code",
   "execution_count": 77,
   "metadata": {},
   "outputs": [],
   "source": [
    "import pandas as pd\n",
    "import numpy as np\n",
    "import matplotlib.pyplot as plt\n",
    "import seaborn as sns\n",
    "from scipy import stats\n",
    "from sklearn.cluster import KMeans\n",
    "from sklearn.preprocessing import StandardScaler"
   ]
  },
  {
   "cell_type": "code",
   "execution_count": 3,
   "metadata": {},
   "outputs": [],
   "source": [
    "mm1_3 = pd.read_csv(r'C:\\Users\\lyejie\\de_tenure_1-3.csv')\n",
    "mm4_6 = pd.read_csv(r'C:\\Users\\lyejie\\de_tenure_4-6.csv')\n",
    "mm7_12 = pd.read_csv(r'C:\\Users\\lyejie\\de_tenure_7-12.csv')\n",
    "mm13_ = pd.read_csv(r'C:\\Users\\lyejie\\de_tenure_13+.csv')"
   ]
  },
  {
   "cell_type": "code",
   "execution_count": 4,
   "metadata": {},
   "outputs": [
    {
     "data": {
      "text/html": [
       "<div>\n",
       "<style scoped>\n",
       "    .dataframe tbody tr th:only-of-type {\n",
       "        vertical-align: middle;\n",
       "    }\n",
       "\n",
       "    .dataframe tbody tr th {\n",
       "        vertical-align: top;\n",
       "    }\n",
       "\n",
       "    .dataframe thead th {\n",
       "        text-align: right;\n",
       "    }\n",
       "</style>\n",
       "<table border=\"1\" class=\"dataframe\">\n",
       "  <thead>\n",
       "    <tr style=\"text-align: right;\">\n",
       "      <th></th>\n",
       "      <th>current_customer_id</th>\n",
       "      <th>ct_listen_total_audioshows_p90</th>\n",
       "      <th>ct_listen_total_originals_p90</th>\n",
       "      <th>ct_listen_total_under_1_hour_p90</th>\n",
       "      <th>listen_total</th>\n",
       "      <th>ct_sessn_wma_detail_p90</th>\n",
       "      <th>ct_sessn_wma_pc_p90</th>\n",
       "      <th>ct_sessn_wma_moble_p90</th>\n",
       "      <th>ct_tot_open_p90</th>\n",
       "      <th>ct_tot_click_p90</th>\n",
       "      <th>marketplace_id</th>\n",
       "      <th>tenure_grp</th>\n",
       "    </tr>\n",
       "  </thead>\n",
       "  <tbody>\n",
       "    <tr>\n",
       "      <td>0</td>\n",
       "      <td>1941142</td>\n",
       "      <td>0</td>\n",
       "      <td>0</td>\n",
       "      <td>0</td>\n",
       "      <td>3690</td>\n",
       "      <td>NaN</td>\n",
       "      <td>NaN</td>\n",
       "      <td>NaN</td>\n",
       "      <td>0.0</td>\n",
       "      <td>0.0</td>\n",
       "      <td>36071</td>\n",
       "      <td>MM13+</td>\n",
       "    </tr>\n",
       "    <tr>\n",
       "      <td>1</td>\n",
       "      <td>10436671</td>\n",
       "      <td>0</td>\n",
       "      <td>0</td>\n",
       "      <td>4548</td>\n",
       "      <td>117850</td>\n",
       "      <td>2.0</td>\n",
       "      <td>0.0</td>\n",
       "      <td>0.0</td>\n",
       "      <td>3.0</td>\n",
       "      <td>0.0</td>\n",
       "      <td>36071</td>\n",
       "      <td>MM13+</td>\n",
       "    </tr>\n",
       "    <tr>\n",
       "      <td>2</td>\n",
       "      <td>10954749</td>\n",
       "      <td>0</td>\n",
       "      <td>0</td>\n",
       "      <td>0</td>\n",
       "      <td>103146</td>\n",
       "      <td>18.0</td>\n",
       "      <td>2.0</td>\n",
       "      <td>0.0</td>\n",
       "      <td>2.0</td>\n",
       "      <td>0.0</td>\n",
       "      <td>36071</td>\n",
       "      <td>MM13+</td>\n",
       "    </tr>\n",
       "    <tr>\n",
       "      <td>3</td>\n",
       "      <td>24460852</td>\n",
       "      <td>0</td>\n",
       "      <td>0</td>\n",
       "      <td>0</td>\n",
       "      <td>313433</td>\n",
       "      <td>79.0</td>\n",
       "      <td>0.0</td>\n",
       "      <td>11.0</td>\n",
       "      <td>10.0</td>\n",
       "      <td>5.0</td>\n",
       "      <td>36071</td>\n",
       "      <td>MM13+</td>\n",
       "    </tr>\n",
       "    <tr>\n",
       "      <td>4</td>\n",
       "      <td>24757552</td>\n",
       "      <td>0</td>\n",
       "      <td>0</td>\n",
       "      <td>0</td>\n",
       "      <td>12343</td>\n",
       "      <td>36.0</td>\n",
       "      <td>0.0</td>\n",
       "      <td>5.0</td>\n",
       "      <td>0.0</td>\n",
       "      <td>0.0</td>\n",
       "      <td>36071</td>\n",
       "      <td>MM13+</td>\n",
       "    </tr>\n",
       "  </tbody>\n",
       "</table>\n",
       "</div>"
      ],
      "text/plain": [
       "   current_customer_id  ct_listen_total_audioshows_p90  \\\n",
       "0              1941142                               0   \n",
       "1             10436671                               0   \n",
       "2             10954749                               0   \n",
       "3             24460852                               0   \n",
       "4             24757552                               0   \n",
       "\n",
       "   ct_listen_total_originals_p90  ct_listen_total_under_1_hour_p90  \\\n",
       "0                              0                                 0   \n",
       "1                              0                              4548   \n",
       "2                              0                                 0   \n",
       "3                              0                                 0   \n",
       "4                              0                                 0   \n",
       "\n",
       "   listen_total  ct_sessn_wma_detail_p90  ct_sessn_wma_pc_p90  \\\n",
       "0          3690                      NaN                  NaN   \n",
       "1        117850                      2.0                  0.0   \n",
       "2        103146                     18.0                  2.0   \n",
       "3        313433                     79.0                  0.0   \n",
       "4         12343                     36.0                  0.0   \n",
       "\n",
       "   ct_sessn_wma_moble_p90  ct_tot_open_p90  ct_tot_click_p90  marketplace_id  \\\n",
       "0                     NaN              0.0               0.0           36071   \n",
       "1                     0.0              3.0               0.0           36071   \n",
       "2                     0.0              2.0               0.0           36071   \n",
       "3                    11.0             10.0               5.0           36071   \n",
       "4                     5.0              0.0               0.0           36071   \n",
       "\n",
       "  tenure_grp  \n",
       "0      MM13+  \n",
       "1      MM13+  \n",
       "2      MM13+  \n",
       "3      MM13+  \n",
       "4      MM13+  "
      ]
     },
     "execution_count": 4,
     "metadata": {},
     "output_type": "execute_result"
    }
   ],
   "source": [
    "# Check output\n",
    "mm13_.head()"
   ]
  },
  {
   "cell_type": "markdown",
   "metadata": {},
   "source": [
    "## Data cleaning: Replace NAs + Remove erroneous data"
   ]
  },
  {
   "cell_type": "code",
   "execution_count": 5,
   "metadata": {},
   "outputs": [],
   "source": [
    "# Define: Replace NAs \n",
    "def replace_na(dataframe):\n",
    "    for i in range(len(dataframe.columns)):\n",
    "        dataframe.iloc[:,i].fillna(0,inplace=True)\n",
    "    return dataframe"
   ]
  },
  {
   "cell_type": "code",
   "execution_count": 6,
   "metadata": {},
   "outputs": [
    {
     "data": {
      "text/html": [
       "<div>\n",
       "<style scoped>\n",
       "    .dataframe tbody tr th:only-of-type {\n",
       "        vertical-align: middle;\n",
       "    }\n",
       "\n",
       "    .dataframe tbody tr th {\n",
       "        vertical-align: top;\n",
       "    }\n",
       "\n",
       "    .dataframe thead th {\n",
       "        text-align: right;\n",
       "    }\n",
       "</style>\n",
       "<table border=\"1\" class=\"dataframe\">\n",
       "  <thead>\n",
       "    <tr style=\"text-align: right;\">\n",
       "      <th></th>\n",
       "      <th>current_customer_id</th>\n",
       "      <th>ct_listen_total_audioshows_p90</th>\n",
       "      <th>ct_listen_total_originals_p90</th>\n",
       "      <th>ct_listen_total_under_1_hour_p90</th>\n",
       "      <th>listen_total</th>\n",
       "      <th>ct_sessn_wma_detail_p90</th>\n",
       "      <th>ct_sessn_wma_pc_p90</th>\n",
       "      <th>ct_sessn_wma_moble_p90</th>\n",
       "      <th>ct_tot_open_p90</th>\n",
       "      <th>ct_tot_click_p90</th>\n",
       "      <th>marketplace_id</th>\n",
       "      <th>tenure_grp</th>\n",
       "    </tr>\n",
       "  </thead>\n",
       "  <tbody>\n",
       "    <tr>\n",
       "      <td>0</td>\n",
       "      <td>1941142</td>\n",
       "      <td>0</td>\n",
       "      <td>0</td>\n",
       "      <td>0</td>\n",
       "      <td>3690</td>\n",
       "      <td>0.0</td>\n",
       "      <td>0.0</td>\n",
       "      <td>0.0</td>\n",
       "      <td>0.0</td>\n",
       "      <td>0.0</td>\n",
       "      <td>36071</td>\n",
       "      <td>MM13+</td>\n",
       "    </tr>\n",
       "    <tr>\n",
       "      <td>1</td>\n",
       "      <td>10436671</td>\n",
       "      <td>0</td>\n",
       "      <td>0</td>\n",
       "      <td>4548</td>\n",
       "      <td>117850</td>\n",
       "      <td>2.0</td>\n",
       "      <td>0.0</td>\n",
       "      <td>0.0</td>\n",
       "      <td>3.0</td>\n",
       "      <td>0.0</td>\n",
       "      <td>36071</td>\n",
       "      <td>MM13+</td>\n",
       "    </tr>\n",
       "    <tr>\n",
       "      <td>2</td>\n",
       "      <td>10954749</td>\n",
       "      <td>0</td>\n",
       "      <td>0</td>\n",
       "      <td>0</td>\n",
       "      <td>103146</td>\n",
       "      <td>18.0</td>\n",
       "      <td>2.0</td>\n",
       "      <td>0.0</td>\n",
       "      <td>2.0</td>\n",
       "      <td>0.0</td>\n",
       "      <td>36071</td>\n",
       "      <td>MM13+</td>\n",
       "    </tr>\n",
       "    <tr>\n",
       "      <td>3</td>\n",
       "      <td>24460852</td>\n",
       "      <td>0</td>\n",
       "      <td>0</td>\n",
       "      <td>0</td>\n",
       "      <td>313433</td>\n",
       "      <td>79.0</td>\n",
       "      <td>0.0</td>\n",
       "      <td>11.0</td>\n",
       "      <td>10.0</td>\n",
       "      <td>5.0</td>\n",
       "      <td>36071</td>\n",
       "      <td>MM13+</td>\n",
       "    </tr>\n",
       "    <tr>\n",
       "      <td>4</td>\n",
       "      <td>24757552</td>\n",
       "      <td>0</td>\n",
       "      <td>0</td>\n",
       "      <td>0</td>\n",
       "      <td>12343</td>\n",
       "      <td>36.0</td>\n",
       "      <td>0.0</td>\n",
       "      <td>5.0</td>\n",
       "      <td>0.0</td>\n",
       "      <td>0.0</td>\n",
       "      <td>36071</td>\n",
       "      <td>MM13+</td>\n",
       "    </tr>\n",
       "    <tr>\n",
       "      <td>...</td>\n",
       "      <td>...</td>\n",
       "      <td>...</td>\n",
       "      <td>...</td>\n",
       "      <td>...</td>\n",
       "      <td>...</td>\n",
       "      <td>...</td>\n",
       "      <td>...</td>\n",
       "      <td>...</td>\n",
       "      <td>...</td>\n",
       "      <td>...</td>\n",
       "      <td>...</td>\n",
       "      <td>...</td>\n",
       "    </tr>\n",
       "    <tr>\n",
       "      <td>715277</td>\n",
       "      <td>36768017415</td>\n",
       "      <td>0</td>\n",
       "      <td>0</td>\n",
       "      <td>0</td>\n",
       "      <td>98590</td>\n",
       "      <td>5.0</td>\n",
       "      <td>0.0</td>\n",
       "      <td>0.0</td>\n",
       "      <td>0.0</td>\n",
       "      <td>0.0</td>\n",
       "      <td>36071</td>\n",
       "      <td>MM13+</td>\n",
       "    </tr>\n",
       "    <tr>\n",
       "      <td>715278</td>\n",
       "      <td>45759217412</td>\n",
       "      <td>0</td>\n",
       "      <td>2051</td>\n",
       "      <td>0</td>\n",
       "      <td>3176</td>\n",
       "      <td>1.0</td>\n",
       "      <td>0.0</td>\n",
       "      <td>0.0</td>\n",
       "      <td>5.0</td>\n",
       "      <td>1.0</td>\n",
       "      <td>36071</td>\n",
       "      <td>MM13+</td>\n",
       "    </tr>\n",
       "    <tr>\n",
       "      <td>715279</td>\n",
       "      <td>47399734805</td>\n",
       "      <td>0</td>\n",
       "      <td>0</td>\n",
       "      <td>0</td>\n",
       "      <td>447230</td>\n",
       "      <td>4.0</td>\n",
       "      <td>3.0</td>\n",
       "      <td>0.0</td>\n",
       "      <td>0.0</td>\n",
       "      <td>0.0</td>\n",
       "      <td>36071</td>\n",
       "      <td>MM13+</td>\n",
       "    </tr>\n",
       "    <tr>\n",
       "      <td>715280</td>\n",
       "      <td>55441779912</td>\n",
       "      <td>0</td>\n",
       "      <td>0</td>\n",
       "      <td>0</td>\n",
       "      <td>690722</td>\n",
       "      <td>18.0</td>\n",
       "      <td>0.0</td>\n",
       "      <td>8.0</td>\n",
       "      <td>0.0</td>\n",
       "      <td>0.0</td>\n",
       "      <td>36071</td>\n",
       "      <td>MM13+</td>\n",
       "    </tr>\n",
       "    <tr>\n",
       "      <td>715281</td>\n",
       "      <td>58231825812</td>\n",
       "      <td>2346</td>\n",
       "      <td>2346</td>\n",
       "      <td>2346</td>\n",
       "      <td>235743</td>\n",
       "      <td>38.0</td>\n",
       "      <td>0.0</td>\n",
       "      <td>13.0</td>\n",
       "      <td>12.0</td>\n",
       "      <td>1.0</td>\n",
       "      <td>36071</td>\n",
       "      <td>MM13+</td>\n",
       "    </tr>\n",
       "  </tbody>\n",
       "</table>\n",
       "<p>715282 rows × 12 columns</p>\n",
       "</div>"
      ],
      "text/plain": [
       "        current_customer_id  ct_listen_total_audioshows_p90  \\\n",
       "0                   1941142                               0   \n",
       "1                  10436671                               0   \n",
       "2                  10954749                               0   \n",
       "3                  24460852                               0   \n",
       "4                  24757552                               0   \n",
       "...                     ...                             ...   \n",
       "715277          36768017415                               0   \n",
       "715278          45759217412                               0   \n",
       "715279          47399734805                               0   \n",
       "715280          55441779912                               0   \n",
       "715281          58231825812                            2346   \n",
       "\n",
       "        ct_listen_total_originals_p90  ct_listen_total_under_1_hour_p90  \\\n",
       "0                                   0                                 0   \n",
       "1                                   0                              4548   \n",
       "2                                   0                                 0   \n",
       "3                                   0                                 0   \n",
       "4                                   0                                 0   \n",
       "...                               ...                               ...   \n",
       "715277                              0                                 0   \n",
       "715278                           2051                                 0   \n",
       "715279                              0                                 0   \n",
       "715280                              0                                 0   \n",
       "715281                           2346                              2346   \n",
       "\n",
       "        listen_total  ct_sessn_wma_detail_p90  ct_sessn_wma_pc_p90  \\\n",
       "0               3690                      0.0                  0.0   \n",
       "1             117850                      2.0                  0.0   \n",
       "2             103146                     18.0                  2.0   \n",
       "3             313433                     79.0                  0.0   \n",
       "4              12343                     36.0                  0.0   \n",
       "...              ...                      ...                  ...   \n",
       "715277         98590                      5.0                  0.0   \n",
       "715278          3176                      1.0                  0.0   \n",
       "715279        447230                      4.0                  3.0   \n",
       "715280        690722                     18.0                  0.0   \n",
       "715281        235743                     38.0                  0.0   \n",
       "\n",
       "        ct_sessn_wma_moble_p90  ct_tot_open_p90  ct_tot_click_p90  \\\n",
       "0                          0.0              0.0               0.0   \n",
       "1                          0.0              3.0               0.0   \n",
       "2                          0.0              2.0               0.0   \n",
       "3                         11.0             10.0               5.0   \n",
       "4                          5.0              0.0               0.0   \n",
       "...                        ...              ...               ...   \n",
       "715277                     0.0              0.0               0.0   \n",
       "715278                     0.0              5.0               1.0   \n",
       "715279                     0.0              0.0               0.0   \n",
       "715280                     8.0              0.0               0.0   \n",
       "715281                    13.0             12.0               1.0   \n",
       "\n",
       "        marketplace_id tenure_grp  \n",
       "0                36071      MM13+  \n",
       "1                36071      MM13+  \n",
       "2                36071      MM13+  \n",
       "3                36071      MM13+  \n",
       "4                36071      MM13+  \n",
       "...                ...        ...  \n",
       "715277           36071      MM13+  \n",
       "715278           36071      MM13+  \n",
       "715279           36071      MM13+  \n",
       "715280           36071      MM13+  \n",
       "715281           36071      MM13+  \n",
       "\n",
       "[715282 rows x 12 columns]"
      ]
     },
     "execution_count": 6,
     "metadata": {},
     "output_type": "execute_result"
    }
   ],
   "source": [
    "# Replace NA\n",
    "replace_na(mm1_3)\n",
    "replace_na(mm4_6)\n",
    "replace_na(mm7_12)\n",
    "replace_na(mm13_)"
   ]
  },
  {
   "cell_type": "code",
   "execution_count": 7,
   "metadata": {},
   "outputs": [],
   "source": [
    "# Add new column to calculate hours of listening per day\n",
    "mm1_3['listen_total_per_day'] = (mm1_3['listen_total']/324000)\n",
    "mm4_6['listen_total_per_day'] = (mm4_6['listen_total']/324000)\n",
    "mm7_12['listen_total_per_day'] = (mm7_12['listen_total']/324000)\n",
    "mm13_['listen_total_per_day'] = (mm13_['listen_total']/324000)"
   ]
  },
  {
   "cell_type": "code",
   "execution_count": 8,
   "metadata": {},
   "outputs": [],
   "source": [
    "# Exclude outliers: Data cleaning for listening total > 24h/day \n",
    "mm1_3c = mm1_3[mm1_3.listen_total_per_day<24]\n",
    "mm4_6c = mm4_6[mm4_6.listen_total_per_day<24]\n",
    "mm7_12c = mm7_12[mm7_12.listen_total_per_day<24]\n",
    "mm13_c = mm13_[mm13_.listen_total_per_day<24]"
   ]
  },
  {
   "cell_type": "code",
   "execution_count": 9,
   "metadata": {},
   "outputs": [
    {
     "name": "stdout",
     "output_type": "stream",
     "text": [
      "(165117, 13)\n",
      "(165117, 13)\n",
      "(116414, 13)\n",
      "(116413, 13)\n",
      "(165913, 13)\n",
      "(165911, 13)\n",
      "(715282, 13)\n",
      "(715281, 13)\n"
     ]
    }
   ],
   "source": [
    "# Checks for pre- and post-cleaning\n",
    "print(mm1_3.shape,mm1_3c.shape, sep='\\n')\n",
    "print(mm4_6.shape,mm4_6c.shape, sep='\\n')\n",
    "print(mm7_12.shape,mm7_12c.shape, sep='\\n')\n",
    "print(mm13_.shape,mm13_c.shape, sep='\\n')"
   ]
  },
  {
   "cell_type": "markdown",
   "metadata": {},
   "source": [
    "## Drop non-relevant variables (i.e. not used for clustering)"
   ]
  },
  {
   "cell_type": "code",
   "execution_count": 10,
   "metadata": {},
   "outputs": [],
   "source": [
    "mm1_3ck = mm1_3c.drop(columns=['current_customer_id','marketplace_id','tenure_grp'])\n",
    "mm4_6ck = mm4_6c.drop(columns=['current_customer_id','marketplace_id','tenure_grp'])\n",
    "mm7_12ck = mm7_12c.drop(columns=['current_customer_id','marketplace_id','tenure_grp'])\n",
    "mm13_ck = mm13_c.drop(columns=['current_customer_id','marketplace_id','tenure_grp'])"
   ]
  },
  {
   "cell_type": "code",
   "execution_count": 11,
   "metadata": {},
   "outputs": [
    {
     "name": "stdout",
     "output_type": "stream",
     "text": [
      "(165117, 13)\n",
      "(165117, 10)\n",
      "(116413, 13)\n",
      "(116413, 10)\n",
      "(165911, 13)\n",
      "(165911, 10)\n",
      "(715281, 13)\n",
      "(715281, 10)\n"
     ]
    }
   ],
   "source": [
    "print(mm1_3c.shape,mm1_3ck.shape, sep='\\n')\n",
    "print(mm4_6c.shape,mm4_6ck.shape, sep='\\n')\n",
    "print(mm7_12c.shape,mm7_12ck.shape, sep='\\n')\n",
    "print(mm13_c.shape,mm13_ck.shape, sep='\\n')"
   ]
  },
  {
   "cell_type": "code",
   "execution_count": 12,
   "metadata": {},
   "outputs": [
    {
     "data": {
      "text/html": [
       "<div>\n",
       "<style scoped>\n",
       "    .dataframe tbody tr th:only-of-type {\n",
       "        vertical-align: middle;\n",
       "    }\n",
       "\n",
       "    .dataframe tbody tr th {\n",
       "        vertical-align: top;\n",
       "    }\n",
       "\n",
       "    .dataframe thead th {\n",
       "        text-align: right;\n",
       "    }\n",
       "</style>\n",
       "<table border=\"1\" class=\"dataframe\">\n",
       "  <thead>\n",
       "    <tr style=\"text-align: right;\">\n",
       "      <th></th>\n",
       "      <th>ct_listen_total_audioshows_p90</th>\n",
       "      <th>ct_listen_total_originals_p90</th>\n",
       "      <th>ct_listen_total_under_1_hour_p90</th>\n",
       "      <th>listen_total</th>\n",
       "      <th>ct_sessn_wma_detail_p90</th>\n",
       "      <th>ct_sessn_wma_pc_p90</th>\n",
       "      <th>ct_sessn_wma_moble_p90</th>\n",
       "      <th>ct_tot_open_p90</th>\n",
       "      <th>ct_tot_click_p90</th>\n",
       "      <th>listen_total_per_day</th>\n",
       "    </tr>\n",
       "  </thead>\n",
       "  <tbody>\n",
       "    <tr>\n",
       "      <td>0</td>\n",
       "      <td>0</td>\n",
       "      <td>0</td>\n",
       "      <td>0</td>\n",
       "      <td>3414</td>\n",
       "      <td>4.0</td>\n",
       "      <td>0.0</td>\n",
       "      <td>2.0</td>\n",
       "      <td>0.0</td>\n",
       "      <td>0.0</td>\n",
       "      <td>0.010537</td>\n",
       "    </tr>\n",
       "    <tr>\n",
       "      <td>1</td>\n",
       "      <td>0</td>\n",
       "      <td>0</td>\n",
       "      <td>0</td>\n",
       "      <td>32332</td>\n",
       "      <td>32.0</td>\n",
       "      <td>0.0</td>\n",
       "      <td>1.0</td>\n",
       "      <td>1.0</td>\n",
       "      <td>0.0</td>\n",
       "      <td>0.099790</td>\n",
       "    </tr>\n",
       "    <tr>\n",
       "      <td>2</td>\n",
       "      <td>0</td>\n",
       "      <td>0</td>\n",
       "      <td>0</td>\n",
       "      <td>5222</td>\n",
       "      <td>11.0</td>\n",
       "      <td>0.0</td>\n",
       "      <td>1.0</td>\n",
       "      <td>0.0</td>\n",
       "      <td>0.0</td>\n",
       "      <td>0.016117</td>\n",
       "    </tr>\n",
       "    <tr>\n",
       "      <td>3</td>\n",
       "      <td>0</td>\n",
       "      <td>0</td>\n",
       "      <td>0</td>\n",
       "      <td>519</td>\n",
       "      <td>0.0</td>\n",
       "      <td>0.0</td>\n",
       "      <td>1.0</td>\n",
       "      <td>9.0</td>\n",
       "      <td>1.0</td>\n",
       "      <td>0.001602</td>\n",
       "    </tr>\n",
       "    <tr>\n",
       "      <td>4</td>\n",
       "      <td>0</td>\n",
       "      <td>0</td>\n",
       "      <td>0</td>\n",
       "      <td>75382</td>\n",
       "      <td>23.0</td>\n",
       "      <td>1.0</td>\n",
       "      <td>6.0</td>\n",
       "      <td>5.0</td>\n",
       "      <td>1.0</td>\n",
       "      <td>0.232660</td>\n",
       "    </tr>\n",
       "  </tbody>\n",
       "</table>\n",
       "</div>"
      ],
      "text/plain": [
       "   ct_listen_total_audioshows_p90  ct_listen_total_originals_p90  \\\n",
       "0                               0                              0   \n",
       "1                               0                              0   \n",
       "2                               0                              0   \n",
       "3                               0                              0   \n",
       "4                               0                              0   \n",
       "\n",
       "   ct_listen_total_under_1_hour_p90  listen_total  ct_sessn_wma_detail_p90  \\\n",
       "0                                 0          3414                      4.0   \n",
       "1                                 0         32332                     32.0   \n",
       "2                                 0          5222                     11.0   \n",
       "3                                 0           519                      0.0   \n",
       "4                                 0         75382                     23.0   \n",
       "\n",
       "   ct_sessn_wma_pc_p90  ct_sessn_wma_moble_p90  ct_tot_open_p90  \\\n",
       "0                  0.0                     2.0              0.0   \n",
       "1                  0.0                     1.0              1.0   \n",
       "2                  0.0                     1.0              0.0   \n",
       "3                  0.0                     1.0              9.0   \n",
       "4                  1.0                     6.0              5.0   \n",
       "\n",
       "   ct_tot_click_p90  listen_total_per_day  \n",
       "0               0.0              0.010537  \n",
       "1               0.0              0.099790  \n",
       "2               0.0              0.016117  \n",
       "3               1.0              0.001602  \n",
       "4               1.0              0.232660  "
      ]
     },
     "execution_count": 12,
     "metadata": {},
     "output_type": "execute_result"
    }
   ],
   "source": [
    "# Check output after removing non-relevant variables\n",
    "mm1_3ck.head()"
   ]
  },
  {
   "cell_type": "markdown",
   "metadata": {},
   "source": [
    "## Normalise all data sets to optimise for K-means"
   ]
  },
  {
   "cell_type": "code",
   "execution_count": 13,
   "metadata": {},
   "outputs": [],
   "source": [
    "std = StandardScaler() "
   ]
  },
  {
   "cell_type": "code",
   "execution_count": 14,
   "metadata": {},
   "outputs": [],
   "source": [
    "mm1_3cks = std.fit_transform(mm1_3ck)\n",
    "mm4_6cks = std.fit_transform(mm4_6ck)\n",
    "mm7_12cks = std.fit_transform(mm7_12ck)\n",
    "mm13_cks = std.fit_transform(mm13_ck)"
   ]
  },
  {
   "cell_type": "code",
   "execution_count": 14,
   "metadata": {},
   "outputs": [
    {
     "data": {
      "text/plain": [
       "array([[-0.14081395, -0.24005687, -0.17781381, ..., -0.75163064,\n",
       "        -0.55602575, -0.55867768],\n",
       "       [-0.14081395, -0.24005687, -0.17781381, ..., -0.45782577,\n",
       "        -0.55602575, -0.44097893],\n",
       "       [-0.14081395, -0.24005687, -0.17781381, ..., -0.75163064,\n",
       "        -0.55602575, -0.55131896],\n",
       "       ...,\n",
       "       [-0.14081395, -0.24005687, -0.17781381, ..., -0.75163064,\n",
       "        -0.55602575,  1.4063924 ],\n",
       "       [-0.04964845, -0.20755793, -0.1032798 , ..., -0.75163064,\n",
       "         0.32357592, -0.49851367],\n",
       "       [-0.14081395, -0.24005687, -0.17781381, ...,  1.30500344,\n",
       "         0.32357592,  0.38445893]])"
      ]
     },
     "execution_count": 14,
     "metadata": {},
     "output_type": "execute_result"
    }
   ],
   "source": [
    "# Checks\n",
    "mm1_3cks.view()"
   ]
  },
  {
   "cell_type": "code",
   "execution_count": 15,
   "metadata": {},
   "outputs": [
    {
     "data": {
      "text/plain": [
       "(165117, 10)"
      ]
     },
     "execution_count": 15,
     "metadata": {},
     "output_type": "execute_result"
    }
   ],
   "source": [
    "mm1_3cks.shape"
   ]
  },
  {
   "cell_type": "markdown",
   "metadata": {},
   "source": [
    "## Set K-means algorithm"
   ]
  },
  {
   "cell_type": "code",
   "execution_count": 16,
   "metadata": {},
   "outputs": [],
   "source": [
    "kmeans = KMeans(n_clusters = 4)"
   ]
  },
  {
   "cell_type": "code",
   "execution_count": null,
   "metadata": {},
   "outputs": [],
   "source": [
    "# Using defined function to run k-means (not recommended)\n",
    "kmodel1_3 = kmeans.fit(mm1_3cks)\n",
    "kmodel4_6 = kmeans.fit(mm4_6cks)\n",
    "kmodel7_12 = kmeans.fit(mm7_12cks)\n",
    "kmodel13_ = kmeans.fit(mm13_cks)"
   ]
  },
  {
   "cell_type": "code",
   "execution_count": 15,
   "metadata": {},
   "outputs": [],
   "source": [
    "# Using KMeans to produce clustering results\n",
    "kmodel1_3 = KMeans(n_clusters=4).fit(mm1_3cks)\n",
    "kmodel4_6 = KMeans(n_clusters=4).fit(mm4_6cks)\n",
    "kmodel7_12= KMeans(n_clusters=4).fit(mm7_12cks)\n",
    "kmodel13_ = KMeans(n_clusters=4).fit(mm13_cks)"
   ]
  },
  {
   "cell_type": "code",
   "execution_count": 16,
   "metadata": {},
   "outputs": [],
   "source": [
    "labels1_3 = kmodel1_3.labels_\n",
    "labels4_6 = kmodel4_6.labels_\n",
    "labels7_12 = kmodel7_12.labels_\n",
    "labels13_ = kmodel13_.labels_"
   ]
  },
  {
   "cell_type": "markdown",
   "metadata": {},
   "source": [
    "## 4-cluster results review"
   ]
  },
  {
   "cell_type": "code",
   "execution_count": 17,
   "metadata": {},
   "outputs": [],
   "source": [
    "from sklearn import metrics\n",
    "from sklearn.metrics import pairwise_distances\n",
    "from sklearn import datasets"
   ]
  },
  {
   "cell_type": "markdown",
   "metadata": {},
   "source": [
    "#### Silhouette Coefficient"
   ]
  },
  {
   "cell_type": "code",
   "execution_count": 48,
   "metadata": {},
   "outputs": [
    {
     "data": {
      "text/plain": [
       "0.396635637984939"
      ]
     },
     "execution_count": 48,
     "metadata": {},
     "output_type": "execute_result"
    }
   ],
   "source": [
    "metrics.silhouette_score(mm1_3cks,labels1_3, metric='euclidean')"
   ]
  },
  {
   "cell_type": "code",
   "execution_count": 53,
   "metadata": {},
   "outputs": [
    {
     "data": {
      "text/plain": [
       "0.40334083955401107"
      ]
     },
     "execution_count": 53,
     "metadata": {},
     "output_type": "execute_result"
    }
   ],
   "source": [
    "metrics.silhouette_score(mm4_6cks,labels4_6, metric='euclidean')"
   ]
  },
  {
   "cell_type": "code",
   "execution_count": 63,
   "metadata": {},
   "outputs": [
    {
     "data": {
      "text/plain": [
       "0.4202816787388164"
      ]
     },
     "execution_count": 63,
     "metadata": {},
     "output_type": "execute_result"
    }
   ],
   "source": [
    "metrics.silhouette_score(mm7_12cks,labels7_12, metric='euclidean')"
   ]
  },
  {
   "cell_type": "code",
   "execution_count": 65,
   "metadata": {},
   "outputs": [
    {
     "data": {
      "text/plain": [
       "0.42930372435438857"
      ]
     },
     "execution_count": 65,
     "metadata": {},
     "output_type": "execute_result"
    }
   ],
   "source": [
    "metrics.silhouette_score(mm13_cks,labels13_, metric='euclidean')"
   ]
  },
  {
   "cell_type": "markdown",
   "metadata": {},
   "source": [
    "#### Calinski-Harabasz Index"
   ]
  },
  {
   "cell_type": "code",
   "execution_count": 56,
   "metadata": {},
   "outputs": [
    {
     "data": {
      "text/plain": [
       "30393.472673858512"
      ]
     },
     "execution_count": 56,
     "metadata": {},
     "output_type": "execute_result"
    }
   ],
   "source": [
    "metrics.calinski_harabasz_score(mm1_3cks, labels1_3)"
   ]
  },
  {
   "cell_type": "code",
   "execution_count": 66,
   "metadata": {},
   "outputs": [
    {
     "data": {
      "text/plain": [
       "21894.26411236365"
      ]
     },
     "execution_count": 66,
     "metadata": {},
     "output_type": "execute_result"
    }
   ],
   "source": [
    "metrics.calinski_harabasz_score(mm4_6cks, labels4_6)"
   ]
  },
  {
   "cell_type": "code",
   "execution_count": 67,
   "metadata": {},
   "outputs": [
    {
     "data": {
      "text/plain": [
       "30882.013033124145"
      ]
     },
     "execution_count": 67,
     "metadata": {},
     "output_type": "execute_result"
    }
   ],
   "source": [
    "metrics.calinski_harabasz_score(mm7_12cks, labels7_12)"
   ]
  },
  {
   "cell_type": "code",
   "execution_count": 69,
   "metadata": {},
   "outputs": [
    {
     "data": {
      "text/plain": [
       "140495.04077086845"
      ]
     },
     "execution_count": 69,
     "metadata": {},
     "output_type": "execute_result"
    }
   ],
   "source": [
    "metrics.calinski_harabasz_score(mm13_cks, labels13_)"
   ]
  },
  {
   "cell_type": "markdown",
   "metadata": {},
   "source": [
    "#### Davies-Bouldin Index"
   ]
  },
  {
   "cell_type": "code",
   "execution_count": 57,
   "metadata": {},
   "outputs": [
    {
     "data": {
      "text/plain": [
       "1.3520082293406657"
      ]
     },
     "execution_count": 57,
     "metadata": {},
     "output_type": "execute_result"
    }
   ],
   "source": [
    "metrics.davies_bouldin_score(mm1_3cks, labels1_3)"
   ]
  },
  {
   "cell_type": "code",
   "execution_count": 70,
   "metadata": {},
   "outputs": [
    {
     "data": {
      "text/plain": [
       "1.3374085880736275"
      ]
     },
     "execution_count": 70,
     "metadata": {},
     "output_type": "execute_result"
    }
   ],
   "source": [
    "metrics.davies_bouldin_score(mm4_6cks, labels4_6)"
   ]
  },
  {
   "cell_type": "code",
   "execution_count": 71,
   "metadata": {},
   "outputs": [
    {
     "data": {
      "text/plain": [
       "1.3512137095679657"
      ]
     },
     "execution_count": 71,
     "metadata": {},
     "output_type": "execute_result"
    }
   ],
   "source": [
    "metrics.davies_bouldin_score(mm7_12cks, labels7_12)"
   ]
  },
  {
   "cell_type": "code",
   "execution_count": 72,
   "metadata": {},
   "outputs": [
    {
     "data": {
      "text/plain": [
       "1.366302965470422"
      ]
     },
     "execution_count": 72,
     "metadata": {},
     "output_type": "execute_result"
    }
   ],
   "source": [
    "metrics.davies_bouldin_score(mm13_cks, labels13_)"
   ]
  },
  {
   "cell_type": "markdown",
   "metadata": {},
   "source": [
    "## Customers' clusters (based on 4 clusters)"
   ]
  },
  {
   "cell_type": "code",
   "execution_count": 24,
   "metadata": {},
   "outputs": [],
   "source": [
    "# Convert array to series (to concatenate with original data set)\n",
    "labels1_3s = pd.Series(labels1_3)\n",
    "labels4_6s = pd.Series(labels4_6)\n",
    "labels7_12s = pd.Series(labels7_12)\n",
    "labels13_s = pd.Series(labels13_)"
   ]
  },
  {
   "cell_type": "code",
   "execution_count": 30,
   "metadata": {},
   "outputs": [],
   "source": [
    "mm1_3r = pd.concat([mm1_3c, labels1_3s], axis=1)\n",
    "mm4_6r = pd.concat([mm4_6c, labels4_6s], axis=1)\n",
    "mm7_12r = pd.concat([mm7_12c, labels7_12s], axis=1)\n",
    "mm13_r = pd.concat([mm13_c, labels13_s], axis=1)"
   ]
  },
  {
   "cell_type": "code",
   "execution_count": 42,
   "metadata": {},
   "outputs": [],
   "source": [
    "# Rename last column name to cluster\n",
    "mm1_3r = mm1_3r.rename(columns={0: 'cluster'})\n",
    "mm4_6r = mm4_6r.rename(columns={0: 'cluster'})\n",
    "mm7_12r = mm7_12r.rename(columns={0: 'cluster'})\n",
    "mm13_r = mm13_r.rename(columns={0: 'cluster'})"
   ]
  },
  {
   "cell_type": "code",
   "execution_count": 114,
   "metadata": {},
   "outputs": [
    {
     "data": {
      "text/html": [
       "<div>\n",
       "<style scoped>\n",
       "    .dataframe tbody tr th:only-of-type {\n",
       "        vertical-align: middle;\n",
       "    }\n",
       "\n",
       "    .dataframe tbody tr th {\n",
       "        vertical-align: top;\n",
       "    }\n",
       "\n",
       "    .dataframe thead th {\n",
       "        text-align: right;\n",
       "    }\n",
       "</style>\n",
       "<table border=\"1\" class=\"dataframe\">\n",
       "  <thead>\n",
       "    <tr style=\"text-align: right;\">\n",
       "      <th></th>\n",
       "      <th>current_customer_id</th>\n",
       "      <th>ct_listen_total_audioshows_p90</th>\n",
       "      <th>ct_listen_total_originals_p90</th>\n",
       "      <th>ct_listen_total_under_1_hour_p90</th>\n",
       "      <th>listen_total</th>\n",
       "      <th>ct_sessn_wma_detail_p90</th>\n",
       "      <th>ct_sessn_wma_pc_p90</th>\n",
       "      <th>ct_sessn_wma_moble_p90</th>\n",
       "      <th>ct_tot_open_p90</th>\n",
       "      <th>ct_tot_click_p90</th>\n",
       "      <th>marketplace_id</th>\n",
       "      <th>tenure_grp</th>\n",
       "      <th>listen_total_per_day</th>\n",
       "      <th>cluster</th>\n",
       "    </tr>\n",
       "  </thead>\n",
       "  <tbody>\n",
       "    <tr>\n",
       "      <td>0</td>\n",
       "      <td>18446203</td>\n",
       "      <td>0</td>\n",
       "      <td>0</td>\n",
       "      <td>0</td>\n",
       "      <td>3414</td>\n",
       "      <td>4.0</td>\n",
       "      <td>0.0</td>\n",
       "      <td>2.0</td>\n",
       "      <td>0.0</td>\n",
       "      <td>0.0</td>\n",
       "      <td>36071</td>\n",
       "      <td>MM1-3</td>\n",
       "      <td>0.010537</td>\n",
       "      <td>1</td>\n",
       "    </tr>\n",
       "    <tr>\n",
       "      <td>1</td>\n",
       "      <td>28965763</td>\n",
       "      <td>0</td>\n",
       "      <td>0</td>\n",
       "      <td>0</td>\n",
       "      <td>32332</td>\n",
       "      <td>32.0</td>\n",
       "      <td>0.0</td>\n",
       "      <td>1.0</td>\n",
       "      <td>1.0</td>\n",
       "      <td>0.0</td>\n",
       "      <td>36071</td>\n",
       "      <td>MM1-3</td>\n",
       "      <td>0.099790</td>\n",
       "      <td>1</td>\n",
       "    </tr>\n",
       "    <tr>\n",
       "      <td>2</td>\n",
       "      <td>44936973</td>\n",
       "      <td>0</td>\n",
       "      <td>0</td>\n",
       "      <td>0</td>\n",
       "      <td>5222</td>\n",
       "      <td>11.0</td>\n",
       "      <td>0.0</td>\n",
       "      <td>1.0</td>\n",
       "      <td>0.0</td>\n",
       "      <td>0.0</td>\n",
       "      <td>36071</td>\n",
       "      <td>MM1-3</td>\n",
       "      <td>0.016117</td>\n",
       "      <td>1</td>\n",
       "    </tr>\n",
       "    <tr>\n",
       "      <td>3</td>\n",
       "      <td>49334532</td>\n",
       "      <td>0</td>\n",
       "      <td>0</td>\n",
       "      <td>0</td>\n",
       "      <td>519</td>\n",
       "      <td>0.0</td>\n",
       "      <td>0.0</td>\n",
       "      <td>1.0</td>\n",
       "      <td>9.0</td>\n",
       "      <td>1.0</td>\n",
       "      <td>36071</td>\n",
       "      <td>MM1-3</td>\n",
       "      <td>0.001602</td>\n",
       "      <td>0</td>\n",
       "    </tr>\n",
       "    <tr>\n",
       "      <td>4</td>\n",
       "      <td>50390824</td>\n",
       "      <td>0</td>\n",
       "      <td>0</td>\n",
       "      <td>0</td>\n",
       "      <td>75382</td>\n",
       "      <td>23.0</td>\n",
       "      <td>1.0</td>\n",
       "      <td>6.0</td>\n",
       "      <td>5.0</td>\n",
       "      <td>1.0</td>\n",
       "      <td>36071</td>\n",
       "      <td>MM1-3</td>\n",
       "      <td>0.232660</td>\n",
       "      <td>1</td>\n",
       "    </tr>\n",
       "    <tr>\n",
       "      <td>...</td>\n",
       "      <td>...</td>\n",
       "      <td>...</td>\n",
       "      <td>...</td>\n",
       "      <td>...</td>\n",
       "      <td>...</td>\n",
       "      <td>...</td>\n",
       "      <td>...</td>\n",
       "      <td>...</td>\n",
       "      <td>...</td>\n",
       "      <td>...</td>\n",
       "      <td>...</td>\n",
       "      <td>...</td>\n",
       "      <td>...</td>\n",
       "      <td>...</td>\n",
       "    </tr>\n",
       "    <tr>\n",
       "      <td>165112</td>\n",
       "      <td>42717568712</td>\n",
       "      <td>0</td>\n",
       "      <td>0</td>\n",
       "      <td>0</td>\n",
       "      <td>2656</td>\n",
       "      <td>5.0</td>\n",
       "      <td>0.0</td>\n",
       "      <td>1.0</td>\n",
       "      <td>0.0</td>\n",
       "      <td>0.0</td>\n",
       "      <td>36071</td>\n",
       "      <td>MM1-3</td>\n",
       "      <td>0.008198</td>\n",
       "      <td>1</td>\n",
       "    </tr>\n",
       "    <tr>\n",
       "      <td>165113</td>\n",
       "      <td>51352035112</td>\n",
       "      <td>0</td>\n",
       "      <td>0</td>\n",
       "      <td>0</td>\n",
       "      <td>170544</td>\n",
       "      <td>3.0</td>\n",
       "      <td>0.0</td>\n",
       "      <td>2.0</td>\n",
       "      <td>0.0</td>\n",
       "      <td>0.0</td>\n",
       "      <td>36071</td>\n",
       "      <td>MM1-3</td>\n",
       "      <td>0.526370</td>\n",
       "      <td>1</td>\n",
       "    </tr>\n",
       "    <tr>\n",
       "      <td>165114</td>\n",
       "      <td>62238156012</td>\n",
       "      <td>0</td>\n",
       "      <td>0</td>\n",
       "      <td>0</td>\n",
       "      <td>486222</td>\n",
       "      <td>88.0</td>\n",
       "      <td>0.0</td>\n",
       "      <td>22.0</td>\n",
       "      <td>0.0</td>\n",
       "      <td>0.0</td>\n",
       "      <td>36071</td>\n",
       "      <td>MM1-3</td>\n",
       "      <td>1.500685</td>\n",
       "      <td>2</td>\n",
       "    </tr>\n",
       "    <tr>\n",
       "      <td>165115</td>\n",
       "      <td>86165562612</td>\n",
       "      <td>1500</td>\n",
       "      <td>1500</td>\n",
       "      <td>1574</td>\n",
       "      <td>18196</td>\n",
       "      <td>37.0</td>\n",
       "      <td>0.0</td>\n",
       "      <td>6.0</td>\n",
       "      <td>0.0</td>\n",
       "      <td>1.0</td>\n",
       "      <td>36071</td>\n",
       "      <td>MM1-3</td>\n",
       "      <td>0.056160</td>\n",
       "      <td>1</td>\n",
       "    </tr>\n",
       "    <tr>\n",
       "      <td>165116</td>\n",
       "      <td>9223372034582810251</td>\n",
       "      <td>0</td>\n",
       "      <td>0</td>\n",
       "      <td>0</td>\n",
       "      <td>235138</td>\n",
       "      <td>77.0</td>\n",
       "      <td>0.0</td>\n",
       "      <td>8.0</td>\n",
       "      <td>7.0</td>\n",
       "      <td>1.0</td>\n",
       "      <td>36071</td>\n",
       "      <td>MM1-3</td>\n",
       "      <td>0.725735</td>\n",
       "      <td>0</td>\n",
       "    </tr>\n",
       "  </tbody>\n",
       "</table>\n",
       "<p>165117 rows × 14 columns</p>\n",
       "</div>"
      ],
      "text/plain": [
       "        current_customer_id  ct_listen_total_audioshows_p90  \\\n",
       "0                  18446203                               0   \n",
       "1                  28965763                               0   \n",
       "2                  44936973                               0   \n",
       "3                  49334532                               0   \n",
       "4                  50390824                               0   \n",
       "...                     ...                             ...   \n",
       "165112          42717568712                               0   \n",
       "165113          51352035112                               0   \n",
       "165114          62238156012                               0   \n",
       "165115          86165562612                            1500   \n",
       "165116  9223372034582810251                               0   \n",
       "\n",
       "        ct_listen_total_originals_p90  ct_listen_total_under_1_hour_p90  \\\n",
       "0                                   0                                 0   \n",
       "1                                   0                                 0   \n",
       "2                                   0                                 0   \n",
       "3                                   0                                 0   \n",
       "4                                   0                                 0   \n",
       "...                               ...                               ...   \n",
       "165112                              0                                 0   \n",
       "165113                              0                                 0   \n",
       "165114                              0                                 0   \n",
       "165115                           1500                              1574   \n",
       "165116                              0                                 0   \n",
       "\n",
       "        listen_total  ct_sessn_wma_detail_p90  ct_sessn_wma_pc_p90  \\\n",
       "0               3414                      4.0                  0.0   \n",
       "1              32332                     32.0                  0.0   \n",
       "2               5222                     11.0                  0.0   \n",
       "3                519                      0.0                  0.0   \n",
       "4              75382                     23.0                  1.0   \n",
       "...              ...                      ...                  ...   \n",
       "165112          2656                      5.0                  0.0   \n",
       "165113        170544                      3.0                  0.0   \n",
       "165114        486222                     88.0                  0.0   \n",
       "165115         18196                     37.0                  0.0   \n",
       "165116        235138                     77.0                  0.0   \n",
       "\n",
       "        ct_sessn_wma_moble_p90  ct_tot_open_p90  ct_tot_click_p90  \\\n",
       "0                          2.0              0.0               0.0   \n",
       "1                          1.0              1.0               0.0   \n",
       "2                          1.0              0.0               0.0   \n",
       "3                          1.0              9.0               1.0   \n",
       "4                          6.0              5.0               1.0   \n",
       "...                        ...              ...               ...   \n",
       "165112                     1.0              0.0               0.0   \n",
       "165113                     2.0              0.0               0.0   \n",
       "165114                    22.0              0.0               0.0   \n",
       "165115                     6.0              0.0               1.0   \n",
       "165116                     8.0              7.0               1.0   \n",
       "\n",
       "        marketplace_id tenure_grp  listen_total_per_day  cluster  \n",
       "0                36071      MM1-3              0.010537        1  \n",
       "1                36071      MM1-3              0.099790        1  \n",
       "2                36071      MM1-3              0.016117        1  \n",
       "3                36071      MM1-3              0.001602        0  \n",
       "4                36071      MM1-3              0.232660        1  \n",
       "...                ...        ...                   ...      ...  \n",
       "165112           36071      MM1-3              0.008198        1  \n",
       "165113           36071      MM1-3              0.526370        1  \n",
       "165114           36071      MM1-3              1.500685        2  \n",
       "165115           36071      MM1-3              0.056160        1  \n",
       "165116           36071      MM1-3              0.725735        0  \n",
       "\n",
       "[165117 rows x 14 columns]"
      ]
     },
     "execution_count": 114,
     "metadata": {},
     "output_type": "execute_result"
    }
   ],
   "source": [
    "mm1_3r"
   ]
  },
  {
   "cell_type": "code",
   "execution_count": 65,
   "metadata": {},
   "outputs": [],
   "source": [
    "# Breakdown into clusters\n",
    "mm1_3r_cluster0 = mm1_3r[(mm1_3r.cluster==0)]\n",
    "mm1_3r_cluster1 = mm1_3r[(mm1_3r.cluster==1)]\n",
    "mm1_3r_cluster2 = mm1_3r[(mm1_3r.cluster==2)]\n",
    "mm1_3r_cluster3 = mm1_3r[(mm1_3r.cluster==3)]\n",
    "\n",
    "mm4_6r_cluster0 = mm4_6r[(mm4_6r.cluster==0)]\n",
    "mm4_6r_cluster1 = mm4_6r[(mm4_6r.cluster==1)]\n",
    "mm4_6r_cluster2 = mm4_6r[(mm4_6r.cluster==2)]\n",
    "mm4_6r_cluster3 = mm4_6r[(mm4_6r.cluster==3)]\n",
    "\n",
    "mm7_12r_cluster0 = mm7_12r[(mm7_12r.cluster==0)]\n",
    "mm7_12r_cluster1 = mm7_12r[(mm7_12r.cluster==1)]\n",
    "mm7_12r_cluster2 = mm7_12r[(mm7_12r.cluster==2)]\n",
    "mm7_12r_cluster3 = mm7_12r[(mm7_12r.cluster==3)]\n",
    "\n",
    "mm13_r_cluster0 = mm13_r[(mm13_r.cluster==0)]\n",
    "mm13_r_cluster1 = mm13_r[(mm13_r.cluster==1)]\n",
    "mm13_r_cluster2 = mm13_r[(mm13_r.cluster==2)]\n",
    "mm13_r_cluster3 = mm13_r[(mm13_r.cluster==3)]"
   ]
  },
  {
   "cell_type": "markdown",
   "metadata": {},
   "source": [
    "## 4-cluster sanity checks (before output)"
   ]
  },
  {
   "cell_type": "code",
   "execution_count": 67,
   "metadata": {},
   "outputs": [
    {
     "name": "stdout",
     "output_type": "stream",
     "text": [
      "MM1-3/Cluster0 records: 32147\n",
      "MM1-3/Cluster1 records: 120568\n",
      "MM1-3/Cluster2 records: 11139\n",
      "MM1-3/Cluster3 records: 1263\n",
      "MM1-3 zero check: 0\n"
     ]
    }
   ],
   "source": [
    "# Count (value check of individual clusters) for MM1-3\n",
    "print(\"MM1-3/Cluster0 records:\", len(mm1_3r_cluster0))\n",
    "print(\"MM1-3/Cluster1 records:\", len(mm1_3r_cluster1))\n",
    "print(\"MM1-3/Cluster2 records:\", len(mm1_3r_cluster2))\n",
    "print(\"MM1-3/Cluster3 records:\", len(mm1_3r_cluster3))\n",
    "print(\"MM1-3 zero check:\", len(mm1_3r_cluster0)+len(mm1_3r_cluster1)+len(mm1_3r_cluster2)+len(mm1_3r_cluster3)-len(mm1_3c))"
   ]
  },
  {
   "cell_type": "code",
   "execution_count": 68,
   "metadata": {},
   "outputs": [
    {
     "name": "stdout",
     "output_type": "stream",
     "text": [
      "MM4-6/Cluster0 records: 835\n",
      "MM4-6/Cluster1 records: 85566\n",
      "MM4-6/Cluster2 records: 8141\n",
      "MM4-6/Cluster3 records: 21871\n",
      "MM4-6 zero check: 0\n"
     ]
    }
   ],
   "source": [
    "# Count (value check of individual clusters) for MM4-6\n",
    "print(\"MM4-6/Cluster0 records:\", len(mm4_6r_cluster0))\n",
    "print(\"MM4-6/Cluster1 records:\", len(mm4_6r_cluster1))\n",
    "print(\"MM4-6/Cluster2 records:\", len(mm4_6r_cluster2))\n",
    "print(\"MM4-6/Cluster3 records:\", len(mm4_6r_cluster3))\n",
    "print(\"MM4-6 zero check:\", len(mm4_6r_cluster0)+len(mm4_6r_cluster1)+len(mm4_6r_cluster2)+len(mm4_6r_cluster3)-len(mm4_6c))"
   ]
  },
  {
   "cell_type": "code",
   "execution_count": 69,
   "metadata": {},
   "outputs": [
    {
     "name": "stdout",
     "output_type": "stream",
     "text": [
      "MM7-12/Cluster0 records: 11626\n",
      "MM7-12/Cluster0 records: 124207\n",
      "MM7-12/Cluster0 records: 28679\n",
      "MM7-12/Cluster0 records: 1399\n",
      "MM7-12 zero check: 0\n"
     ]
    }
   ],
   "source": [
    "# Count (value check of individual clusters) for MM7-12\n",
    "print(\"MM7-12/Cluster0 records:\", len(mm7_12r_cluster0))\n",
    "print(\"MM7-12/Cluster1 records:\", len(mm7_12r_cluster1))\n",
    "print(\"MM7-12/Cluster2 records:\", len(mm7_12r_cluster2))\n",
    "print(\"MM7-12/Cluster3 records:\", len(mm7_12r_cluster3))\n",
    "print(\"MM7-12 zero check:\", len(mm7_12r_cluster0)+len(mm7_12r_cluster1)+len(mm7_12r_cluster2)+len(mm7_12r_cluster3)-len(mm7_12c))"
   ]
  },
  {
   "cell_type": "code",
   "execution_count": 70,
   "metadata": {},
   "outputs": [
    {
     "name": "stdout",
     "output_type": "stream",
     "text": [
      "MM13+/Cluster0 records: 57742\n",
      "MM13+/Cluster0 records: 528603\n",
      "MM13+/Cluster0 records: 8590\n",
      "MM13+/Cluster0 records: 120346\n",
      "MM13+ zero check: 0\n"
     ]
    }
   ],
   "source": [
    "# Count (value check of individual clusters) for MM13+\n",
    "print(\"MM13+/Cluster0 records:\", len(mm13_r_cluster0))\n",
    "print(\"MM13+/Cluster1 records:\", len(mm13_r_cluster1))\n",
    "print(\"MM13+/Cluster2 records:\", len(mm13_r_cluster2))\n",
    "print(\"MM13+/Cluster3 records:\", len(mm13_r_cluster3))\n",
    "print(\"MM13+ zero check:\", len(mm13_r_cluster0)+len(mm13_r_cluster1)+len(mm13_r_cluster2)+len(mm13_r_cluster3)-len(mm13_c))"
   ]
  },
  {
   "cell_type": "code",
   "execution_count": 78,
   "metadata": {},
   "outputs": [],
   "source": [
    "mm1_3r_cluster0d = mm1_3r_cluster0.describe()\n",
    "mm1_3r_cluster1d = mm1_3r_cluster1.describe()\n",
    "mm1_3r_cluster2d = mm1_3r_cluster2.describe()\n",
    "mm1_3r_cluster3d = mm1_3r_cluster3.describe()\n",
    "\n",
    "mm4_6r_cluster0d = mm4_6r_cluster0.describe()\n",
    "mm4_6r_cluster1d = mm4_6r_cluster1.describe()\n",
    "mm4_6r_cluster2d = mm4_6r_cluster2.describe()\n",
    "mm4_6r_cluster3d = mm4_6r_cluster3.describe()\n",
    "\n",
    "mm7_12r_cluster0d = mm7_12r_cluster0.describe()\n",
    "mm7_12r_cluster1d = mm7_12r_cluster1.describe()\n",
    "mm7_12r_cluster2d = mm7_12r_cluster2.describe()\n",
    "mm7_12r_cluster3d = mm7_12r_cluster3.describe()\n",
    "\n",
    "mm13_r_cluster0d = mm13_r_cluster0.describe()\n",
    "mm13_r_cluster1d = mm13_r_cluster1.describe()\n",
    "mm13_r_cluster2d = mm13_r_cluster2.describe()\n",
    "mm13_r_cluster3d = mm13_r_cluster3.describe()"
   ]
  },
  {
   "cell_type": "markdown",
   "metadata": {},
   "source": [
    "## Export 4-cluster results"
   ]
  },
  {
   "cell_type": "code",
   "execution_count": 75,
   "metadata": {},
   "outputs": [],
   "source": [
    "# Export results for comparison\n",
    "mm1_3r_cluster0d.to_csv(r'C:\\Users\\lyejie\\de_1-3_cluster0.csv')\n",
    "mm1_3r_cluster1d.to_csv(r'C:\\Users\\lyejie\\de_1-3_cluster1.csv')\n",
    "mm1_3r_cluster2d.to_csv(r'C:\\Users\\lyejie\\de_1-3_cluster2.csv')\n",
    "mm1_3r_cluster3d.to_csv(r'C:\\Users\\lyejie\\de_1-3_cluster3.csv')"
   ]
  },
  {
   "cell_type": "code",
   "execution_count": 76,
   "metadata": {},
   "outputs": [],
   "source": [
    "# Export other results for comparison\n",
    "mm4_6r_cluster0d.to_csv(r'C:\\Users\\lyejie\\de_4-6_cluster0.csv')\n",
    "mm4_6r_cluster1d.to_csv(r'C:\\Users\\lyejie\\de_4-6_cluster1.csv')\n",
    "mm4_6r_cluster2d.to_csv(r'C:\\Users\\lyejie\\de_4-6_cluster2.csv')\n",
    "mm4_6r_cluster3d.to_csv(r'C:\\Users\\lyejie\\de_4-6_cluster3.csv')\n",
    "\n",
    "mm7_12r_cluster0d.to_csv(r'C:\\Users\\lyejie\\de_7-12_cluster0.csv')\n",
    "mm7_12r_cluster1d.to_csv(r'C:\\Users\\lyejie\\de_7-12_cluster1.csv')\n",
    "mm7_12r_cluster2d.to_csv(r'C:\\Users\\lyejie\\de_7-12_cluster2.csv')\n",
    "mm7_12r_cluster3d.to_csv(r'C:\\Users\\lyejie\\de_7-12_cluster3.csv')\n",
    "\n",
    "mm13_r_cluster0d.to_csv(r'C:\\Users\\lyejie\\de_13+_cluster0.csv')\n",
    "mm13_r_cluster1d.to_csv(r'C:\\Users\\lyejie\\de_13+_cluster1.csv')\n",
    "mm13_r_cluster2d.to_csv(r'C:\\Users\\lyejie\\de_13+_cluster2.csv')\n",
    "mm13_r_cluster3d.to_csv(r'C:\\Users\\lyejie\\de_13+_cluster3.csv')"
   ]
  },
  {
   "cell_type": "code",
   "execution_count": null,
   "metadata": {},
   "outputs": [],
   "source": [
    "# PLACEHOLDER: export full data set\n",
    "mm1_3r_cluster0.to_csv(r'C:\\Users\\lyejie\\de_1-3_cluster0_DATA.csv')\n",
    "..."
   ]
  },
  {
   "cell_type": "markdown",
   "metadata": {},
   "source": [
    "## Elbow chart for optimisation of clusters"
   ]
  },
  {
   "cell_type": "code",
   "execution_count": 79,
   "metadata": {},
   "outputs": [],
   "source": [
    "# Packages not yet installed but relevant for elbow chart\n",
    "from scipy.spatial.distance import cdist"
   ]
  },
  {
   "cell_type": "code",
   "execution_count": 99,
   "metadata": {},
   "outputs": [],
   "source": [
    "# Calculating values for Distortion and Inertia\n",
    "distortions = [] \n",
    "inertias = [] \n",
    "mapping1 = {} \n",
    "mapping2 = {} \n",
    "K = range(1,10) \n",
    "  \n",
    "for k in K: \n",
    "    #Building and fitting the model \n",
    "    kmeanModel = KMeans(n_clusters=k).fit(mm13_cks) \n",
    "    kmeanModel.fit(mm13_cks)     \n",
    "      \n",
    "    distortions.append(sum(np.min(cdist(mm13_cks, kmeanModel.cluster_centers_, \n",
    "                      'euclidean'),axis=1)) / mm13_cks.shape[0]) \n",
    "    inertias.append(kmeanModel.inertia_) \n",
    "  \n",
    "    mapping1[k] = sum(np.min(cdist(mm13_cks, kmeanModel.cluster_centers_, \n",
    "                 'euclidean'),axis=1)) / mm13_cks.shape[0] \n",
    "    mapping2[k] = kmeanModel.inertia_\n"
   ]
  },
  {
   "cell_type": "code",
   "execution_count": 100,
   "metadata": {},
   "outputs": [
    {
     "name": "stdout",
     "output_type": "stream",
     "text": [
      "1 : 2.243001897643377\n",
      "2 : 1.9569319384129835\n",
      "3 : 1.880723861767407\n",
      "4 : 1.713338532085405\n",
      "5 : 1.6656090632661344\n",
      "6 : 1.56672577204672\n",
      "7 : 1.5382397526016744\n",
      "8 : 1.513035366342109\n",
      "9 : 1.4402827817501127\n"
     ]
    }
   ],
   "source": [
    "# Tabular format for results (Distortion)\n",
    "for key,val in mapping1.items():\n",
    "    print(str(key)+' : '+str(val))"
   ]
  },
  {
   "cell_type": "code",
   "execution_count": 101,
   "metadata": {},
   "outputs": [
    {
     "data": {
      "image/png": "[encoded data removed]",
      "text/plain": [
       "<Figure size 432x288 with 1 Axes>"
      ]
     },
     "metadata": {
      "needs_background": "light"
     },
     "output_type": "display_data"
    }
   ],
   "source": [
    "# Graphical format for results (Distortion)\n",
    "plt.plot(K, distortions, 'bx-')\n",
    "plt.xlabel('Values of K')\n",
    "plt.ylabel('Distortion')\n",
    "plt.title('The Elbow Method using Distortion (MM13+)')\n",
    "plt.show()"
   ]
  },
  {
   "cell_type": "code",
   "execution_count": 102,
   "metadata": {},
   "outputs": [
    {
     "name": "stdout",
     "output_type": "stream",
     "text": [
      "1 : 7152810.000000001\n",
      "2 : 5837671.297242902\n",
      "3 : 5131972.759578439\n",
      "4 : 4500713.368226746\n",
      "5 : 4147761.189590879\n",
      "6 : 3839032.0506530637\n",
      "7 : 3594815.357519567\n",
      "8 : 3367553.4421027005\n",
      "9 : 3141681.1139040226\n"
     ]
    }
   ],
   "source": [
    "# Tabular format for results (Inertia)\n",
    "for key,val in mapping2.items():\n",
    "    print(str(key)+' : '+str(val))"
   ]
  },
  {
   "cell_type": "code",
   "execution_count": 103,
   "metadata": {},
   "outputs": [
    {
     "data": {
      "image/png": "[encoded data removed]",
      "text/plain": [
       "<Figure size 432x288 with 1 Axes>"
      ]
     },
     "metadata": {
      "needs_background": "light"
     },
     "output_type": "display_data"
    }
   ],
   "source": [
    "# Graphical format for results (Inertia)\n",
    "plt.plot(K, inertias, 'bx-')\n",
    "plt.xlabel('Values of K')\n",
    "plt.ylabel('Inertia')\n",
    "plt.title('The Elbow Method using Inertia (MM13+)')\n",
    "plt.show()"
   ]
  },
  {
   "cell_type": "markdown",
   "metadata": {},
   "source": [
    "## Set K-means algorithm from elbow method"
   ]
  },
  {
   "cell_type": "code",
   "execution_count": 104,
   "metadata": {},
   "outputs": [],
   "source": [
    "# Using KMeans to produce clustering results\n",
    "kmodel1_3e = KMeans(n_clusters=3).fit(mm1_3cks)\n",
    "kmodel4_6e = KMeans(n_clusters=3).fit(mm4_6cks)\n",
    "kmodel7_12e= KMeans(n_clusters=3).fit(mm7_12cks)\n",
    "kmodel13_e = KMeans(n_clusters=3).fit(mm13_cks)"
   ]
  },
  {
   "cell_type": "code",
   "execution_count": 105,
   "metadata": {},
   "outputs": [],
   "source": [
    "labels1_3e = kmodel1_3e.labels_\n",
    "labels4_6e = kmodel4_6e.labels_\n",
    "labels7_12e = kmodel7_12e.labels_\n",
    "labels13_e = kmodel13_e.labels_"
   ]
  },
  {
   "cell_type": "markdown",
   "metadata": {},
   "source": [
    "## 3-cluster results review"
   ]
  },
  {
   "cell_type": "markdown",
   "metadata": {},
   "source": [
    "#### Silhouette Coefficient (split due to slower computation)"
   ]
  },
  {
   "cell_type": "code",
   "execution_count": 106,
   "metadata": {},
   "outputs": [
    {
     "data": {
      "text/plain": [
       "0.3892253912913495"
      ]
     },
     "execution_count": 106,
     "metadata": {},
     "output_type": "execute_result"
    }
   ],
   "source": [
    "metrics.silhouette_score(mm1_3cks,labels1_3e, metric='euclidean')"
   ]
  },
  {
   "cell_type": "code",
   "execution_count": 107,
   "metadata": {},
   "outputs": [
    {
     "data": {
      "text/plain": [
       "0.39853877147187244"
      ]
     },
     "execution_count": 107,
     "metadata": {},
     "output_type": "execute_result"
    }
   ],
   "source": [
    "metrics.silhouette_score(mm4_6cks,labels4_6e, metric='euclidean')"
   ]
  },
  {
   "cell_type": "code",
   "execution_count": 108,
   "metadata": {},
   "outputs": [
    {
     "data": {
      "text/plain": [
       "0.4142696477471372"
      ]
     },
     "execution_count": 108,
     "metadata": {},
     "output_type": "execute_result"
    }
   ],
   "source": [
    "metrics.silhouette_score(mm7_12cks,labels7_12e, metric='euclidean')"
   ]
  },
  {
   "cell_type": "code",
   "execution_count": 125,
   "metadata": {},
   "outputs": [
    {
     "data": {
      "text/plain": [
       "0.5104545196073687"
      ]
     },
     "execution_count": 125,
     "metadata": {},
     "output_type": "execute_result"
    }
   ],
   "source": [
    "metrics.silhouette_score(mm13_cks,labels13_e, metric='euclidean')"
   ]
  },
  {
   "cell_type": "markdown",
   "metadata": {},
   "source": [
    "#### Calinski-Harabasz Index"
   ]
  },
  {
   "cell_type": "code",
   "execution_count": 110,
   "metadata": {},
   "outputs": [
    {
     "name": "stdout",
     "output_type": "stream",
     "text": [
      "30304.973745554587\n",
      "21815.8563465463\n",
      "30559.215223865896\n",
      "140829.19419201612\n"
     ]
    }
   ],
   "source": [
    "print(metrics.calinski_harabasz_score(mm1_3cks, labels1_3e))\n",
    "print(metrics.calinski_harabasz_score(mm4_6cks, labels4_6e))\n",
    "print(metrics.calinski_harabasz_score(mm7_12cks, labels7_12e))\n",
    "print(metrics.calinski_harabasz_score(mm13_cks, labels13_e))"
   ]
  },
  {
   "cell_type": "markdown",
   "metadata": {},
   "source": [
    "#### Davies-Bouldin Index"
   ]
  },
  {
   "cell_type": "code",
   "execution_count": 111,
   "metadata": {},
   "outputs": [
    {
     "name": "stdout",
     "output_type": "stream",
     "text": [
      "1.5641342972364611\n",
      "1.5505987717415548\n",
      "1.5752338562330577\n",
      "1.4449655169013085\n"
     ]
    }
   ],
   "source": [
    "print(metrics.davies_bouldin_score(mm1_3cks, labels1_3e))\n",
    "print(metrics.davies_bouldin_score(mm4_6cks, labels4_6e))\n",
    "print(metrics.davies_bouldin_score(mm7_12cks, labels7_12e))\n",
    "print(metrics.davies_bouldin_score(mm13_cks, labels13_e))"
   ]
  },
  {
   "cell_type": "markdown",
   "metadata": {},
   "source": [
    "## Customers' clusters (based on 3 clusters)"
   ]
  },
  {
   "cell_type": "code",
   "execution_count": 115,
   "metadata": {},
   "outputs": [],
   "source": [
    "# Convert array to series (to concatenate with original data set)\n",
    "labels1_3se = pd.Series(labels1_3e)\n",
    "labels4_6se = pd.Series(labels4_6e)\n",
    "labels7_12se = pd.Series(labels7_12e)\n",
    "labels13_se = pd.Series(labels13_e)"
   ]
  },
  {
   "cell_type": "code",
   "execution_count": 116,
   "metadata": {},
   "outputs": [],
   "source": [
    "# Rejoining with original data\n",
    "mm1_3re = pd.concat([mm1_3c, labels1_3se], axis=1)\n",
    "mm4_6re = pd.concat([mm4_6c, labels4_6se], axis=1)\n",
    "mm7_12re = pd.concat([mm7_12c, labels7_12se], axis=1)\n",
    "mm13_re = pd.concat([mm13_c, labels13_se], axis=1)"
   ]
  },
  {
   "cell_type": "code",
   "execution_count": 117,
   "metadata": {},
   "outputs": [],
   "source": [
    "# Rename last column name to cluster\n",
    "mm1_3re = mm1_3re.rename(columns={0: 'cluster'})\n",
    "mm4_6re = mm4_6re.rename(columns={0: 'cluster'})\n",
    "mm7_12re = mm7_12re.rename(columns={0: 'cluster'})\n",
    "mm13_re = mm13_re.rename(columns={0: 'cluster'})"
   ]
  },
  {
   "cell_type": "code",
   "execution_count": 118,
   "metadata": {},
   "outputs": [],
   "source": [
    "# Breakdown into clusters\n",
    "mm1_3re_cluster0 = mm1_3re[(mm1_3re.cluster==0)]\n",
    "mm1_3re_cluster1 = mm1_3re[(mm1_3re.cluster==1)]\n",
    "mm1_3re_cluster2 = mm1_3re[(mm1_3re.cluster==2)]\n",
    "\n",
    "mm4_6re_cluster0 = mm4_6re[(mm4_6re.cluster==0)]\n",
    "mm4_6re_cluster1 = mm4_6re[(mm4_6re.cluster==1)]\n",
    "mm4_6re_cluster2 = mm4_6re[(mm4_6re.cluster==2)]\n",
    "\n",
    "mm7_12re_cluster0 = mm7_12re[(mm7_12re.cluster==0)]\n",
    "mm7_12re_cluster1 = mm7_12re[(mm7_12re.cluster==1)]\n",
    "mm7_12re_cluster2 = mm7_12re[(mm7_12re.cluster==2)]\n",
    "\n",
    "mm13_re_cluster0 = mm13_re[(mm13_re.cluster==0)]\n",
    "mm13_re_cluster1 = mm13_re[(mm13_re.cluster==1)]\n",
    "mm13_re_cluster2 = mm13_re[(mm13_re.cluster==2)]"
   ]
  },
  {
   "cell_type": "markdown",
   "metadata": {},
   "source": [
    "## 3-cluster sanity checks (before output)"
   ]
  },
  {
   "cell_type": "code",
   "execution_count": 119,
   "metadata": {},
   "outputs": [
    {
     "name": "stdout",
     "output_type": "stream",
     "text": [
      "MM1-3/Cluster0 records: 122201\n",
      "MM1-3/Cluster1 records: 10287\n",
      "MM1-3/Cluster2 records: 32629\n",
      "MM1-3 zero check: 0\n"
     ]
    }
   ],
   "source": [
    "# Count (value check of individual clusters) for MM1-3\n",
    "print(\"MM1-3/Cluster0 records:\", len(mm1_3re_cluster0))\n",
    "print(\"MM1-3/Cluster1 records:\", len(mm1_3re_cluster1))\n",
    "print(\"MM1-3/Cluster2 records:\", len(mm1_3re_cluster2))\n",
    "print(\"MM1-3 zero check:\", len(mm1_3re_cluster0)+len(mm1_3re_cluster1)+len(mm1_3re_cluster2)-len(mm1_3c))"
   ]
  },
  {
   "cell_type": "code",
   "execution_count": 120,
   "metadata": {},
   "outputs": [
    {
     "name": "stdout",
     "output_type": "stream",
     "text": [
      "MM4-6/Cluster0 records: 86659\n",
      "MM4-6/Cluster1 records: 7900\n",
      "MM4-6/Cluster2 records: 21854\n",
      "MM4-6 zero check: 0\n"
     ]
    }
   ],
   "source": [
    "# Count (value check of individual clusters) for MM4-6\n",
    "print(\"MM4-6/Cluster0 records:\", len(mm4_6re_cluster0))\n",
    "print(\"MM4-6/Cluster1 records:\", len(mm4_6re_cluster1))\n",
    "print(\"MM4-6/Cluster2 records:\", len(mm4_6re_cluster2))\n",
    "print(\"MM4-6 zero check:\", len(mm4_6re_cluster0)+len(mm4_6re_cluster1)+len(mm4_6re_cluster2)-len(mm4_6c))"
   ]
  },
  {
   "cell_type": "code",
   "execution_count": 121,
   "metadata": {},
   "outputs": [
    {
     "name": "stdout",
     "output_type": "stream",
     "text": [
      "MM7-12/Cluster0 records: 29058\n",
      "MM7-12/Cluster1 records: 11331\n",
      "MM7-12/Cluster2 records: 125522\n",
      "MM7-12 zero check: 0\n"
     ]
    }
   ],
   "source": [
    "# Count (value check of individual clusters) for MM7-12\n",
    "print(\"MM7-12/Cluster0 records:\", len(mm7_12re_cluster0))\n",
    "print(\"MM7-12/Cluster1 records:\", len(mm7_12re_cluster1))\n",
    "print(\"MM7-12/Cluster2 records:\", len(mm7_12re_cluster2))\n",
    "print(\"MM7-12 zero check:\", len(mm7_12re_cluster0)+len(mm7_12re_cluster1)+len(mm7_12re_cluster2)-len(mm7_12c))"
   ]
  },
  {
   "cell_type": "code",
   "execution_count": 122,
   "metadata": {},
   "outputs": [
    {
     "name": "stdout",
     "output_type": "stream",
     "text": [
      "MM13+/Cluster0 records: 588730\n",
      "MM13+/Cluster1 records: 117149\n",
      "MM13+/Cluster2 records: 9402\n",
      "MM13+ zero check: 0\n"
     ]
    }
   ],
   "source": [
    "# Count (value check of individual clusters) for MM13+\n",
    "print(\"MM13+/Cluster0 records:\", len(mm13_re_cluster0))\n",
    "print(\"MM13+/Cluster1 records:\", len(mm13_re_cluster1))\n",
    "print(\"MM13+/Cluster2 records:\", len(mm13_re_cluster2))\n",
    "print(\"MM13+ zero check:\", len(mm13_re_cluster0)+len(mm13_re_cluster1)+len(mm13_re_cluster2)-len(mm13_c))"
   ]
  },
  {
   "cell_type": "code",
   "execution_count": 123,
   "metadata": {},
   "outputs": [],
   "source": [
    "mm1_3re_cluster0d = mm1_3re_cluster0.describe()\n",
    "mm1_3re_cluster1d = mm1_3re_cluster1.describe()\n",
    "mm1_3re_cluster2d = mm1_3re_cluster2.describe()\n",
    "\n",
    "mm4_6re_cluster0d = mm4_6re_cluster0.describe()\n",
    "mm4_6re_cluster1d = mm4_6re_cluster1.describe()\n",
    "mm4_6re_cluster2d = mm4_6re_cluster2.describe()\n",
    "\n",
    "mm7_12re_cluster0d = mm7_12re_cluster0.describe()\n",
    "mm7_12re_cluster1d = mm7_12re_cluster1.describe()\n",
    "mm7_12re_cluster2d = mm7_12re_cluster2.describe()\n",
    "\n",
    "mm13_re_cluster0d = mm13_re_cluster0.describe()\n",
    "mm13_re_cluster1d = mm13_re_cluster1.describe()\n",
    "mm13_re_cluster2d = mm13_re_cluster2.describe()"
   ]
  },
  {
   "cell_type": "markdown",
   "metadata": {},
   "source": [
    "## Export 3-cluster results"
   ]
  },
  {
   "cell_type": "code",
   "execution_count": 124,
   "metadata": {},
   "outputs": [],
   "source": [
    "# Export results for comparison\n",
    "mm1_3re_cluster0d.to_csv(r'C:\\Users\\lyejie\\de_1-3_cluster0e.csv')\n",
    "mm1_3re_cluster1d.to_csv(r'C:\\Users\\lyejie\\de_1-3_cluster1e.csv')\n",
    "mm1_3re_cluster2d.to_csv(r'C:\\Users\\lyejie\\de_1-3_cluster2e.csv')\n",
    "\n",
    "mm4_6re_cluster0d.to_csv(r'C:\\Users\\lyejie\\de_4-6_cluster0e.csv')\n",
    "mm4_6re_cluster1d.to_csv(r'C:\\Users\\lyejie\\de_4-6_cluster1e.csv')\n",
    "mm4_6re_cluster2d.to_csv(r'C:\\Users\\lyejie\\de_4-6_cluster2e.csv')\n",
    "\n",
    "mm7_12re_cluster0d.to_csv(r'C:\\Users\\lyejie\\de_7-12_cluster0e.csv')\n",
    "mm7_12re_cluster1d.to_csv(r'C:\\Users\\lyejie\\de_7-12_cluster1e.csv')\n",
    "mm7_12re_cluster2d.to_csv(r'C:\\Users\\lyejie\\de_7-12_cluster2e.csv')\n",
    "\n",
    "mm13_re_cluster0d.to_csv(r'C:\\Users\\lyejie\\de_13+_cluster0e.csv')\n",
    "mm13_re_cluster1d.to_csv(r'C:\\Users\\lyejie\\de_13+_cluster1e.csv')\n",
    "mm13_re_cluster2d.to_csv(r'C:\\Users\\lyejie\\de_13+_cluster2e.csv')"
   ]
  },
  {
   "cell_type": "code",
   "execution_count": null,
   "metadata": {},
   "outputs": [],
   "source": []
  }
 ],
 "metadata": {
  "kernelspec": {
   "display_name": "Python 3",
   "language": "python",
   "name": "python3"
  },
  "language_info": {
   "codemirror_mode": {
    "name": "ipython",
    "version": 3
   },
   "file_extension": ".py",
   "mimetype": "text/x-python",
   "name": "python",
   "nbconvert_exporter": "python",
   "pygments_lexer": "ipython3",
   "version": "3.7.4"
  }
 },
 "nbformat": 4,
 "nbformat_minor": 2
}
