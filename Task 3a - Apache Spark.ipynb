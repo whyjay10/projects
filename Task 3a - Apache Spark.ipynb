{
 "cells": [
  {
   "cell_type": "code",
   "execution_count": 1,
   "metadata": {},
   "outputs": [],
   "source": "# Import schema functions/types\nfrom pyspark.sql.functions import *\nfrom pyspark.sql.types import * "
  },
  {
   "cell_type": "code",
   "execution_count": 2,
   "metadata": {},
   "outputs": [],
   "source": "# Import necessary packages\nimport pandas as pd\nimport seaborn as sns\nfrom matplotlib import rcParams"
  },
  {
   "cell_type": "code",
   "execution_count": 3,
   "metadata": {},
   "outputs": [],
   "source": "# Set the schema\nschema_rlogs = StructType([\n    StructField(\"date\", DateType(), True),\n    StructField(\"time\", StringType(), True),\n    StructField(\"size\", IntegerType(), True),\n    StructField(\"r_version\", StringType(), True),\n    StructField(\"r_arch\", StringType(), True),\n    StructField(\"r_os\", StringType(), True),\n    StructField(\"package\", StringType(), True),\n    StructField(\"ip_id\", StringType(), True),\n    StructField(\"country\", StringType(), True)])"
  },
  {
   "cell_type": "code",
   "execution_count": 4,
   "metadata": {},
   "outputs": [],
   "source": "# Import file to Apache Spark\nrlogs = spark.read.format(\"com.databricks.spark.csv\")\\\n    .option(\"header\",\"true\")\\\n    .option(\"inferSchema\",\"true\")\\\n    .schema(schema_rlogs)\\\n    .load(\"hdfs://localhost:8020/user/htw/2020-01-13.csv\")"
  },
  {
   "cell_type": "code",
   "execution_count": 5,
   "metadata": {},
   "outputs": [],
   "source": "# Register dataset as Spark SQL\nrlogs.createOrReplaceTempView(\"rlogs\")"
  },
  {
   "cell_type": "code",
   "execution_count": 6,
   "metadata": {},
   "outputs": [
    {
     "name": "stdout",
     "output_type": "stream",
     "text": "root\n |-- date: date (nullable = true)\n |-- time: string (nullable = true)\n |-- size: integer (nullable = true)\n |-- r_version: string (nullable = true)\n |-- r_arch: string (nullable = true)\n |-- r_os: string (nullable = true)\n |-- package: string (nullable = true)\n |-- ip_id: string (nullable = true)\n |-- country: string (nullable = true)\n\n"
    }
   ],
   "source": "# Print the schema\nrlogs.printSchema()"
  },
  {
   "cell_type": "code",
   "execution_count": 7,
   "metadata": {},
   "outputs": [
    {
     "data": {
      "text/plain": "4755602"
     },
     "execution_count": 7,
     "metadata": {},
     "output_type": "execute_result"
    }
   ],
   "source": "# No. of rows in file\nrlogs.count()"
  },
  {
   "cell_type": "code",
   "execution_count": 8,
   "metadata": {},
   "outputs": [
    {
     "name": "stdout",
     "output_type": "stream",
     "text": "+----------+--------+-------+---------+------+----+--------+------+-------+\n|      date|    time|   size|r_version|r_arch|r_os| package| ip_id|country|\n+----------+--------+-------+---------+------+----+--------+------+-------+\n|2020-01-13|13:32:48| 861839|       NA|    NA|  NA|     zoo| 1.8-7|     US|\n|2020-01-13|13:32:39|1132886|       NA|    NA|  NA|      sp| 1.3-2|     US|\n|2020-01-13|13:32:32|  84011|       NA|    NA|  NA|lazyeval| 0.2.2|     NL|\n|2020-01-13|13:32:35| 143855|       NA|    NA|  NA|  digest|0.6.23|     NL|\n|2020-01-13|13:32:53|1036570|       NA|    NA|  NA|    pROC|1.15.3|     GB|\n+----------+--------+-------+---------+------+----+--------+------+-------+\n\n"
    }
   ],
   "source": "# Print first 5 rows\nspark.sql(\"SELECT * FROM rlogs LIMIT 5\").show()"
  },
  {
   "cell_type": "code",
   "execution_count": 9,
   "metadata": {},
   "outputs": [
    {
     "name": "stdout",
     "output_type": "stream",
     "text": "+-----------+\n|no_packages|\n+-----------+\n|      16514|\n+-----------+\n\n"
    }
   ],
   "source": "# Data Analysis / Count number of packages\nspark.sql(r\"\"\"SELECT count(distinct package) as no_packages from rlogs\"\"\").show()"
  },
  {
   "cell_type": "code",
   "execution_count": 10,
   "metadata": {},
   "outputs": [],
   "source": "# Data Preparation / Reduced dataset for visualisation\nrlogs_count = spark.sql(r\"\"\"SELECT package, count(*) as count from rlogs\n                        GROUP BY package\n                        ORDER BY count DESC\n                        LIMIT 10\"\"\")"
  },
  {
   "cell_type": "code",
   "execution_count": 11,
   "metadata": {},
   "outputs": [
    {
     "data": {
      "text/html": "<div>\n<style scoped>\n    .dataframe tbody tr th:only-of-type {\n        vertical-align: middle;\n    }\n\n    .dataframe tbody tr th {\n        vertical-align: top;\n    }\n\n    .dataframe thead th {\n        text-align: right;\n    }\n</style>\n<table border=\"1\" class=\"dataframe\">\n  <thead>\n    <tr style=\"text-align: right;\">\n      <th></th>\n      <th>package</th>\n      <th>count</th>\n    </tr>\n  </thead>\n  <tbody>\n    <tr>\n      <th>0</th>\n      <td>magrittr</td>\n      <td>143718</td>\n    </tr>\n    <tr>\n      <th>1</th>\n      <td>aws.s3</td>\n      <td>122974</td>\n    </tr>\n    <tr>\n      <th>2</th>\n      <td>aws.ec2metadata</td>\n      <td>121673</td>\n    </tr>\n    <tr>\n      <th>3</th>\n      <td>rsconnect</td>\n      <td>118028</td>\n    </tr>\n    <tr>\n      <th>4</th>\n      <td>rlang</td>\n      <td>52330</td>\n    </tr>\n    <tr>\n      <th>5</th>\n      <td>stringi</td>\n      <td>45077</td>\n    </tr>\n    <tr>\n      <th>6</th>\n      <td>dplyr</td>\n      <td>43211</td>\n    </tr>\n    <tr>\n      <th>7</th>\n      <td>vctrs</td>\n      <td>43009</td>\n    </tr>\n    <tr>\n      <th>8</th>\n      <td>ggplot2</td>\n      <td>41793</td>\n    </tr>\n    <tr>\n      <th>9</th>\n      <td>ellipsis</td>\n      <td>38890</td>\n    </tr>\n  </tbody>\n</table>\n</div>",
      "text/plain": "           package   count\n0         magrittr  143718\n1           aws.s3  122974\n2  aws.ec2metadata  121673\n3        rsconnect  118028\n4            rlang   52330\n5          stringi   45077\n6            dplyr   43211\n7            vctrs   43009\n8          ggplot2   41793\n9         ellipsis   38890"
     },
     "execution_count": 11,
     "metadata": {},
     "output_type": "execute_result"
    }
   ],
   "source": "# Check output (sorted)\nrlogs_count.toPandas()"
  },
  {
   "cell_type": "code",
   "execution_count": 12,
   "metadata": {},
   "outputs": [],
   "source": "# Convert dataset into pandas data frame for visualisation\nrlogs_viz = rlogs_count.toPandas()"
  },
  {
   "cell_type": "code",
   "execution_count": 15,
   "metadata": {},
   "outputs": [
    {
     "data": {
      "image/png": "[encoded data removed]",
      "text/plain": "<Figure size 864x576 with 1 Axes>"
     },
     "metadata": {
      "needs_background": "light"
     },
     "output_type": "display_data"
    }
   ],
   "source": "# Display distribution using bar chart\ntop10_packages = sns.barplot(x=\"package\", y=\"count\", data=rlogs_viz)\nrcParams['figure.figsize'] = 6,4"
  }
 ],
 "metadata": {
  "kernelspec": {
   "display_name": "Python 2",
   "language": "python",
   "name": "python2"
  },
  "language_info": {
   "codemirror_mode": {
    "name": "ipython",
    "version": 2
   },
   "file_extension": ".py",
   "mimetype": "text/x-python",
   "name": "python",
   "nbconvert_exporter": "python",
   "pygments_lexer": "ipython2",
   "version": "2.7.17"
  }
 },
 "nbformat": 4,
 "nbformat_minor": 4
}
