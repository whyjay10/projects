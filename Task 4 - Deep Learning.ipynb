{
 "cells": [
  {
   "cell_type": "markdown",
   "metadata": {
    "colab_type": "text",
    "id": "p8cnSJIHD0JP"
   },
   "source": [
    "### Import modules / Setup"
   ]
  },
  {
   "cell_type": "code",
   "execution_count": 1,
   "metadata": {
    "colab": {
     "base_uri": "https://localhost:8080/",
     "height": 83
    },
    "colab_type": "code",
    "id": "Tgz5kCVF2qw2",
    "outputId": "064eeb0e-90b3-49e5-c394-45e6387fe832"
   },
   "outputs": [
    {
     "name": "stderr",
     "output_type": "stream",
     "text": [
      "Using TensorFlow backend.\n"
     ]
    },
    {
     "data": {
      "text/html": [
       "<p style=\"color: red;\">\n",
       "The default version of TensorFlow in Colab will soon switch to TensorFlow 2.x.<br>\n",
       "We recommend you <a href=\"https://www.tensorflow.org/guide/migrate\" target=\"_blank\">upgrade</a> now \n",
       "or ensure your notebook will continue to use TensorFlow 1.x via the <code>%tensorflow_version 1.x</code> magic:\n",
       "<a href=\"https://colab.research.google.com/notebooks/tensorflow_version.ipynb\" target=\"_blank\">more info</a>.</p>\n"
      ],
      "text/plain": [
       "<IPython.core.display.HTML object>"
      ]
     },
     "metadata": {
      "tags": []
     },
     "output_type": "display_data"
    }
   ],
   "source": [
    "# Import necessary modules\n",
    "import pandas as pd\n",
    "import numpy as np\n",
    "import matplotlib.pyplot as plt\n",
    "import keras\n",
    "from keras import models\n",
    "from keras import layers\n",
    "from keras import backend \n",
    "from sklearn.model_selection import train_test_split"
   ]
  },
  {
   "cell_type": "code",
   "execution_count": 0,
   "metadata": {
    "colab": {},
    "colab_type": "code",
    "id": "TptJ5uJq1ueN"
   },
   "outputs": [],
   "source": [
    "# Define filepath\n",
    "filepath = \"/content/drive/My Drive/Colab Notebooks/LoanStats.csv\""
   ]
  },
  {
   "cell_type": "code",
   "execution_count": 0,
   "metadata": {
    "colab": {},
    "colab_type": "code",
    "id": "5PC1zjql2hLF"
   },
   "outputs": [],
   "source": [
    "# Import file into DF\n",
    "loanstats_df = pd.read_csv(filepath)"
   ]
  },
  {
   "cell_type": "code",
   "execution_count": 0,
   "metadata": {
    "colab": {},
    "colab_type": "code",
    "id": "8GpvpJbQ0W8S"
   },
   "outputs": [],
   "source": [
    "# Use reduced dataset\n",
    "loanstats = loanstats_df.drop(columns=['grade', 'home_ownership', 'purpose'])"
   ]
  },
  {
   "cell_type": "code",
   "execution_count": 6,
   "metadata": {
    "colab": {
     "base_uri": "https://localhost:8080/",
     "height": 206
    },
    "colab_type": "code",
    "id": "5Ixu5W362ZYW",
    "outputId": "23638202-ebc1-40dd-e00c-c223fcc3a9a8"
   },
   "outputs": [
    {
     "data": {
      "text/html": [
       "<div>\n",
       "<style scoped>\n",
       "    .dataframe tbody tr th:only-of-type {\n",
       "        vertical-align: middle;\n",
       "    }\n",
       "\n",
       "    .dataframe tbody tr th {\n",
       "        vertical-align: top;\n",
       "    }\n",
       "\n",
       "    .dataframe thead th {\n",
       "        text-align: right;\n",
       "    }\n",
       "</style>\n",
       "<table border=\"1\" class=\"dataframe\">\n",
       "  <thead>\n",
       "    <tr style=\"text-align: right;\">\n",
       "      <th></th>\n",
       "      <th>int_rate</th>\n",
       "      <th>loan_amnt</th>\n",
       "      <th>term</th>\n",
       "      <th>annual_inc</th>\n",
       "    </tr>\n",
       "  </thead>\n",
       "  <tbody>\n",
       "    <tr>\n",
       "      <th>0</th>\n",
       "      <td>10.65</td>\n",
       "      <td>5000</td>\n",
       "      <td>36</td>\n",
       "      <td>24000.0</td>\n",
       "    </tr>\n",
       "    <tr>\n",
       "      <th>1</th>\n",
       "      <td>15.27</td>\n",
       "      <td>2500</td>\n",
       "      <td>60</td>\n",
       "      <td>30000.0</td>\n",
       "    </tr>\n",
       "    <tr>\n",
       "      <th>2</th>\n",
       "      <td>15.96</td>\n",
       "      <td>2400</td>\n",
       "      <td>36</td>\n",
       "      <td>12252.0</td>\n",
       "    </tr>\n",
       "    <tr>\n",
       "      <th>3</th>\n",
       "      <td>13.49</td>\n",
       "      <td>10000</td>\n",
       "      <td>36</td>\n",
       "      <td>49200.0</td>\n",
       "    </tr>\n",
       "    <tr>\n",
       "      <th>4</th>\n",
       "      <td>12.69</td>\n",
       "      <td>3000</td>\n",
       "      <td>60</td>\n",
       "      <td>80000.0</td>\n",
       "    </tr>\n",
       "  </tbody>\n",
       "</table>\n",
       "</div>"
      ],
      "text/plain": [
       "   int_rate  loan_amnt  term  annual_inc\n",
       "0     10.65       5000    36     24000.0\n",
       "1     15.27       2500    60     30000.0\n",
       "2     15.96       2400    36     12252.0\n",
       "3     13.49      10000    36     49200.0\n",
       "4     12.69       3000    60     80000.0"
      ]
     },
     "execution_count": 6,
     "metadata": {
      "tags": []
     },
     "output_type": "execute_result"
    }
   ],
   "source": [
    "loanstats.head()"
   ]
  },
  {
   "cell_type": "code",
   "execution_count": 0,
   "metadata": {
    "colab": {},
    "colab_type": "code",
    "id": "cP6OiRPN3iVW"
   },
   "outputs": [],
   "source": [
    "# Split into train and test datasets\n",
    "x = loanstats.drop('int_rate', axis = 1)\n",
    "y = loanstats[['int_rate']]\n",
    "x_train, x_test, y_train, y_test = train_test_split(x, y, test_size=0.2, random_state=42)"
   ]
  },
  {
   "cell_type": "code",
   "execution_count": 8,
   "metadata": {
    "colab": {
     "base_uri": "https://localhost:8080/",
     "height": 35
    },
    "colab_type": "code",
    "id": "29s5I9Rh6bCf",
    "outputId": "2ed976c3-9806-45e8-e798-c6319f015ba5"
   },
   "outputs": [
    {
     "name": "stdout",
     "output_type": "stream",
     "text": [
      "x_train (31828, 3) x_test (7958, 3) y_train (31828, 1) y_test (7958, 1)\n"
     ]
    }
   ],
   "source": [
    "# Check split results\n",
    "print(\"x_train\",x_train.shape,\"x_test\",x_test.shape,\"y_train\",y_train.shape,\"y_test\",y_test.shape) "
   ]
  },
  {
   "cell_type": "code",
   "execution_count": 9,
   "metadata": {
    "colab": {
     "base_uri": "https://localhost:8080/",
     "height": 206
    },
    "colab_type": "code",
    "id": "qkmF-XQ8Jhq4",
    "outputId": "78a2208d-4479-46e3-a413-952c42971ac1"
   },
   "outputs": [
    {
     "data": {
      "text/html": [
       "<div>\n",
       "<style scoped>\n",
       "    .dataframe tbody tr th:only-of-type {\n",
       "        vertical-align: middle;\n",
       "    }\n",
       "\n",
       "    .dataframe tbody tr th {\n",
       "        vertical-align: top;\n",
       "    }\n",
       "\n",
       "    .dataframe thead th {\n",
       "        text-align: right;\n",
       "    }\n",
       "</style>\n",
       "<table border=\"1\" class=\"dataframe\">\n",
       "  <thead>\n",
       "    <tr style=\"text-align: right;\">\n",
       "      <th></th>\n",
       "      <th>loan_amnt</th>\n",
       "      <th>term</th>\n",
       "      <th>annual_inc</th>\n",
       "    </tr>\n",
       "  </thead>\n",
       "  <tbody>\n",
       "    <tr>\n",
       "      <th>22900</th>\n",
       "      <td>10000</td>\n",
       "      <td>36</td>\n",
       "      <td>78000.0</td>\n",
       "    </tr>\n",
       "    <tr>\n",
       "      <th>27960</th>\n",
       "      <td>20000</td>\n",
       "      <td>60</td>\n",
       "      <td>44304.0</td>\n",
       "    </tr>\n",
       "    <tr>\n",
       "      <th>32773</th>\n",
       "      <td>4000</td>\n",
       "      <td>36</td>\n",
       "      <td>39456.0</td>\n",
       "    </tr>\n",
       "    <tr>\n",
       "      <th>16463</th>\n",
       "      <td>10000</td>\n",
       "      <td>60</td>\n",
       "      <td>70000.0</td>\n",
       "    </tr>\n",
       "    <tr>\n",
       "      <th>22822</th>\n",
       "      <td>12000</td>\n",
       "      <td>60</td>\n",
       "      <td>60000.0</td>\n",
       "    </tr>\n",
       "  </tbody>\n",
       "</table>\n",
       "</div>"
      ],
      "text/plain": [
       "       loan_amnt  term  annual_inc\n",
       "22900      10000    36     78000.0\n",
       "27960      20000    60     44304.0\n",
       "32773       4000    36     39456.0\n",
       "16463      10000    60     70000.0\n",
       "22822      12000    60     60000.0"
      ]
     },
     "execution_count": 9,
     "metadata": {
      "tags": []
     },
     "output_type": "execute_result"
    }
   ],
   "source": [
    "x_test.head()"
   ]
  },
  {
   "cell_type": "code",
   "execution_count": 10,
   "metadata": {
    "colab": {
     "base_uri": "https://localhost:8080/",
     "height": 206
    },
    "colab_type": "code",
    "id": "6NHDvH3sG1ga",
    "outputId": "1d74d3bb-3c91-4985-fd14-f4557a274cb6"
   },
   "outputs": [
    {
     "data": {
      "text/html": [
       "<div>\n",
       "<style scoped>\n",
       "    .dataframe tbody tr th:only-of-type {\n",
       "        vertical-align: middle;\n",
       "    }\n",
       "\n",
       "    .dataframe tbody tr th {\n",
       "        vertical-align: top;\n",
       "    }\n",
       "\n",
       "    .dataframe thead th {\n",
       "        text-align: right;\n",
       "    }\n",
       "</style>\n",
       "<table border=\"1\" class=\"dataframe\">\n",
       "  <thead>\n",
       "    <tr style=\"text-align: right;\">\n",
       "      <th></th>\n",
       "      <th>int_rate</th>\n",
       "    </tr>\n",
       "  </thead>\n",
       "  <tbody>\n",
       "    <tr>\n",
       "      <th>22900</th>\n",
       "      <td>5.79</td>\n",
       "    </tr>\n",
       "    <tr>\n",
       "      <th>27960</th>\n",
       "      <td>17.93</td>\n",
       "    </tr>\n",
       "    <tr>\n",
       "      <th>32773</th>\n",
       "      <td>16.45</td>\n",
       "    </tr>\n",
       "    <tr>\n",
       "      <th>16463</th>\n",
       "      <td>10.74</td>\n",
       "    </tr>\n",
       "    <tr>\n",
       "      <th>22822</th>\n",
       "      <td>14.46</td>\n",
       "    </tr>\n",
       "  </tbody>\n",
       "</table>\n",
       "</div>"
      ],
      "text/plain": [
       "       int_rate\n",
       "22900      5.79\n",
       "27960     17.93\n",
       "32773     16.45\n",
       "16463     10.74\n",
       "22822     14.46"
      ]
     },
     "execution_count": 10,
     "metadata": {
      "tags": []
     },
     "output_type": "execute_result"
    }
   ],
   "source": [
    "y_test.head()"
   ]
  },
  {
   "cell_type": "markdown",
   "metadata": {
    "colab_type": "text",
    "id": "NXBH1B6EDoHV"
   },
   "source": [
    "### Train model"
   ]
  },
  {
   "cell_type": "code",
   "execution_count": 0,
   "metadata": {
    "colab": {},
    "colab_type": "code",
    "id": "o15T6O2rBQqA"
   },
   "outputs": [],
   "source": [
    "network = models.Sequential()\n",
    "\n",
    "network.add(layers.Dense(64, activation='relu', input_shape = (3,)))\n",
    "network.add(layers.Dense(48, activation='relu'))\n",
    "# network.add(layers.Dense(24, activation='relu'))\n",
    "# network.add(layers.Dense(10, activation='relu'))\n",
    "network.add(layers.Dense(1))\n",
    "\n",
    "network.compile(optimizer='rmsprop', loss='mse', metrics=['mae','mape'])"
   ]
  },
  {
   "cell_type": "code",
   "execution_count": 16,
   "metadata": {
    "colab": {
     "base_uri": "https://localhost:8080/",
     "height": 1000
    },
    "colab_type": "code",
    "id": "36SEOWHwDW4i",
    "outputId": "32007f2b-88dd-4b1f-9456-3b819ffc7466"
   },
   "outputs": [
    {
     "name": "stdout",
     "output_type": "stream",
     "text": [
      "Epoch 1/40\n",
      "31828/31828 [==============================] - 1s 43us/step - loss: 1494360.5830 - mean_absolute_error: 568.5739 - mean_absolute_percentage_error: 5139.4492\n",
      "Epoch 2/40\n",
      "31828/31828 [==============================] - 1s 37us/step - loss: 1105011.8693 - mean_absolute_error: 450.3618 - mean_absolute_percentage_error: 4108.1404\n",
      "Epoch 3/40\n",
      "31828/31828 [==============================] - 1s 36us/step - loss: 615117.6149 - mean_absolute_error: 374.2790 - mean_absolute_percentage_error: 3413.0917\n",
      "Epoch 4/40\n",
      "31828/31828 [==============================] - 1s 38us/step - loss: 476666.8523 - mean_absolute_error: 282.3289 - mean_absolute_percentage_error: 2557.7923\n",
      "Epoch 5/40\n",
      "31828/31828 [==============================] - 1s 37us/step - loss: 372322.1156 - mean_absolute_error: 244.9982 - mean_absolute_percentage_error: 2231.9583\n",
      "Epoch 6/40\n",
      "31828/31828 [==============================] - 1s 38us/step - loss: 187093.9693 - mean_absolute_error: 181.8700 - mean_absolute_percentage_error: 1666.8375\n",
      "Epoch 7/40\n",
      "31828/31828 [==============================] - 1s 38us/step - loss: 124003.2370 - mean_absolute_error: 155.5276 - mean_absolute_percentage_error: 1426.9356\n",
      "Epoch 8/40\n",
      "31828/31828 [==============================] - 1s 38us/step - loss: 84555.9196 - mean_absolute_error: 142.7432 - mean_absolute_percentage_error: 1302.4970\n",
      "Epoch 9/40\n",
      "31828/31828 [==============================] - 1s 38us/step - loss: 68951.6986 - mean_absolute_error: 119.9362 - mean_absolute_percentage_error: 1087.8126\n",
      "Epoch 10/40\n",
      "31828/31828 [==============================] - 1s 38us/step - loss: 53325.7080 - mean_absolute_error: 115.8758 - mean_absolute_percentage_error: 1063.2440\n",
      "Epoch 11/40\n",
      "31828/31828 [==============================] - 1s 38us/step - loss: 43036.8120 - mean_absolute_error: 99.2635 - mean_absolute_percentage_error: 908.6354\n",
      "Epoch 12/40\n",
      "31828/31828 [==============================] - 1s 37us/step - loss: 39757.1006 - mean_absolute_error: 84.5489 - mean_absolute_percentage_error: 774.8471\n",
      "Epoch 13/40\n",
      "31828/31828 [==============================] - 1s 40us/step - loss: 16230.4825 - mean_absolute_error: 62.0569 - mean_absolute_percentage_error: 566.6560\n",
      "Epoch 14/40\n",
      "31828/31828 [==============================] - 1s 38us/step - loss: 8605.6804 - mean_absolute_error: 48.1579 - mean_absolute_percentage_error: 438.5242\n",
      "Epoch 15/40\n",
      "31828/31828 [==============================] - 1s 40us/step - loss: 5941.8495 - mean_absolute_error: 41.5658 - mean_absolute_percentage_error: 378.7408\n",
      "Epoch 16/40\n",
      "31828/31828 [==============================] - 1s 40us/step - loss: 4057.4203 - mean_absolute_error: 30.2270 - mean_absolute_percentage_error: 275.2413\n",
      "Epoch 17/40\n",
      "31828/31828 [==============================] - 1s 39us/step - loss: 2284.0058 - mean_absolute_error: 22.6374 - mean_absolute_percentage_error: 204.6332\n",
      "Epoch 18/40\n",
      "31828/31828 [==============================] - 1s 38us/step - loss: 1206.4839 - mean_absolute_error: 18.5966 - mean_absolute_percentage_error: 167.4800\n",
      "Epoch 19/40\n",
      "31828/31828 [==============================] - 1s 38us/step - loss: 715.6310 - mean_absolute_error: 15.5066 - mean_absolute_percentage_error: 138.7143\n",
      "Epoch 20/40\n",
      "31828/31828 [==============================] - 1s 37us/step - loss: 478.1649 - mean_absolute_error: 13.1520 - mean_absolute_percentage_error: 117.5024\n",
      "Epoch 21/40\n",
      "31828/31828 [==============================] - 1s 38us/step - loss: 296.4003 - mean_absolute_error: 10.4533 - mean_absolute_percentage_error: 92.9456\n",
      "Epoch 22/40\n",
      "31828/31828 [==============================] - 1s 37us/step - loss: 172.8496 - mean_absolute_error: 7.7407 - mean_absolute_percentage_error: 68.1448\n",
      "Epoch 23/40\n",
      "31828/31828 [==============================] - 1s 37us/step - loss: 82.7610 - mean_absolute_error: 6.1630 - mean_absolute_percentage_error: 53.2691\n",
      "Epoch 24/40\n",
      "31828/31828 [==============================] - 1s 38us/step - loss: 50.3418 - mean_absolute_error: 5.3538 - mean_absolute_percentage_error: 45.5368\n",
      "Epoch 25/40\n",
      "31828/31828 [==============================] - 1s 38us/step - loss: 37.8894 - mean_absolute_error: 4.5157 - mean_absolute_percentage_error: 38.2859\n",
      "Epoch 26/40\n",
      "31828/31828 [==============================] - 1s 37us/step - loss: 33.1422 - mean_absolute_error: 4.1683 - mean_absolute_percentage_error: 35.7041\n",
      "Epoch 27/40\n",
      "31828/31828 [==============================] - 1s 37us/step - loss: 29.0181 - mean_absolute_error: 3.9574 - mean_absolute_percentage_error: 33.9868\n",
      "Epoch 28/40\n",
      "31828/31828 [==============================] - 1s 38us/step - loss: 24.1103 - mean_absolute_error: 3.7343 - mean_absolute_percentage_error: 32.4199\n",
      "Epoch 29/40\n",
      "31828/31828 [==============================] - 1s 39us/step - loss: 22.2915 - mean_absolute_error: 3.6468 - mean_absolute_percentage_error: 31.6265\n",
      "Epoch 30/40\n",
      "31828/31828 [==============================] - 1s 40us/step - loss: 20.2039 - mean_absolute_error: 3.4690 - mean_absolute_percentage_error: 30.4834\n",
      "Epoch 31/40\n",
      "31828/31828 [==============================] - 1s 40us/step - loss: 18.5259 - mean_absolute_error: 3.3385 - mean_absolute_percentage_error: 29.6834\n",
      "Epoch 32/40\n",
      "31828/31828 [==============================] - 1s 38us/step - loss: 15.9415 - mean_absolute_error: 3.2047 - mean_absolute_percentage_error: 28.7298\n",
      "Epoch 33/40\n",
      "31828/31828 [==============================] - 1s 38us/step - loss: 15.5917 - mean_absolute_error: 3.1653 - mean_absolute_percentage_error: 28.5575\n",
      "Epoch 34/40\n",
      "31828/31828 [==============================] - 1s 38us/step - loss: 14.4182 - mean_absolute_error: 3.0785 - mean_absolute_percentage_error: 27.9911\n",
      "Epoch 35/40\n",
      "31828/31828 [==============================] - 1s 38us/step - loss: 14.3349 - mean_absolute_error: 3.0458 - mean_absolute_percentage_error: 27.8941\n",
      "Epoch 36/40\n",
      "31828/31828 [==============================] - 1s 38us/step - loss: 16.5300 - mean_absolute_error: 3.0106 - mean_absolute_percentage_error: 27.8804\n",
      "Epoch 37/40\n",
      "31828/31828 [==============================] - 1s 41us/step - loss: 13.1780 - mean_absolute_error: 2.9659 - mean_absolute_percentage_error: 27.4766\n",
      "Epoch 38/40\n",
      "31828/31828 [==============================] - 1s 41us/step - loss: 12.8990 - mean_absolute_error: 2.9494 - mean_absolute_percentage_error: 27.4404\n",
      "Epoch 39/40\n",
      "31828/31828 [==============================] - 1s 42us/step - loss: 12.7272 - mean_absolute_error: 2.9250 - mean_absolute_percentage_error: 27.3715\n",
      "Epoch 40/40\n",
      "31828/31828 [==============================] - 1s 42us/step - loss: 12.5764 - mean_absolute_error: 2.9157 - mean_absolute_percentage_error: 27.3193\n"
     ]
    },
    {
     "data": {
      "text/plain": [
       "<keras.callbacks.History at 0x7f420f946f98>"
      ]
     },
     "execution_count": 16,
     "metadata": {
      "tags": []
     },
     "output_type": "execute_result"
    }
   ],
   "source": [
    "network.fit(x = x_train, y = y_train, epochs=40)"
   ]
  },
  {
   "cell_type": "code",
   "execution_count": 17,
   "metadata": {
    "colab": {
     "base_uri": "https://localhost:8080/",
     "height": 271
    },
    "colab_type": "code",
    "id": "fHyby8j-ECrb",
    "outputId": "8c6fb1ba-85fa-41a3-cb2d-fb3f1042b0b3"
   },
   "outputs": [
    {
     "name": "stdout",
     "output_type": "stream",
     "text": [
      "Model: \"sequential_3\"\n",
      "_________________________________________________________________\n",
      "Layer (type)                 Output Shape              Param #   \n",
      "=================================================================\n",
      "dense_8 (Dense)              (None, 64)                256       \n",
      "_________________________________________________________________\n",
      "dense_9 (Dense)              (None, 48)                3120      \n",
      "_________________________________________________________________\n",
      "dense_10 (Dense)             (None, 1)                 49        \n",
      "=================================================================\n",
      "Total params: 3,425\n",
      "Trainable params: 3,425\n",
      "Non-trainable params: 0\n",
      "_________________________________________________________________\n"
     ]
    }
   ],
   "source": [
    "network.summary()"
   ]
  },
  {
   "cell_type": "markdown",
   "metadata": {
    "colab_type": "text",
    "id": "PEyuFFH233IG"
   },
   "source": [
    "### Results: Train set"
   ]
  },
  {
   "cell_type": "code",
   "execution_count": 22,
   "metadata": {
    "colab": {
     "base_uri": "https://localhost:8080/",
     "height": 35
    },
    "colab_type": "code",
    "id": "Fm-58VXZ2iCc",
    "outputId": "9df47b48-0695-449c-9b2d-fb100e565a7a"
   },
   "outputs": [
    {
     "name": "stdout",
     "output_type": "stream",
     "text": [
      "31828/31828 [==============================] - 1s 18us/step\n"
     ]
    }
   ],
   "source": [
    "train_loss, train_mae, train_mape = network.evaluate(x=x_train, y=y_train)"
   ]
  },
  {
   "cell_type": "code",
   "execution_count": 23,
   "metadata": {
    "colab": {
     "base_uri": "https://localhost:8080/",
     "height": 35
    },
    "colab_type": "code",
    "id": "SK8wei2D3VNr",
    "outputId": "37b2d9d0-934b-40be-e0ce-a09cf6df92a6"
   },
   "outputs": [
    {
     "name": "stdout",
     "output_type": "stream",
     "text": [
      "3.108392245987934 25.411963525273265\n"
     ]
    }
   ],
   "source": [
    "print(train_mae,train_mape)"
   ]
  },
  {
   "cell_type": "markdown",
   "metadata": {
    "colab_type": "text",
    "id": "RenJQQZl36jK"
   },
   "source": [
    "### Results: Test set"
   ]
  },
  {
   "cell_type": "code",
   "execution_count": 24,
   "metadata": {
    "colab": {
     "base_uri": "https://localhost:8080/",
     "height": 35
    },
    "colab_type": "code",
    "id": "Ibh3uhWhE4eE",
    "outputId": "8fe9ea86-c4a5-431a-8e2c-0b7c41822859"
   },
   "outputs": [
    {
     "name": "stdout",
     "output_type": "stream",
     "text": [
      "7958/7958 [==============================] - 0s 18us/step\n"
     ]
    }
   ],
   "source": [
    "test_loss, test_mae, test_mape = network.evaluate(x=x_test, y=y_test)"
   ]
  },
  {
   "cell_type": "code",
   "execution_count": 25,
   "metadata": {
    "colab": {
     "base_uri": "https://localhost:8080/",
     "height": 35
    },
    "colab_type": "code",
    "id": "Hn5eYS3XSrfC",
    "outputId": "c4720ab2-14d2-43db-962c-cb6136714319"
   },
   "outputs": [
    {
     "name": "stdout",
     "output_type": "stream",
     "text": [
      "3.083455325850712 25.300428140280264\n"
     ]
    }
   ],
   "source": [
    "print(test_mae, test_mape)"
   ]
  }
 ],
 "metadata": {
  "colab": {
   "name": "Untitled",
   "provenance": [],
   "toc_visible": true
  },
  "kernelspec": {
   "display_name": "Python 3",
   "language": "python",
   "name": "python3"
  },
  "language_info": {
   "codemirror_mode": {
    "name": "ipython",
    "version": 3
   },
   "file_extension": ".py",
   "mimetype": "text/x-python",
   "name": "python",
   "nbconvert_exporter": "python",
   "pygments_lexer": "ipython3",
   "version": "3.7.4"
  }
 },
 "nbformat": 4,
 "nbformat_minor": 1
}
