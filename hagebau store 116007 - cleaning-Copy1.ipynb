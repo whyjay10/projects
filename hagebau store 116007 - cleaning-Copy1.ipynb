{
 "cells": [
  {
   "cell_type": "code",
   "execution_count": 4,
   "metadata": {},
   "outputs": [],
   "source": [
    "import pandas as pd"
   ]
  },
  {
   "cell_type": "code",
   "execution_count": 5,
   "metadata": {},
   "outputs": [],
   "source": [
    "march = pd.read_csv(r\"C:\\Users\\yj_pc\\Desktop\\berlin\\htw berlin\\MPMD_Dateien\\1.2 Fdns Data Analytics & Stats Prog\\001_Data_CONFIDENTIAL\\records_180703_from_2017-03-01_to_2017-03-31.csv\", sep=';')\n",
    "june = pd.read_csv(r\"C:\\Users\\yj_pc\\Desktop\\berlin\\htw berlin\\MPMD_Dateien\\1.2 Fdns Data Analytics & Stats Prog\\001_Data_CONFIDENTIAL\\records_180703_from_2017-06-01_to_2017-06-30.csv\", sep=';')\n",
    "september = pd.read_csv(r\"C:\\Users\\yj_pc\\Desktop\\berlin\\htw berlin\\MPMD_Dateien\\1.2 Fdns Data Analytics & Stats Prog\\001_Data_CONFIDENTIAL\\records_180703_from_2017-09-01_to_2017-09-30.csv\", sep=';')\n",
    "december = pd.read_csv(r\"C:\\Users\\yj_pc\\Desktop\\berlin\\htw berlin\\MPMD_Dateien\\1.2 Fdns Data Analytics & Stats Prog\\001_Data_CONFIDENTIAL\\records_180703_from_2017-12-01_to_2017-12-31.csv\", sep=';')"
   ]
  },
  {
   "cell_type": "code",
   "execution_count": 23,
   "metadata": {},
   "outputs": [
    {
     "data": {
      "text/html": [
       "<div>\n",
       "<style scoped>\n",
       "    .dataframe tbody tr th:only-of-type {\n",
       "        vertical-align: middle;\n",
       "    }\n",
       "\n",
       "    .dataframe tbody tr th {\n",
       "        vertical-align: top;\n",
       "    }\n",
       "\n",
       "    .dataframe thead th {\n",
       "        text-align: right;\n",
       "    }\n",
       "</style>\n",
       "<table border=\"1\" class=\"dataframe\">\n",
       "  <thead>\n",
       "    <tr style=\"text-align: right;\">\n",
       "      <th></th>\n",
       "      <th>mainBusinessType,location,datetime,cashRegisterNumber,checkoutReceiptNumber,receiptNumber,loyaltyId,productEan,productId,commodityGroup,productGroup,amount,grossPrice</th>\n",
       "    </tr>\n",
       "  </thead>\n",
       "  <tbody>\n",
       "    <tr>\n",
       "      <th>0</th>\n",
       "      <td>30,180703,2017-03-25T08:56:00.000Z,4,3,7626930...</td>\n",
       "    </tr>\n",
       "    <tr>\n",
       "      <th>1</th>\n",
       "      <td>30,180703,2017-03-25T08:56:00.000Z,4,3,7626930...</td>\n",
       "    </tr>\n",
       "    <tr>\n",
       "      <th>2</th>\n",
       "      <td>30,180703,2017-03-25T08:58:00.000Z,4,4,7626930...</td>\n",
       "    </tr>\n",
       "    <tr>\n",
       "      <th>3</th>\n",
       "      <td>30,180703,2017-03-25T08:59:00.000Z,3,2,7626930...</td>\n",
       "    </tr>\n",
       "    <tr>\n",
       "      <th>4</th>\n",
       "      <td>30,180703,2017-03-25T09:01:00.000Z,3,3,7626930...</td>\n",
       "    </tr>\n",
       "    <tr>\n",
       "      <th>5</th>\n",
       "      <td>30,180703,2017-03-25T09:02:00.000Z,3,4,7626930...</td>\n",
       "    </tr>\n",
       "    <tr>\n",
       "      <th>6</th>\n",
       "      <td>30,180703,2017-03-25T09:03:00.000Z,3,5,7626930...</td>\n",
       "    </tr>\n",
       "    <tr>\n",
       "      <th>7</th>\n",
       "      <td>30,180703,2017-03-25T09:03:00.000Z,3,5,7626930...</td>\n",
       "    </tr>\n",
       "    <tr>\n",
       "      <th>8</th>\n",
       "      <td>30,180703,2017-03-25T09:03:00.000Z,3,5,7626930...</td>\n",
       "    </tr>\n",
       "    <tr>\n",
       "      <th>9</th>\n",
       "      <td>30,180703,2017-03-25T09:03:00.000Z,3,5,7626930...</td>\n",
       "    </tr>\n",
       "    <tr>\n",
       "      <th>10</th>\n",
       "      <td>30,180703,2017-03-25T09:03:00.000Z,3,5,7626930...</td>\n",
       "    </tr>\n",
       "    <tr>\n",
       "      <th>11</th>\n",
       "      <td>30,180703,2017-03-25T09:03:00.000Z,3,5,7626930...</td>\n",
       "    </tr>\n",
       "    <tr>\n",
       "      <th>12</th>\n",
       "      <td>30,180703,2017-03-25T09:03:00.000Z,3,5,7626930...</td>\n",
       "    </tr>\n",
       "    <tr>\n",
       "      <th>13</th>\n",
       "      <td>30,180703,2017-03-25T09:05:00.000Z,3,6,7626930...</td>\n",
       "    </tr>\n",
       "    <tr>\n",
       "      <th>14</th>\n",
       "      <td>30,180703,2017-03-25T09:05:00.000Z,3,6,7626930...</td>\n",
       "    </tr>\n",
       "    <tr>\n",
       "      <th>15</th>\n",
       "      <td>30,180703,2017-03-25T09:05:00.000Z,4,5,7626931...</td>\n",
       "    </tr>\n",
       "    <tr>\n",
       "      <th>16</th>\n",
       "      <td>30,180703,2017-03-25T09:05:00.000Z,3,7,7626931...</td>\n",
       "    </tr>\n",
       "    <tr>\n",
       "      <th>17</th>\n",
       "      <td>30,180703,2017-03-25T09:05:00.000Z,3,7,7626931...</td>\n",
       "    </tr>\n",
       "    <tr>\n",
       "      <th>18</th>\n",
       "      <td>30,180703,2017-03-25T09:05:00.000Z,3,7,7626931...</td>\n",
       "    </tr>\n",
       "    <tr>\n",
       "      <th>19</th>\n",
       "      <td>30,180703,2017-03-25T09:07:00.000Z,3,8,7626931...</td>\n",
       "    </tr>\n",
       "    <tr>\n",
       "      <th>20</th>\n",
       "      <td>30,180703,2017-03-25T09:08:00.000Z,3,9,7626978...</td>\n",
       "    </tr>\n",
       "    <tr>\n",
       "      <th>21</th>\n",
       "      <td>30,180703,2017-03-25T09:08:00.000Z,3,10,762697...</td>\n",
       "    </tr>\n",
       "    <tr>\n",
       "      <th>22</th>\n",
       "      <td>30,180703,2017-03-25T09:08:00.000Z,3,10,762697...</td>\n",
       "    </tr>\n",
       "    <tr>\n",
       "      <th>23</th>\n",
       "      <td>30,180703,2017-03-25T09:08:00.000Z,3,10,762697...</td>\n",
       "    </tr>\n",
       "    <tr>\n",
       "      <th>24</th>\n",
       "      <td>30,180703,2017-03-25T09:08:00.000Z,3,10,762697...</td>\n",
       "    </tr>\n",
       "    <tr>\n",
       "      <th>25</th>\n",
       "      <td>30,180703,2017-03-25T09:08:00.000Z,3,10,762697...</td>\n",
       "    </tr>\n",
       "    <tr>\n",
       "      <th>26</th>\n",
       "      <td>30,180703,2017-03-25T09:08:00.000Z,3,10,762697...</td>\n",
       "    </tr>\n",
       "    <tr>\n",
       "      <th>27</th>\n",
       "      <td>30,180703,2017-03-25T09:11:00.000Z,3,11,762697...</td>\n",
       "    </tr>\n",
       "    <tr>\n",
       "      <th>28</th>\n",
       "      <td>30,180703,2017-03-25T09:11:00.000Z,3,11,762697...</td>\n",
       "    </tr>\n",
       "    <tr>\n",
       "      <th>29</th>\n",
       "      <td>30,180703,2017-03-25T09:11:00.000Z,3,11,762697...</td>\n",
       "    </tr>\n",
       "    <tr>\n",
       "      <th>...</th>\n",
       "      <td>...</td>\n",
       "    </tr>\n",
       "    <tr>\n",
       "      <th>66272</th>\n",
       "      <td>30,180703,2017-12-05T00:00:00.000Z,99999,99999...</td>\n",
       "    </tr>\n",
       "    <tr>\n",
       "      <th>66273</th>\n",
       "      <td>30,180703,2017-12-05T00:00:00.000Z,99999,99999...</td>\n",
       "    </tr>\n",
       "    <tr>\n",
       "      <th>66274</th>\n",
       "      <td>30,180703,2017-12-05T00:00:00.000Z,99999,99999...</td>\n",
       "    </tr>\n",
       "    <tr>\n",
       "      <th>66275</th>\n",
       "      <td>30,180703,2017-12-04T00:00:00.000Z,99999,99999...</td>\n",
       "    </tr>\n",
       "    <tr>\n",
       "      <th>66276</th>\n",
       "      <td>30,180703,2017-12-04T00:00:00.000Z,99999,99999...</td>\n",
       "    </tr>\n",
       "    <tr>\n",
       "      <th>66277</th>\n",
       "      <td>30,180703,2017-12-04T00:00:00.000Z,99999,99999...</td>\n",
       "    </tr>\n",
       "    <tr>\n",
       "      <th>66278</th>\n",
       "      <td>30,180703,2017-12-04T00:00:00.000Z,99999,99999...</td>\n",
       "    </tr>\n",
       "    <tr>\n",
       "      <th>66279</th>\n",
       "      <td>30,180703,2017-12-04T00:00:00.000Z,99999,99999...</td>\n",
       "    </tr>\n",
       "    <tr>\n",
       "      <th>66280</th>\n",
       "      <td>30,180703,2017-12-04T00:00:00.000Z,99999,99999...</td>\n",
       "    </tr>\n",
       "    <tr>\n",
       "      <th>66281</th>\n",
       "      <td>30,180703,2017-12-04T00:00:00.000Z,99999,99999...</td>\n",
       "    </tr>\n",
       "    <tr>\n",
       "      <th>66282</th>\n",
       "      <td>30,180703,2017-12-04T00:00:00.000Z,99999,99999...</td>\n",
       "    </tr>\n",
       "    <tr>\n",
       "      <th>66283</th>\n",
       "      <td>30,180703,2017-12-04T00:00:00.000Z,99999,99999...</td>\n",
       "    </tr>\n",
       "    <tr>\n",
       "      <th>66284</th>\n",
       "      <td>30,180703,2017-12-04T00:00:00.000Z,99999,99999...</td>\n",
       "    </tr>\n",
       "    <tr>\n",
       "      <th>66285</th>\n",
       "      <td>30,180703,2017-12-04T00:00:00.000Z,99999,99999...</td>\n",
       "    </tr>\n",
       "    <tr>\n",
       "      <th>66286</th>\n",
       "      <td>30,180703,2017-12-04T00:00:00.000Z,99999,99999...</td>\n",
       "    </tr>\n",
       "    <tr>\n",
       "      <th>66287</th>\n",
       "      <td>30,180703,2017-12-08T00:00:00.000Z,99999,99999...</td>\n",
       "    </tr>\n",
       "    <tr>\n",
       "      <th>66288</th>\n",
       "      <td>30,180703,2017-12-08T00:00:00.000Z,99999,99999...</td>\n",
       "    </tr>\n",
       "    <tr>\n",
       "      <th>66289</th>\n",
       "      <td>30,180703,2017-12-08T00:00:00.000Z,99999,99999...</td>\n",
       "    </tr>\n",
       "    <tr>\n",
       "      <th>66290</th>\n",
       "      <td>30,180703,2017-12-08T00:00:00.000Z,99999,99999...</td>\n",
       "    </tr>\n",
       "    <tr>\n",
       "      <th>66291</th>\n",
       "      <td>30,180703,2017-12-08T00:00:00.000Z,99999,99999...</td>\n",
       "    </tr>\n",
       "    <tr>\n",
       "      <th>66292</th>\n",
       "      <td>30,180703,2017-12-08T00:00:00.000Z,99999,99999...</td>\n",
       "    </tr>\n",
       "    <tr>\n",
       "      <th>66293</th>\n",
       "      <td>30,180703,2017-12-08T00:00:00.000Z,99999,99999...</td>\n",
       "    </tr>\n",
       "    <tr>\n",
       "      <th>66294</th>\n",
       "      <td>30,180703,2017-12-08T00:00:00.000Z,99999,99999...</td>\n",
       "    </tr>\n",
       "    <tr>\n",
       "      <th>66295</th>\n",
       "      <td>30,180703,2017-12-08T00:00:00.000Z,99999,99999...</td>\n",
       "    </tr>\n",
       "    <tr>\n",
       "      <th>66296</th>\n",
       "      <td>30,180703,2017-12-08T00:00:00.000Z,99999,99999...</td>\n",
       "    </tr>\n",
       "    <tr>\n",
       "      <th>66297</th>\n",
       "      <td>30,180703,2017-12-08T00:00:00.000Z,99999,99999...</td>\n",
       "    </tr>\n",
       "    <tr>\n",
       "      <th>66298</th>\n",
       "      <td>30,180703,2017-12-08T00:00:00.000Z,99999,99999...</td>\n",
       "    </tr>\n",
       "    <tr>\n",
       "      <th>66299</th>\n",
       "      <td>30,180703,2017-12-08T00:00:00.000Z,99999,99999...</td>\n",
       "    </tr>\n",
       "    <tr>\n",
       "      <th>66300</th>\n",
       "      <td>30,180703,2017-12-29T00:00:00.000Z,99999,99999...</td>\n",
       "    </tr>\n",
       "    <tr>\n",
       "      <th>66301</th>\n",
       "      <td>30,180703,2017-12-29T00:00:00.000Z,99999,99999...</td>\n",
       "    </tr>\n",
       "  </tbody>\n",
       "</table>\n",
       "<p>280834 rows × 1 columns</p>\n",
       "</div>"
      ],
      "text/plain": [
       "      mainBusinessType,location,datetime,cashRegisterNumber,checkoutReceiptNumber,receiptNumber,loyaltyId,productEan,productId,commodityGroup,productGroup,amount,grossPrice\n",
       "0      30,180703,2017-03-25T08:56:00.000Z,4,3,7626930...                                                                                                                    \n",
       "1      30,180703,2017-03-25T08:56:00.000Z,4,3,7626930...                                                                                                                    \n",
       "2      30,180703,2017-03-25T08:58:00.000Z,4,4,7626930...                                                                                                                    \n",
       "3      30,180703,2017-03-25T08:59:00.000Z,3,2,7626930...                                                                                                                    \n",
       "4      30,180703,2017-03-25T09:01:00.000Z,3,3,7626930...                                                                                                                    \n",
       "5      30,180703,2017-03-25T09:02:00.000Z,3,4,7626930...                                                                                                                    \n",
       "6      30,180703,2017-03-25T09:03:00.000Z,3,5,7626930...                                                                                                                    \n",
       "7      30,180703,2017-03-25T09:03:00.000Z,3,5,7626930...                                                                                                                    \n",
       "8      30,180703,2017-03-25T09:03:00.000Z,3,5,7626930...                                                                                                                    \n",
       "9      30,180703,2017-03-25T09:03:00.000Z,3,5,7626930...                                                                                                                    \n",
       "10     30,180703,2017-03-25T09:03:00.000Z,3,5,7626930...                                                                                                                    \n",
       "11     30,180703,2017-03-25T09:03:00.000Z,3,5,7626930...                                                                                                                    \n",
       "12     30,180703,2017-03-25T09:03:00.000Z,3,5,7626930...                                                                                                                    \n",
       "13     30,180703,2017-03-25T09:05:00.000Z,3,6,7626930...                                                                                                                    \n",
       "14     30,180703,2017-03-25T09:05:00.000Z,3,6,7626930...                                                                                                                    \n",
       "15     30,180703,2017-03-25T09:05:00.000Z,4,5,7626931...                                                                                                                    \n",
       "16     30,180703,2017-03-25T09:05:00.000Z,3,7,7626931...                                                                                                                    \n",
       "17     30,180703,2017-03-25T09:05:00.000Z,3,7,7626931...                                                                                                                    \n",
       "18     30,180703,2017-03-25T09:05:00.000Z,3,7,7626931...                                                                                                                    \n",
       "19     30,180703,2017-03-25T09:07:00.000Z,3,8,7626931...                                                                                                                    \n",
       "20     30,180703,2017-03-25T09:08:00.000Z,3,9,7626978...                                                                                                                    \n",
       "21     30,180703,2017-03-25T09:08:00.000Z,3,10,762697...                                                                                                                    \n",
       "22     30,180703,2017-03-25T09:08:00.000Z,3,10,762697...                                                                                                                    \n",
       "23     30,180703,2017-03-25T09:08:00.000Z,3,10,762697...                                                                                                                    \n",
       "24     30,180703,2017-03-25T09:08:00.000Z,3,10,762697...                                                                                                                    \n",
       "25     30,180703,2017-03-25T09:08:00.000Z,3,10,762697...                                                                                                                    \n",
       "26     30,180703,2017-03-25T09:08:00.000Z,3,10,762697...                                                                                                                    \n",
       "27     30,180703,2017-03-25T09:11:00.000Z,3,11,762697...                                                                                                                    \n",
       "28     30,180703,2017-03-25T09:11:00.000Z,3,11,762697...                                                                                                                    \n",
       "29     30,180703,2017-03-25T09:11:00.000Z,3,11,762697...                                                                                                                    \n",
       "...                                                  ...                                                                                                                    \n",
       "66272  30,180703,2017-12-05T00:00:00.000Z,99999,99999...                                                                                                                    \n",
       "66273  30,180703,2017-12-05T00:00:00.000Z,99999,99999...                                                                                                                    \n",
       "66274  30,180703,2017-12-05T00:00:00.000Z,99999,99999...                                                                                                                    \n",
       "66275  30,180703,2017-12-04T00:00:00.000Z,99999,99999...                                                                                                                    \n",
       "66276  30,180703,2017-12-04T00:00:00.000Z,99999,99999...                                                                                                                    \n",
       "66277  30,180703,2017-12-04T00:00:00.000Z,99999,99999...                                                                                                                    \n",
       "66278  30,180703,2017-12-04T00:00:00.000Z,99999,99999...                                                                                                                    \n",
       "66279  30,180703,2017-12-04T00:00:00.000Z,99999,99999...                                                                                                                    \n",
       "66280  30,180703,2017-12-04T00:00:00.000Z,99999,99999...                                                                                                                    \n",
       "66281  30,180703,2017-12-04T00:00:00.000Z,99999,99999...                                                                                                                    \n",
       "66282  30,180703,2017-12-04T00:00:00.000Z,99999,99999...                                                                                                                    \n",
       "66283  30,180703,2017-12-04T00:00:00.000Z,99999,99999...                                                                                                                    \n",
       "66284  30,180703,2017-12-04T00:00:00.000Z,99999,99999...                                                                                                                    \n",
       "66285  30,180703,2017-12-04T00:00:00.000Z,99999,99999...                                                                                                                    \n",
       "66286  30,180703,2017-12-04T00:00:00.000Z,99999,99999...                                                                                                                    \n",
       "66287  30,180703,2017-12-08T00:00:00.000Z,99999,99999...                                                                                                                    \n",
       "66288  30,180703,2017-12-08T00:00:00.000Z,99999,99999...                                                                                                                    \n",
       "66289  30,180703,2017-12-08T00:00:00.000Z,99999,99999...                                                                                                                    \n",
       "66290  30,180703,2017-12-08T00:00:00.000Z,99999,99999...                                                                                                                    \n",
       "66291  30,180703,2017-12-08T00:00:00.000Z,99999,99999...                                                                                                                    \n",
       "66292  30,180703,2017-12-08T00:00:00.000Z,99999,99999...                                                                                                                    \n",
       "66293  30,180703,2017-12-08T00:00:00.000Z,99999,99999...                                                                                                                    \n",
       "66294  30,180703,2017-12-08T00:00:00.000Z,99999,99999...                                                                                                                    \n",
       "66295  30,180703,2017-12-08T00:00:00.000Z,99999,99999...                                                                                                                    \n",
       "66296  30,180703,2017-12-08T00:00:00.000Z,99999,99999...                                                                                                                    \n",
       "66297  30,180703,2017-12-08T00:00:00.000Z,99999,99999...                                                                                                                    \n",
       "66298  30,180703,2017-12-08T00:00:00.000Z,99999,99999...                                                                                                                    \n",
       "66299  30,180703,2017-12-08T00:00:00.000Z,99999,99999...                                                                                                                    \n",
       "66300  30,180703,2017-12-29T00:00:00.000Z,99999,99999...                                                                                                                    \n",
       "66301  30,180703,2017-12-29T00:00:00.000Z,99999,99999...                                                                                                                    \n",
       "\n",
       "[280834 rows x 1 columns]"
      ]
     },
     "execution_count": 23,
     "metadata": {},
     "output_type": "execute_result"
    }
   ],
   "source": [
    "# to combine data sets, but viewed separately still\n",
    "store180703 = [march,june,september,december]\n",
    "store180703 = pd.concat(store180703)\n",
    "store180703.head()\n",
    "store180703.count()\n",
    "store180703"
   ]
  },
  {
   "cell_type": "code",
   "execution_count": null,
   "metadata": {},
   "outputs": [],
   "source": [
    "# check against excel records?\n",
    "excel = pd.read_excel(r\"C:\\Users\\yj_pc\\Desktop\\berlin\\htw berlin\\MPMD_Dateien\\1.2 Fdns Data Analytics & Stats Prog\\001_Data_CONFIDENTIAL\\sales_records.xlsx\", sheetname=None)\n",
    "excel.count()"
   ]
  },
  {
   "cell_type": "code",
   "execution_count": null,
   "metadata": {},
   "outputs": [],
   "source": []
  },
  {
   "cell_type": "code",
   "execution_count": 17,
   "metadata": {},
   "outputs": [
    {
     "data": {
      "text/plain": [
       "mainBusinessType         101141\n",
       "location                 101141\n",
       "datetime                 101141\n",
       "cashRegisterNumber       101141\n",
       "checkoutReceiptNumber    101141\n",
       "receiptNumber            101141\n",
       "loyaltyId                101141\n",
       "productEan               101141\n",
       "productId                101141\n",
       "commodityGroup           101141\n",
       "productGroup             101141\n",
       "amount                   101141\n",
       "grossPrice               101141\n",
       "dtype: int64"
      ]
     },
     "execution_count": 17,
     "metadata": {},
     "output_type": "execute_result"
    }
   ],
   "source": [
    "merged.fillna(value={'loyaltyId': 0}, inplace = True)\n",
    "merged.count()"
   ]
  },
  {
   "cell_type": "code",
   "execution_count": 26,
   "metadata": {},
   "outputs": [
    {
     "data": {
      "text/plain": [
       "mainBusinessType         97236\n",
       "location                 97236\n",
       "datetime                 97236\n",
       "cashRegisterNumber       97236\n",
       "checkoutReceiptNumber    97236\n",
       "receiptNumber            97236\n",
       "loyaltyId                97236\n",
       "productEan               97236\n",
       "productId                97236\n",
       "commodityGroup           97236\n",
       "productGroup             97236\n",
       "amount                   97236\n",
       "grossPrice               97236\n",
       "dtype: int64"
      ]
     },
     "execution_count": 26,
     "metadata": {},
     "output_type": "execute_result"
    }
   ],
   "source": [
    "merged_only_positives = merged[(merged.grossPrice > 0) & (merged.amount > 0)]\n",
    "merged_only_positives.count()"
   ]
  },
  {
   "cell_type": "code",
   "execution_count": 18,
   "metadata": {},
   "outputs": [
    {
     "data": {
      "text/plain": [
       "mainBusinessType         1027\n",
       "location                 1027\n",
       "datetime                 1027\n",
       "cashRegisterNumber       1027\n",
       "checkoutReceiptNumber    1027\n",
       "receiptNumber            1027\n",
       "loyaltyId                1027\n",
       "productEan               1027\n",
       "productId                1027\n",
       "commodityGroup           1027\n",
       "productGroup             1027\n",
       "amount                   1027\n",
       "grossPrice               1027\n",
       "dtype: int64"
      ]
     },
     "execution_count": 18,
     "metadata": {},
     "output_type": "execute_result"
    }
   ],
   "source": [
    "merged_only_zeros = merged[(merged.grossPrice == 0) | (merged.amount == 0)]\n",
    "merged_only_zeros.count()"
   ]
  },
  {
   "cell_type": "code",
   "execution_count": 19,
   "metadata": {},
   "outputs": [
    {
     "data": {
      "text/plain": [
       "mainBusinessType         2878\n",
       "location                 2878\n",
       "datetime                 2878\n",
       "cashRegisterNumber       2878\n",
       "checkoutReceiptNumber    2878\n",
       "receiptNumber            2878\n",
       "loyaltyId                2878\n",
       "productEan               2878\n",
       "productId                2878\n",
       "commodityGroup           2878\n",
       "productGroup             2878\n",
       "amount                   2878\n",
       "grossPrice               2878\n",
       "dtype: int64"
      ]
     },
     "execution_count": 19,
     "metadata": {},
     "output_type": "execute_result"
    }
   ],
   "source": [
    "merged_only_negatives = merged[(merged.grossPrice < 0) & (merged.amount < 0)]\n",
    "merged_only_negatives.count()"
   ]
  },
  {
   "cell_type": "code",
   "execution_count": 20,
   "metadata": {},
   "outputs": [
    {
     "data": {
      "text/plain": [
       "mainBusinessType         0\n",
       "location                 0\n",
       "datetime                 0\n",
       "cashRegisterNumber       0\n",
       "checkoutReceiptNumber    0\n",
       "receiptNumber            0\n",
       "loyaltyId                0\n",
       "productEan               0\n",
       "productId                0\n",
       "commodityGroup           0\n",
       "productGroup             0\n",
       "amount                   0\n",
       "grossPrice               0\n",
       "dtype: int64"
      ]
     },
     "execution_count": 20,
     "metadata": {},
     "output_type": "execute_result"
    }
   ],
   "source": [
    "check_for_garbage_1 = merged[(merged.grossPrice > 0) & (merged.amount < 0)]\n",
    "check_for_garbage_1.count()"
   ]
  },
  {
   "cell_type": "code",
   "execution_count": 21,
   "metadata": {},
   "outputs": [
    {
     "data": {
      "text/plain": [
       "mainBusinessType         0\n",
       "location                 0\n",
       "datetime                 0\n",
       "cashRegisterNumber       0\n",
       "checkoutReceiptNumber    0\n",
       "receiptNumber            0\n",
       "loyaltyId                0\n",
       "productEan               0\n",
       "productId                0\n",
       "commodityGroup           0\n",
       "productGroup             0\n",
       "amount                   0\n",
       "grossPrice               0\n",
       "dtype: int64"
      ]
     },
     "execution_count": 21,
     "metadata": {},
     "output_type": "execute_result"
    }
   ],
   "source": [
    "check_for_garbage_2 = merged[(merged.grossPrice < 0) & (merged.amount > 0)]\n",
    "check_for_garbage_2.count()"
   ]
  },
  {
   "cell_type": "code",
   "execution_count": 1,
   "metadata": {},
   "outputs": [
    {
     "ename": "NameError",
     "evalue": "name 'merged' is not defined",
     "output_type": "error",
     "traceback": [
      "\u001b[1;31m---------------------------------------------------------------------------\u001b[0m",
      "\u001b[1;31mNameError\u001b[0m                                 Traceback (most recent call last)",
      "\u001b[1;32m<ipython-input-1-90210b269a7b>\u001b[0m in \u001b[0;36m<module>\u001b[1;34m()\u001b[0m\n\u001b[1;32m----> 1\u001b[1;33m \u001b[0mmerged\u001b[0m\u001b[1;33m[\u001b[0m\u001b[1;33m[\u001b[0m\u001b[1;34m'loyaltyId'\u001b[0m\u001b[1;33m,\u001b[0m\u001b[1;34m'productId'\u001b[0m\u001b[1;33m,\u001b[0m \u001b[1;34m'amount'\u001b[0m\u001b[1;33m,\u001b[0m \u001b[1;34m'grossPrice'\u001b[0m\u001b[1;33m]\u001b[0m\u001b[1;33m]\u001b[0m\u001b[1;33m.\u001b[0m\u001b[0mhead\u001b[0m\u001b[1;33m(\u001b[0m\u001b[1;33m)\u001b[0m\u001b[1;33m\u001b[0m\u001b[0m\n\u001b[0m\u001b[0;32m      2\u001b[0m \u001b[0mmerged\u001b[0m\u001b[1;33m\u001b[0m\u001b[0m\n",
      "\u001b[1;31mNameError\u001b[0m: name 'merged' is not defined"
     ]
    }
   ],
   "source": [
    "merged[['loyaltyId','productId', 'amount', 'grossPrice']].head()"
   ]
  },
  {
   "cell_type": "code",
   "execution_count": 27,
   "metadata": {},
   "outputs": [
    {
     "data": {
      "text/plain": [
       "19248"
      ]
     },
     "execution_count": 27,
     "metadata": {},
     "output_type": "execute_result"
    }
   ],
   "source": [
    "merged_only_positives['productId'].nunique()"
   ]
  },
  {
   "cell_type": "code",
   "execution_count": 25,
   "metadata": {},
   "outputs": [
    {
     "data": {
      "text/plain": [
       "19333"
      ]
     },
     "execution_count": 25,
     "metadata": {},
     "output_type": "execute_result"
    }
   ],
   "source": [
    "merged['productId'].nunique()"
   ]
  },
  {
   "cell_type": "code",
   "execution_count": 38,
   "metadata": {},
   "outputs": [
    {
     "ename": "AttributeError",
     "evalue": "'DataFrameGroupBy' object has no attribute 'average'",
     "output_type": "error",
     "traceback": [
      "\u001b[1;31m---------------------------------------------------------------------------\u001b[0m",
      "\u001b[1;31mAttributeError\u001b[0m                            Traceback (most recent call last)",
      "\u001b[1;32m<ipython-input-38-98489130f691>\u001b[0m in \u001b[0;36m<module>\u001b[1;34m()\u001b[0m\n\u001b[0;32m      1\u001b[0m \u001b[0mseparated\u001b[0m \u001b[1;33m=\u001b[0m \u001b[0mmerged_only_positives\u001b[0m\u001b[1;33m[\u001b[0m\u001b[1;33m[\u001b[0m\u001b[1;34m'loyaltyId'\u001b[0m\u001b[1;33m,\u001b[0m\u001b[1;34m'productId'\u001b[0m\u001b[1;33m,\u001b[0m \u001b[1;34m'amount'\u001b[0m\u001b[1;33m,\u001b[0m \u001b[1;34m'grossPrice'\u001b[0m\u001b[1;33m]\u001b[0m\u001b[1;33m]\u001b[0m\u001b[1;33m\u001b[0m\u001b[0m\n\u001b[0;32m      2\u001b[0m \u001b[1;33m\u001b[0m\u001b[0m\n\u001b[1;32m----> 3\u001b[1;33m \u001b[0mseparated\u001b[0m\u001b[1;33m.\u001b[0m\u001b[0mgroupby\u001b[0m\u001b[1;33m(\u001b[0m\u001b[1;33m[\u001b[0m\u001b[1;34m'loyaltyId'\u001b[0m\u001b[1;33m,\u001b[0m\u001b[1;34m'productId'\u001b[0m\u001b[1;33m,\u001b[0m \u001b[1;34m'amount'\u001b[0m\u001b[1;33m]\u001b[0m\u001b[1;33m)\u001b[0m\u001b[1;33m.\u001b[0m\u001b[0maverage\u001b[0m\u001b[1;33m(\u001b[0m\u001b[1;33m)\u001b[0m\u001b[1;33m\u001b[0m\u001b[0m\n\u001b[0m\u001b[0;32m      4\u001b[0m \u001b[1;31m#index = pd.MultiIndex.from_arrays(arrays, names=['first', 'second'])\u001b[0m\u001b[1;33m\u001b[0m\u001b[1;33m\u001b[0m\u001b[0m\n",
      "\u001b[1;32m~\\Anaconda3\\lib\\site-packages\\pandas\\core\\groupby\\groupby.py\u001b[0m in \u001b[0;36m__getattr__\u001b[1;34m(self, attr)\u001b[0m\n\u001b[0;32m    763\u001b[0m \u001b[1;33m\u001b[0m\u001b[0m\n\u001b[0;32m    764\u001b[0m         raise AttributeError(\"%r object has no attribute %r\" %\n\u001b[1;32m--> 765\u001b[1;33m                              (type(self).__name__, attr))\n\u001b[0m\u001b[0;32m    766\u001b[0m \u001b[1;33m\u001b[0m\u001b[0m\n\u001b[0;32m    767\u001b[0m     @Substitution(klass='GroupBy',\n",
      "\u001b[1;31mAttributeError\u001b[0m: 'DataFrameGroupBy' object has no attribute 'average'"
     ]
    }
   ],
   "source": [
    "separated = merged_only_positives[['loyaltyId','productId', 'amount', 'grossPrice']]\n",
    "\n",
    "separated.groupby(['loyaltyId','productId', 'amount']).average()\n",
    "#index = pd.MultiIndex.from_arrays(arrays, names=['first', 'second'])\n"
   ]
  },
  {
   "cell_type": "code",
   "execution_count": null,
   "metadata": {},
   "outputs": [],
   "source": [
    "separated1 = separated.groupby('productId')\n",
    "separated1.describe()"
   ]
  },
  {
   "cell_type": "code",
   "execution_count": null,
   "metadata": {},
   "outputs": [],
   "source": [
    "separated.head()"
   ]
  },
  {
   "cell_type": "code",
   "execution_count": null,
   "metadata": {},
   "outputs": [],
   "source": []
  }
 ],
 "metadata": {
  "kernelspec": {
   "display_name": "Python 3",
   "language": "python",
   "name": "python3"
  },
  "language_info": {
   "codemirror_mode": {
    "name": "ipython",
    "version": 3
   },
   "file_extension": ".py",
   "mimetype": "text/x-python",
   "name": "python",
   "nbconvert_exporter": "python",
   "pygments_lexer": "ipython3",
   "version": "3.7.0"
  }
 },
 "nbformat": 4,
 "nbformat_minor": 2
}
