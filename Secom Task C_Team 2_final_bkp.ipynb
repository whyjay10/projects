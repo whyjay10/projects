{
 "cells": [
  {
   "cell_type": "markdown",
   "metadata": {},
   "source": [
    "## Import required packages\n",
    "\n",
    "- numpy is the fundamental package for scientific computing with Python.\n",
    "- matplotlib is a library to plot graphs in Python.\n",
    "- seaborn is a Python data visualization library based on matplotlib. It provides a high-level interface for drawing attractive and informative statistical graphics.\n",
    "- scipy is a Python-based ecosystem of open-source software for mathematics, science, and engineering.\n",
    "- statistics provides functions for calculating mathematical statistics of numeric (Real-valued) data.\n",
    "- itertools is function creating iterators for efficient looping\n",
    "- sklearn is a machine learning library for Python language.\n",
    "- boruta is feature wrapping technique based on random forest.\n",
    "- SMOTE and ADASYN is the oversampling technique in the library imblearn.over_sampling\n",
    "\n",
    "\n",
    "- np.random.seed(42) is used to keep all the random function calls consistent."
   ]
  },
  {
   "cell_type": "code",
   "execution_count": 1,
   "metadata": {},
   "outputs": [
    {
     "name": "stderr",
     "output_type": "stream",
     "text": [
      "C:\\Users\\yj_pc\\Anaconda3\\lib\\site-packages\\sklearn\\externals\\six.py:31: DeprecationWarning: The module is deprecated in version 0.21 and will be removed in version 0.23 since we've dropped support for Python 2.7. Please rely on the official version of six (https://pypi.org/project/six/).\n",
      "  \"(https://pypi.org/project/six/).\", DeprecationWarning)\n"
     ]
    }
   ],
   "source": [
    "import pandas as pd\n",
    "import numpy as np\n",
    "import requests\n",
    "import io\n",
    "import matplotlib.pyplot as plt\n",
    "import seaborn as sns\n",
    "from scipy import stats\n",
    "from sklearn.model_selection import StratifiedShuffleSplit   \n",
    "from itertools import product\n",
    "from statistics import mean\n",
    "from sklearn.ensemble import RandomForestClassifier\n",
    "from sklearn.naive_bayes import GaussianNB\n",
    "from boruta import BorutaPy\n",
    "from sklearn.linear_model import LogisticRegression\n",
    "from sklearn.preprocessing import StandardScaler\n",
    "from sklearn.ensemble import VotingClassifier\n",
    "from imblearn.over_sampling import SMOTE\n",
    "from imblearn.over_sampling import ADASYN\n",
    "from sklearn.ensemble import AdaBoostClassifier\n",
    "from sklearn.tree import DecisionTreeClassifier\n",
    "from sklearn.metrics import confusion_matrix, accuracy_score,f1_score, precision_recall_curve, auc, roc_auc_score, roc_curve, recall_score, classification_report\n",
    "from sklearn.model_selection import cross_val_score\n",
    "\n",
    "np.random.seed(42)       \n",
    "#from fancyimpute import KNN"
   ]
  },
  {
   "cell_type": "markdown",
   "metadata": {},
   "source": [
    "##  Step 1: Get data from online source"
   ]
  },
  {
   "cell_type": "code",
   "execution_count": 2,
   "metadata": {},
   "outputs": [],
   "source": [
    "# read the data online\n",
    "secom_get = requests.get('https://archive.ics.uci.edu/ml/machine-learning-databases/secom/secom.data')\n",
    "secom_label_get = requests.get('https://archive.ics.uci.edu/ml/machine-learning-databases/secom/secom_labels.data')\n",
    "secom_df = pd.read_csv(io.StringIO(secom_get.text), delim_whitespace=True, header=None)\n",
    "secom_label_df = pd.read_csv(io.StringIO(secom_label_get.text), delim_whitespace=True, header=None)"
   ]
  },
  {
   "cell_type": "code",
   "execution_count": 3,
   "metadata": {
    "scrolled": true
   },
   "outputs": [],
   "source": [
    "#create column names for the first dataset\n",
    "secom_cols = []\n",
    "\n",
    "#loop to assign column names to all columns for the first dataset. \n",
    "#!! Do not run more than once. As the column names get affected. If it is run execute the read_csv line for secon_df.!!\n",
    "for i in range(1, secom_df.shape[1]+1):\n",
    "    secom_cols.append('feature_'+str(i))\n",
    "\n",
    "#Column names for the second dataset\n",
    "secom_label_cols = ['Result','Datetime']\n",
    "\n",
    "#assign column names to the dataframes\n",
    "secom_df.columns=secom_cols\n",
    "secom_label_df.columns = secom_label_cols"
   ]
  },
  {
   "cell_type": "code",
   "execution_count": 4,
   "metadata": {},
   "outputs": [
    {
     "data": {
      "text/html": [
       "<div>\n",
       "<style scoped>\n",
       "    .dataframe tbody tr th:only-of-type {\n",
       "        vertical-align: middle;\n",
       "    }\n",
       "\n",
       "    .dataframe tbody tr th {\n",
       "        vertical-align: top;\n",
       "    }\n",
       "\n",
       "    .dataframe thead th {\n",
       "        text-align: right;\n",
       "    }\n",
       "</style>\n",
       "<table border=\"1\" class=\"dataframe\">\n",
       "  <thead>\n",
       "    <tr style=\"text-align: right;\">\n",
       "      <th></th>\n",
       "      <th>feature_1</th>\n",
       "      <th>feature_2</th>\n",
       "      <th>feature_3</th>\n",
       "      <th>feature_4</th>\n",
       "      <th>feature_5</th>\n",
       "      <th>feature_6</th>\n",
       "      <th>feature_7</th>\n",
       "      <th>feature_8</th>\n",
       "      <th>feature_9</th>\n",
       "      <th>feature_10</th>\n",
       "      <th>...</th>\n",
       "      <th>feature_581</th>\n",
       "      <th>feature_582</th>\n",
       "      <th>feature_583</th>\n",
       "      <th>feature_584</th>\n",
       "      <th>feature_585</th>\n",
       "      <th>feature_586</th>\n",
       "      <th>feature_587</th>\n",
       "      <th>feature_588</th>\n",
       "      <th>feature_589</th>\n",
       "      <th>feature_590</th>\n",
       "    </tr>\n",
       "  </thead>\n",
       "  <tbody>\n",
       "    <tr>\n",
       "      <th>0</th>\n",
       "      <td>3030.93</td>\n",
       "      <td>2564.00</td>\n",
       "      <td>2187.7333</td>\n",
       "      <td>1411.1265</td>\n",
       "      <td>1.3602</td>\n",
       "      <td>100.0</td>\n",
       "      <td>97.6133</td>\n",
       "      <td>0.1242</td>\n",
       "      <td>1.5005</td>\n",
       "      <td>0.0162</td>\n",
       "      <td>...</td>\n",
       "      <td>NaN</td>\n",
       "      <td>NaN</td>\n",
       "      <td>0.5005</td>\n",
       "      <td>0.0118</td>\n",
       "      <td>0.0035</td>\n",
       "      <td>2.3630</td>\n",
       "      <td>NaN</td>\n",
       "      <td>NaN</td>\n",
       "      <td>NaN</td>\n",
       "      <td>NaN</td>\n",
       "    </tr>\n",
       "    <tr>\n",
       "      <th>1</th>\n",
       "      <td>3095.78</td>\n",
       "      <td>2465.14</td>\n",
       "      <td>2230.4222</td>\n",
       "      <td>1463.6606</td>\n",
       "      <td>0.8294</td>\n",
       "      <td>100.0</td>\n",
       "      <td>102.3433</td>\n",
       "      <td>0.1247</td>\n",
       "      <td>1.4966</td>\n",
       "      <td>-0.0005</td>\n",
       "      <td>...</td>\n",
       "      <td>0.0060</td>\n",
       "      <td>208.2045</td>\n",
       "      <td>0.5019</td>\n",
       "      <td>0.0223</td>\n",
       "      <td>0.0055</td>\n",
       "      <td>4.4447</td>\n",
       "      <td>0.0096</td>\n",
       "      <td>0.0201</td>\n",
       "      <td>0.0060</td>\n",
       "      <td>208.2045</td>\n",
       "    </tr>\n",
       "    <tr>\n",
       "      <th>2</th>\n",
       "      <td>2932.61</td>\n",
       "      <td>2559.94</td>\n",
       "      <td>2186.4111</td>\n",
       "      <td>1698.0172</td>\n",
       "      <td>1.5102</td>\n",
       "      <td>100.0</td>\n",
       "      <td>95.4878</td>\n",
       "      <td>0.1241</td>\n",
       "      <td>1.4436</td>\n",
       "      <td>0.0041</td>\n",
       "      <td>...</td>\n",
       "      <td>0.0148</td>\n",
       "      <td>82.8602</td>\n",
       "      <td>0.4958</td>\n",
       "      <td>0.0157</td>\n",
       "      <td>0.0039</td>\n",
       "      <td>3.1745</td>\n",
       "      <td>0.0584</td>\n",
       "      <td>0.0484</td>\n",
       "      <td>0.0148</td>\n",
       "      <td>82.8602</td>\n",
       "    </tr>\n",
       "    <tr>\n",
       "      <th>3</th>\n",
       "      <td>2988.72</td>\n",
       "      <td>2479.90</td>\n",
       "      <td>2199.0333</td>\n",
       "      <td>909.7926</td>\n",
       "      <td>1.3204</td>\n",
       "      <td>100.0</td>\n",
       "      <td>104.2367</td>\n",
       "      <td>0.1217</td>\n",
       "      <td>1.4882</td>\n",
       "      <td>-0.0124</td>\n",
       "      <td>...</td>\n",
       "      <td>0.0044</td>\n",
       "      <td>73.8432</td>\n",
       "      <td>0.4990</td>\n",
       "      <td>0.0103</td>\n",
       "      <td>0.0025</td>\n",
       "      <td>2.0544</td>\n",
       "      <td>0.0202</td>\n",
       "      <td>0.0149</td>\n",
       "      <td>0.0044</td>\n",
       "      <td>73.8432</td>\n",
       "    </tr>\n",
       "    <tr>\n",
       "      <th>4</th>\n",
       "      <td>3032.24</td>\n",
       "      <td>2502.87</td>\n",
       "      <td>2233.3667</td>\n",
       "      <td>1326.5200</td>\n",
       "      <td>1.5334</td>\n",
       "      <td>100.0</td>\n",
       "      <td>100.3967</td>\n",
       "      <td>0.1235</td>\n",
       "      <td>1.5031</td>\n",
       "      <td>-0.0031</td>\n",
       "      <td>...</td>\n",
       "      <td>NaN</td>\n",
       "      <td>NaN</td>\n",
       "      <td>0.4800</td>\n",
       "      <td>0.4766</td>\n",
       "      <td>0.1045</td>\n",
       "      <td>99.3032</td>\n",
       "      <td>0.0202</td>\n",
       "      <td>0.0149</td>\n",
       "      <td>0.0044</td>\n",
       "      <td>73.8432</td>\n",
       "    </tr>\n",
       "  </tbody>\n",
       "</table>\n",
       "<p>5 rows × 590 columns</p>\n",
       "</div>"
      ],
      "text/plain": [
       "   feature_1  feature_2  feature_3  feature_4  feature_5  feature_6  \\\n",
       "0    3030.93    2564.00  2187.7333  1411.1265     1.3602      100.0   \n",
       "1    3095.78    2465.14  2230.4222  1463.6606     0.8294      100.0   \n",
       "2    2932.61    2559.94  2186.4111  1698.0172     1.5102      100.0   \n",
       "3    2988.72    2479.90  2199.0333   909.7926     1.3204      100.0   \n",
       "4    3032.24    2502.87  2233.3667  1326.5200     1.5334      100.0   \n",
       "\n",
       "   feature_7  feature_8  feature_9  feature_10     ...       feature_581  \\\n",
       "0    97.6133     0.1242     1.5005      0.0162     ...               NaN   \n",
       "1   102.3433     0.1247     1.4966     -0.0005     ...            0.0060   \n",
       "2    95.4878     0.1241     1.4436      0.0041     ...            0.0148   \n",
       "3   104.2367     0.1217     1.4882     -0.0124     ...            0.0044   \n",
       "4   100.3967     0.1235     1.5031     -0.0031     ...               NaN   \n",
       "\n",
       "   feature_582  feature_583  feature_584  feature_585  feature_586  \\\n",
       "0          NaN       0.5005       0.0118       0.0035       2.3630   \n",
       "1     208.2045       0.5019       0.0223       0.0055       4.4447   \n",
       "2      82.8602       0.4958       0.0157       0.0039       3.1745   \n",
       "3      73.8432       0.4990       0.0103       0.0025       2.0544   \n",
       "4          NaN       0.4800       0.4766       0.1045      99.3032   \n",
       "\n",
       "   feature_587  feature_588  feature_589  feature_590  \n",
       "0          NaN          NaN          NaN          NaN  \n",
       "1       0.0096       0.0201       0.0060     208.2045  \n",
       "2       0.0584       0.0484       0.0148      82.8602  \n",
       "3       0.0202       0.0149       0.0044      73.8432  \n",
       "4       0.0202       0.0149       0.0044      73.8432  \n",
       "\n",
       "[5 rows x 590 columns]"
      ]
     },
     "execution_count": 4,
     "metadata": {},
     "output_type": "execute_result"
    }
   ],
   "source": [
    "# Have a quick look of the first 5 rows of dataset\n",
    "secom_df.head()"
   ]
  },
  {
   "cell_type": "code",
   "execution_count": 5,
   "metadata": {
    "scrolled": true
   },
   "outputs": [],
   "source": [
    "# secom_label_df.head()"
   ]
  },
  {
   "cell_type": "code",
   "execution_count": 5,
   "metadata": {},
   "outputs": [],
   "source": [
    "#appending both dataframes to create the final dataset\n",
    "\n",
    "secom_origin_df = pd.concat([secom_label_df, secom_df], axis=1)"
   ]
  },
  {
   "cell_type": "code",
   "execution_count": 6,
   "metadata": {},
   "outputs": [
    {
     "data": {
      "text/html": [
       "<div>\n",
       "<style scoped>\n",
       "    .dataframe tbody tr th:only-of-type {\n",
       "        vertical-align: middle;\n",
       "    }\n",
       "\n",
       "    .dataframe tbody tr th {\n",
       "        vertical-align: top;\n",
       "    }\n",
       "\n",
       "    .dataframe thead th {\n",
       "        text-align: right;\n",
       "    }\n",
       "</style>\n",
       "<table border=\"1\" class=\"dataframe\">\n",
       "  <thead>\n",
       "    <tr style=\"text-align: right;\">\n",
       "      <th></th>\n",
       "      <th>Result</th>\n",
       "      <th>Datetime</th>\n",
       "      <th>feature_1</th>\n",
       "      <th>feature_2</th>\n",
       "      <th>feature_3</th>\n",
       "      <th>feature_4</th>\n",
       "      <th>feature_5</th>\n",
       "      <th>feature_6</th>\n",
       "      <th>feature_7</th>\n",
       "      <th>feature_8</th>\n",
       "      <th>...</th>\n",
       "      <th>feature_581</th>\n",
       "      <th>feature_582</th>\n",
       "      <th>feature_583</th>\n",
       "      <th>feature_584</th>\n",
       "      <th>feature_585</th>\n",
       "      <th>feature_586</th>\n",
       "      <th>feature_587</th>\n",
       "      <th>feature_588</th>\n",
       "      <th>feature_589</th>\n",
       "      <th>feature_590</th>\n",
       "    </tr>\n",
       "  </thead>\n",
       "  <tbody>\n",
       "    <tr>\n",
       "      <th>0</th>\n",
       "      <td>-1</td>\n",
       "      <td>19/07/2008 11:55:00</td>\n",
       "      <td>3030.93</td>\n",
       "      <td>2564.00</td>\n",
       "      <td>2187.7333</td>\n",
       "      <td>1411.1265</td>\n",
       "      <td>1.3602</td>\n",
       "      <td>100.0</td>\n",
       "      <td>97.6133</td>\n",
       "      <td>0.1242</td>\n",
       "      <td>...</td>\n",
       "      <td>NaN</td>\n",
       "      <td>NaN</td>\n",
       "      <td>0.5005</td>\n",
       "      <td>0.0118</td>\n",
       "      <td>0.0035</td>\n",
       "      <td>2.3630</td>\n",
       "      <td>NaN</td>\n",
       "      <td>NaN</td>\n",
       "      <td>NaN</td>\n",
       "      <td>NaN</td>\n",
       "    </tr>\n",
       "    <tr>\n",
       "      <th>1</th>\n",
       "      <td>-1</td>\n",
       "      <td>19/07/2008 12:32:00</td>\n",
       "      <td>3095.78</td>\n",
       "      <td>2465.14</td>\n",
       "      <td>2230.4222</td>\n",
       "      <td>1463.6606</td>\n",
       "      <td>0.8294</td>\n",
       "      <td>100.0</td>\n",
       "      <td>102.3433</td>\n",
       "      <td>0.1247</td>\n",
       "      <td>...</td>\n",
       "      <td>0.0060</td>\n",
       "      <td>208.2045</td>\n",
       "      <td>0.5019</td>\n",
       "      <td>0.0223</td>\n",
       "      <td>0.0055</td>\n",
       "      <td>4.4447</td>\n",
       "      <td>0.0096</td>\n",
       "      <td>0.0201</td>\n",
       "      <td>0.0060</td>\n",
       "      <td>208.2045</td>\n",
       "    </tr>\n",
       "    <tr>\n",
       "      <th>2</th>\n",
       "      <td>1</td>\n",
       "      <td>19/07/2008 13:17:00</td>\n",
       "      <td>2932.61</td>\n",
       "      <td>2559.94</td>\n",
       "      <td>2186.4111</td>\n",
       "      <td>1698.0172</td>\n",
       "      <td>1.5102</td>\n",
       "      <td>100.0</td>\n",
       "      <td>95.4878</td>\n",
       "      <td>0.1241</td>\n",
       "      <td>...</td>\n",
       "      <td>0.0148</td>\n",
       "      <td>82.8602</td>\n",
       "      <td>0.4958</td>\n",
       "      <td>0.0157</td>\n",
       "      <td>0.0039</td>\n",
       "      <td>3.1745</td>\n",
       "      <td>0.0584</td>\n",
       "      <td>0.0484</td>\n",
       "      <td>0.0148</td>\n",
       "      <td>82.8602</td>\n",
       "    </tr>\n",
       "    <tr>\n",
       "      <th>3</th>\n",
       "      <td>-1</td>\n",
       "      <td>19/07/2008 14:43:00</td>\n",
       "      <td>2988.72</td>\n",
       "      <td>2479.90</td>\n",
       "      <td>2199.0333</td>\n",
       "      <td>909.7926</td>\n",
       "      <td>1.3204</td>\n",
       "      <td>100.0</td>\n",
       "      <td>104.2367</td>\n",
       "      <td>0.1217</td>\n",
       "      <td>...</td>\n",
       "      <td>0.0044</td>\n",
       "      <td>73.8432</td>\n",
       "      <td>0.4990</td>\n",
       "      <td>0.0103</td>\n",
       "      <td>0.0025</td>\n",
       "      <td>2.0544</td>\n",
       "      <td>0.0202</td>\n",
       "      <td>0.0149</td>\n",
       "      <td>0.0044</td>\n",
       "      <td>73.8432</td>\n",
       "    </tr>\n",
       "    <tr>\n",
       "      <th>4</th>\n",
       "      <td>-1</td>\n",
       "      <td>19/07/2008 15:22:00</td>\n",
       "      <td>3032.24</td>\n",
       "      <td>2502.87</td>\n",
       "      <td>2233.3667</td>\n",
       "      <td>1326.5200</td>\n",
       "      <td>1.5334</td>\n",
       "      <td>100.0</td>\n",
       "      <td>100.3967</td>\n",
       "      <td>0.1235</td>\n",
       "      <td>...</td>\n",
       "      <td>NaN</td>\n",
       "      <td>NaN</td>\n",
       "      <td>0.4800</td>\n",
       "      <td>0.4766</td>\n",
       "      <td>0.1045</td>\n",
       "      <td>99.3032</td>\n",
       "      <td>0.0202</td>\n",
       "      <td>0.0149</td>\n",
       "      <td>0.0044</td>\n",
       "      <td>73.8432</td>\n",
       "    </tr>\n",
       "  </tbody>\n",
       "</table>\n",
       "<p>5 rows × 592 columns</p>\n",
       "</div>"
      ],
      "text/plain": [
       "   Result             Datetime  feature_1  feature_2  feature_3  feature_4  \\\n",
       "0      -1  19/07/2008 11:55:00    3030.93    2564.00  2187.7333  1411.1265   \n",
       "1      -1  19/07/2008 12:32:00    3095.78    2465.14  2230.4222  1463.6606   \n",
       "2       1  19/07/2008 13:17:00    2932.61    2559.94  2186.4111  1698.0172   \n",
       "3      -1  19/07/2008 14:43:00    2988.72    2479.90  2199.0333   909.7926   \n",
       "4      -1  19/07/2008 15:22:00    3032.24    2502.87  2233.3667  1326.5200   \n",
       "\n",
       "   feature_5  feature_6  feature_7  feature_8     ...       feature_581  \\\n",
       "0     1.3602      100.0    97.6133     0.1242     ...               NaN   \n",
       "1     0.8294      100.0   102.3433     0.1247     ...            0.0060   \n",
       "2     1.5102      100.0    95.4878     0.1241     ...            0.0148   \n",
       "3     1.3204      100.0   104.2367     0.1217     ...            0.0044   \n",
       "4     1.5334      100.0   100.3967     0.1235     ...               NaN   \n",
       "\n",
       "   feature_582  feature_583  feature_584  feature_585  feature_586  \\\n",
       "0          NaN       0.5005       0.0118       0.0035       2.3630   \n",
       "1     208.2045       0.5019       0.0223       0.0055       4.4447   \n",
       "2      82.8602       0.4958       0.0157       0.0039       3.1745   \n",
       "3      73.8432       0.4990       0.0103       0.0025       2.0544   \n",
       "4          NaN       0.4800       0.4766       0.1045      99.3032   \n",
       "\n",
       "   feature_587  feature_588  feature_589  feature_590  \n",
       "0          NaN          NaN          NaN          NaN  \n",
       "1       0.0096       0.0201       0.0060     208.2045  \n",
       "2       0.0584       0.0484       0.0148      82.8602  \n",
       "3       0.0202       0.0149       0.0044      73.8432  \n",
       "4       0.0202       0.0149       0.0044      73.8432  \n",
       "\n",
       "[5 rows x 592 columns]"
      ]
     },
     "execution_count": 6,
     "metadata": {},
     "output_type": "execute_result"
    }
   ],
   "source": [
    "secom_origin_df.head()"
   ]
  },
  {
   "cell_type": "markdown",
   "metadata": {},
   "source": [
    "## Step 2:  Data Understanding"
   ]
  },
  {
   "cell_type": "code",
   "execution_count": 8,
   "metadata": {
    "scrolled": true
   },
   "outputs": [
    {
     "data": {
      "text/html": [
       "<div>\n",
       "<style scoped>\n",
       "    .dataframe tbody tr th:only-of-type {\n",
       "        vertical-align: middle;\n",
       "    }\n",
       "\n",
       "    .dataframe tbody tr th {\n",
       "        vertical-align: top;\n",
       "    }\n",
       "\n",
       "    .dataframe thead th {\n",
       "        text-align: right;\n",
       "    }\n",
       "</style>\n",
       "<table border=\"1\" class=\"dataframe\">\n",
       "  <thead>\n",
       "    <tr style=\"text-align: right;\">\n",
       "      <th></th>\n",
       "      <th>Result</th>\n",
       "      <th>feature_1</th>\n",
       "      <th>feature_2</th>\n",
       "      <th>feature_3</th>\n",
       "      <th>feature_4</th>\n",
       "      <th>feature_5</th>\n",
       "      <th>feature_6</th>\n",
       "      <th>feature_7</th>\n",
       "      <th>feature_8</th>\n",
       "      <th>feature_9</th>\n",
       "      <th>...</th>\n",
       "      <th>feature_581</th>\n",
       "      <th>feature_582</th>\n",
       "      <th>feature_583</th>\n",
       "      <th>feature_584</th>\n",
       "      <th>feature_585</th>\n",
       "      <th>feature_586</th>\n",
       "      <th>feature_587</th>\n",
       "      <th>feature_588</th>\n",
       "      <th>feature_589</th>\n",
       "      <th>feature_590</th>\n",
       "    </tr>\n",
       "  </thead>\n",
       "  <tbody>\n",
       "    <tr>\n",
       "      <th>count</th>\n",
       "      <td>1567.000000</td>\n",
       "      <td>1561.000000</td>\n",
       "      <td>1560.000000</td>\n",
       "      <td>1553.000000</td>\n",
       "      <td>1553.000000</td>\n",
       "      <td>1553.000000</td>\n",
       "      <td>1553.0</td>\n",
       "      <td>1553.000000</td>\n",
       "      <td>1558.000000</td>\n",
       "      <td>1565.000000</td>\n",
       "      <td>...</td>\n",
       "      <td>618.000000</td>\n",
       "      <td>618.000000</td>\n",
       "      <td>1566.000000</td>\n",
       "      <td>1566.000000</td>\n",
       "      <td>1566.000000</td>\n",
       "      <td>1566.000000</td>\n",
       "      <td>1566.000000</td>\n",
       "      <td>1566.000000</td>\n",
       "      <td>1566.000000</td>\n",
       "      <td>1566.000000</td>\n",
       "    </tr>\n",
       "    <tr>\n",
       "      <th>mean</th>\n",
       "      <td>-0.867262</td>\n",
       "      <td>3014.452896</td>\n",
       "      <td>2495.850231</td>\n",
       "      <td>2200.547318</td>\n",
       "      <td>1396.376627</td>\n",
       "      <td>4.197013</td>\n",
       "      <td>100.0</td>\n",
       "      <td>101.112908</td>\n",
       "      <td>0.121822</td>\n",
       "      <td>1.462862</td>\n",
       "      <td>...</td>\n",
       "      <td>0.005396</td>\n",
       "      <td>97.934373</td>\n",
       "      <td>0.500096</td>\n",
       "      <td>0.015318</td>\n",
       "      <td>0.003847</td>\n",
       "      <td>3.067826</td>\n",
       "      <td>0.021458</td>\n",
       "      <td>0.016475</td>\n",
       "      <td>0.005283</td>\n",
       "      <td>99.670066</td>\n",
       "    </tr>\n",
       "    <tr>\n",
       "      <th>std</th>\n",
       "      <td>0.498010</td>\n",
       "      <td>73.621787</td>\n",
       "      <td>80.407705</td>\n",
       "      <td>29.513152</td>\n",
       "      <td>441.691640</td>\n",
       "      <td>56.355540</td>\n",
       "      <td>0.0</td>\n",
       "      <td>6.237214</td>\n",
       "      <td>0.008961</td>\n",
       "      <td>0.073897</td>\n",
       "      <td>...</td>\n",
       "      <td>0.003116</td>\n",
       "      <td>87.520966</td>\n",
       "      <td>0.003404</td>\n",
       "      <td>0.017180</td>\n",
       "      <td>0.003720</td>\n",
       "      <td>3.578033</td>\n",
       "      <td>0.012358</td>\n",
       "      <td>0.008808</td>\n",
       "      <td>0.002867</td>\n",
       "      <td>93.891919</td>\n",
       "    </tr>\n",
       "    <tr>\n",
       "      <th>min</th>\n",
       "      <td>-1.000000</td>\n",
       "      <td>2743.240000</td>\n",
       "      <td>2158.750000</td>\n",
       "      <td>2060.660000</td>\n",
       "      <td>0.000000</td>\n",
       "      <td>0.681500</td>\n",
       "      <td>100.0</td>\n",
       "      <td>82.131100</td>\n",
       "      <td>0.000000</td>\n",
       "      <td>1.191000</td>\n",
       "      <td>...</td>\n",
       "      <td>0.001000</td>\n",
       "      <td>0.000000</td>\n",
       "      <td>0.477800</td>\n",
       "      <td>0.006000</td>\n",
       "      <td>0.001700</td>\n",
       "      <td>1.197500</td>\n",
       "      <td>-0.016900</td>\n",
       "      <td>0.003200</td>\n",
       "      <td>0.001000</td>\n",
       "      <td>0.000000</td>\n",
       "    </tr>\n",
       "    <tr>\n",
       "      <th>25%</th>\n",
       "      <td>-1.000000</td>\n",
       "      <td>2966.260000</td>\n",
       "      <td>2452.247500</td>\n",
       "      <td>2181.044400</td>\n",
       "      <td>1081.875800</td>\n",
       "      <td>1.017700</td>\n",
       "      <td>100.0</td>\n",
       "      <td>97.920000</td>\n",
       "      <td>0.121100</td>\n",
       "      <td>1.411200</td>\n",
       "      <td>...</td>\n",
       "      <td>0.003400</td>\n",
       "      <td>46.184900</td>\n",
       "      <td>0.497900</td>\n",
       "      <td>0.011600</td>\n",
       "      <td>0.003100</td>\n",
       "      <td>2.306500</td>\n",
       "      <td>0.013425</td>\n",
       "      <td>0.010600</td>\n",
       "      <td>0.003300</td>\n",
       "      <td>44.368600</td>\n",
       "    </tr>\n",
       "    <tr>\n",
       "      <th>50%</th>\n",
       "      <td>-1.000000</td>\n",
       "      <td>3011.490000</td>\n",
       "      <td>2499.405000</td>\n",
       "      <td>2201.066700</td>\n",
       "      <td>1285.214400</td>\n",
       "      <td>1.316800</td>\n",
       "      <td>100.0</td>\n",
       "      <td>101.512200</td>\n",
       "      <td>0.122400</td>\n",
       "      <td>1.461600</td>\n",
       "      <td>...</td>\n",
       "      <td>0.004700</td>\n",
       "      <td>72.288900</td>\n",
       "      <td>0.500200</td>\n",
       "      <td>0.013800</td>\n",
       "      <td>0.003600</td>\n",
       "      <td>2.757650</td>\n",
       "      <td>0.020500</td>\n",
       "      <td>0.014800</td>\n",
       "      <td>0.004600</td>\n",
       "      <td>71.900500</td>\n",
       "    </tr>\n",
       "    <tr>\n",
       "      <th>75%</th>\n",
       "      <td>-1.000000</td>\n",
       "      <td>3056.650000</td>\n",
       "      <td>2538.822500</td>\n",
       "      <td>2218.055500</td>\n",
       "      <td>1591.223500</td>\n",
       "      <td>1.525700</td>\n",
       "      <td>100.0</td>\n",
       "      <td>104.586700</td>\n",
       "      <td>0.123800</td>\n",
       "      <td>1.516900</td>\n",
       "      <td>...</td>\n",
       "      <td>0.006475</td>\n",
       "      <td>116.539150</td>\n",
       "      <td>0.502375</td>\n",
       "      <td>0.016500</td>\n",
       "      <td>0.004100</td>\n",
       "      <td>3.295175</td>\n",
       "      <td>0.027600</td>\n",
       "      <td>0.020300</td>\n",
       "      <td>0.006400</td>\n",
       "      <td>114.749700</td>\n",
       "    </tr>\n",
       "    <tr>\n",
       "      <th>max</th>\n",
       "      <td>1.000000</td>\n",
       "      <td>3356.350000</td>\n",
       "      <td>2846.440000</td>\n",
       "      <td>2315.266700</td>\n",
       "      <td>3715.041700</td>\n",
       "      <td>1114.536600</td>\n",
       "      <td>100.0</td>\n",
       "      <td>129.252200</td>\n",
       "      <td>0.128600</td>\n",
       "      <td>1.656400</td>\n",
       "      <td>...</td>\n",
       "      <td>0.028600</td>\n",
       "      <td>737.304800</td>\n",
       "      <td>0.509800</td>\n",
       "      <td>0.476600</td>\n",
       "      <td>0.104500</td>\n",
       "      <td>99.303200</td>\n",
       "      <td>0.102800</td>\n",
       "      <td>0.079900</td>\n",
       "      <td>0.028600</td>\n",
       "      <td>737.304800</td>\n",
       "    </tr>\n",
       "  </tbody>\n",
       "</table>\n",
       "<p>8 rows × 591 columns</p>\n",
       "</div>"
      ],
      "text/plain": [
       "            Result    feature_1    feature_2    feature_3    feature_4  \\\n",
       "count  1567.000000  1561.000000  1560.000000  1553.000000  1553.000000   \n",
       "mean     -0.867262  3014.452896  2495.850231  2200.547318  1396.376627   \n",
       "std       0.498010    73.621787    80.407705    29.513152   441.691640   \n",
       "min      -1.000000  2743.240000  2158.750000  2060.660000     0.000000   \n",
       "25%      -1.000000  2966.260000  2452.247500  2181.044400  1081.875800   \n",
       "50%      -1.000000  3011.490000  2499.405000  2201.066700  1285.214400   \n",
       "75%      -1.000000  3056.650000  2538.822500  2218.055500  1591.223500   \n",
       "max       1.000000  3356.350000  2846.440000  2315.266700  3715.041700   \n",
       "\n",
       "         feature_5  feature_6    feature_7    feature_8    feature_9  ...  \\\n",
       "count  1553.000000     1553.0  1553.000000  1558.000000  1565.000000  ...   \n",
       "mean      4.197013      100.0   101.112908     0.121822     1.462862  ...   \n",
       "std      56.355540        0.0     6.237214     0.008961     0.073897  ...   \n",
       "min       0.681500      100.0    82.131100     0.000000     1.191000  ...   \n",
       "25%       1.017700      100.0    97.920000     0.121100     1.411200  ...   \n",
       "50%       1.316800      100.0   101.512200     0.122400     1.461600  ...   \n",
       "75%       1.525700      100.0   104.586700     0.123800     1.516900  ...   \n",
       "max    1114.536600      100.0   129.252200     0.128600     1.656400  ...   \n",
       "\n",
       "       feature_581  feature_582  feature_583  feature_584  feature_585  \\\n",
       "count   618.000000   618.000000  1566.000000  1566.000000  1566.000000   \n",
       "mean      0.005396    97.934373     0.500096     0.015318     0.003847   \n",
       "std       0.003116    87.520966     0.003404     0.017180     0.003720   \n",
       "min       0.001000     0.000000     0.477800     0.006000     0.001700   \n",
       "25%       0.003400    46.184900     0.497900     0.011600     0.003100   \n",
       "50%       0.004700    72.288900     0.500200     0.013800     0.003600   \n",
       "75%       0.006475   116.539150     0.502375     0.016500     0.004100   \n",
       "max       0.028600   737.304800     0.509800     0.476600     0.104500   \n",
       "\n",
       "       feature_586  feature_587  feature_588  feature_589  feature_590  \n",
       "count  1566.000000  1566.000000  1566.000000  1566.000000  1566.000000  \n",
       "mean      3.067826     0.021458     0.016475     0.005283    99.670066  \n",
       "std       3.578033     0.012358     0.008808     0.002867    93.891919  \n",
       "min       1.197500    -0.016900     0.003200     0.001000     0.000000  \n",
       "25%       2.306500     0.013425     0.010600     0.003300    44.368600  \n",
       "50%       2.757650     0.020500     0.014800     0.004600    71.900500  \n",
       "75%       3.295175     0.027600     0.020300     0.006400   114.749700  \n",
       "max      99.303200     0.102800     0.079900     0.028600   737.304800  \n",
       "\n",
       "[8 rows x 591 columns]"
      ]
     },
     "execution_count": 8,
     "metadata": {},
     "output_type": "execute_result"
    }
   ],
   "source": [
    "# Check descriptive statistics for each variable\n",
    "secom_origin_df.describe()"
   ]
  },
  {
   "cell_type": "code",
   "execution_count": 9,
   "metadata": {},
   "outputs": [
    {
     "name": "stderr",
     "output_type": "stream",
     "text": [
      "/Users/XiaMarko/anaconda3/lib/python3.6/site-packages/numpy/lib/histograms.py:824: RuntimeWarning: invalid value encountered in greater_equal\n",
      "  keep = (tmp_a >= first_edge)\n",
      "/Users/XiaMarko/anaconda3/lib/python3.6/site-packages/numpy/lib/histograms.py:825: RuntimeWarning: invalid value encountered in less_equal\n",
      "  keep &= (tmp_a <= last_edge)\n"
     ]
    },
    {
     "data": {
      "image/png": "[encoded data removed]",
      "text/plain": [
       "<Figure size 432x288 with 1 Axes>"
      ]
     },
     "metadata": {
      "needs_background": "light"
     },
     "output_type": "display_data"
    }
   ],
   "source": [
    "# draw histogram of some features, for example feature 10\n",
    "plt.hist(secom_origin_df.iloc[:,10], bins = 100)\n",
    "plt.xlabel('feature 10')\n",
    "plt.ylabel('Frequency')\n",
    "plt.title('Histogram of feature 10')\n",
    "plt.show()"
   ]
  },
  {
   "cell_type": "markdown",
   "metadata": {},
   "source": [
    "## Step 3: Split datasets "
   ]
  },
  {
   "cell_type": "markdown",
   "metadata": {},
   "source": [
    "#### Perform stratified-shuffle splut in order to maintain the pass to fail ratio of the chipsets in the train and test datasets with respect to the original dataset."
   ]
  },
  {
   "cell_type": "code",
   "execution_count": 7,
   "metadata": {},
   "outputs": [
    {
     "data": {
      "text/plain": [
       "-1    0.933631\n",
       " 1    0.066369\n",
       "Name: Result, dtype: float64"
      ]
     },
     "execution_count": 7,
     "metadata": {},
     "output_type": "execute_result"
    }
   ],
   "source": [
    "# calculate the proportion of failure and pass cases in secom origin dataset. \n",
    "# The splited train and test dataset should have the same proportion as here.\n",
    "secom_origin_df[\"Result\"].value_counts()/len(secom_origin_df)"
   ]
  },
  {
   "cell_type": "code",
   "execution_count": 8,
   "metadata": {},
   "outputs": [
    {
     "name": "stdout",
     "output_type": "stream",
     "text": [
      "1253 train + 314 test\n"
     ]
    }
   ],
   "source": [
    "# train and test data proportion is 80% and 20%.\n",
    "split = StratifiedShuffleSplit(n_splits=1, test_size = 0.2, random_state=42)\n",
    "\n",
    "# to have the same proportion regards the \"Result\", avoiding all the failure in training dataset or test dataset\n",
    "for train_index, test_index in split.split(secom_origin_df, secom_origin_df[\"Result\"]):\n",
    "    strat_train_set = secom_origin_df.loc[train_index]\n",
    "    strat_test_set = secom_origin_df.loc[test_index]\n",
    "\n",
    "# print out the results of the exact number of train and test datasets correspondingly    \n",
    "print(len(strat_train_set), \"train +\", len(strat_test_set), \"test\")"
   ]
  },
  {
   "cell_type": "code",
   "execution_count": 9,
   "metadata": {},
   "outputs": [],
   "source": [
    "# Before any processing of data, create a copy to the origin secom strat_train data set. \n",
    "secom_train_set = strat_train_set.copy()\n",
    "# The same procedure to the test set.\n",
    "secom_test_set = strat_test_set.copy()\n",
    "\n",
    "# Separate target from predictors. X is the input set of the data, Y is the label set of the data. \n",
    "# We remove \"Datetime\" variable which we don't need. \n",
    "X_train = secom_train_set.drop([\"Result\", \"Datetime\"], axis=1)\n",
    "y_train = secom_train_set[\"Result\"].copy()\n",
    "\n",
    "# We do the same to the test dataset.\n",
    "X_test = secom_test_set.drop([\"Result\", \"Datetime\"], axis=1)\n",
    "y_test = secom_test_set[\"Result\"].copy()"
   ]
  },
  {
   "cell_type": "code",
   "execution_count": 10,
   "metadata": {},
   "outputs": [
    {
     "data": {
      "text/plain": [
       "-1    0.933759\n",
       " 1    0.066241\n",
       "Name: Result, dtype: float64"
      ]
     },
     "execution_count": 10,
     "metadata": {},
     "output_type": "execute_result"
    }
   ],
   "source": [
    "# check the propotion of failure and pass in train dataset almost the same to the original whole dataset\n",
    "secom_train_set[\"Result\"].value_counts()/len(secom_train_set)"
   ]
  },
  {
   "cell_type": "code",
   "execution_count": 11,
   "metadata": {},
   "outputs": [
    {
     "data": {
      "text/plain": [
       "-1    0.933121\n",
       " 1    0.066879\n",
       "Name: Result, dtype: float64"
      ]
     },
     "execution_count": 11,
     "metadata": {},
     "output_type": "execute_result"
    }
   ],
   "source": [
    "# check the propotion of failure and pass in test dataset almost the same to the original whole dataset\n",
    "secom_test_set[\"Result\"].value_counts()/len(secom_test_set)"
   ]
  },
  {
   "cell_type": "markdown",
   "metadata": {},
   "source": [
    "## Step 4 : Pre-processing Data  \n",
    "Data preprocessing includes 4.1- 4.2 Data Cleaning, 4.3 Outlier replacement, 4.4 Missing value imputation, 4.5 Feature selection, 4.6 Imbalanced datasets, 4.7 Scaling or standardization."
   ]
  },
  {
   "cell_type": "markdown",
   "metadata": {},
   "source": [
    "### 4.1: Dealing with missing values part I deletion (the result is to reduce features)\n",
    "We set a threshold of 55%. Over this value the features will be removed.\n",
    "The rest of missing values will be imputated with different methods. "
   ]
  },
  {
   "cell_type": "code",
   "execution_count": 12,
   "metadata": {},
   "outputs": [],
   "source": [
    "# copy the train dataset before we do any modification of it. \n",
    "X_train_na = X_train.copy()\n",
    "X_test_na = X_test.copy()"
   ]
  },
  {
   "cell_type": "code",
   "execution_count": 13,
   "metadata": {},
   "outputs": [
    {
     "data": {
      "image/png": "[encoded data removed]",
      "text/plain": [
       "<Figure size 360x288 with 1 Axes>"
      ]
     },
     "metadata": {},
     "output_type": "display_data"
    }
   ],
   "source": [
    "# draw the frequency distribution of the NA proportion in Secom train dataset\n",
    "# create a empty numpy variable\n",
    "na_ratio = np.empty(X_train_na.shape[1])\n",
    "# calcuate the ratio of NA in each column\n",
    "for i in range(X_train_na.shape[1]):\n",
    "    na_ratio[i] = X_train_na.iloc[:,i].isnull().sum()/len(X_train_na)  \n",
    "\n",
    "# use matplotlib to plot the diagram. scipy for relative frequency\n",
    "%matplotlib inline\n",
    "\n",
    "plt.style.use('seaborn-white')\n",
    "\n",
    "na_ratio_rel = stats.relfreq(na_ratio)   \n",
    "# relative frequencies should add up to 1\n",
    "np.sum(na_ratio_rel.frequency)  \n",
    "# Calculate space of values for x\n",
    "x = na_ratio_rel.lowerlimit + np.linspace(0, na_ratio_rel.binsize*na_ratio_rel.frequency.size,na_ratio_rel.frequency.size)\n",
    "# Plot relative frequency histogram\n",
    "fig = plt.figure(figsize=(5, 4))\n",
    "ax = fig.add_subplot(1, 1, 1)\n",
    "ax.bar(x, na_ratio_rel.frequency, width=na_ratio_rel.binsize)\n",
    "ax.set_title('Relative frequency histogram')\n",
    "ax.set_xlim([x.min(), x.max()])\n",
    "#plt.hist(na_ratio)\n",
    "ax.set_xlabel('Ratio of NA')\n",
    "ax.set_ylabel('Frequency')\n",
    "plt.show()"
   ]
  },
  {
   "cell_type": "code",
   "execution_count": 14,
   "metadata": {},
   "outputs": [
    {
     "name": "stderr",
     "output_type": "stream",
     "text": [
      "C:\\Users\\yj_pc\\Anaconda3\\lib\\site-packages\\matplotlib\\axes\\_axes.py:6571: UserWarning: The 'normed' kwarg is deprecated, and has been replaced by the 'density' kwarg.\n",
      "  warnings.warn(\"The 'normed' kwarg is deprecated, and has been \"\n"
     ]
    },
    {
     "data": {
      "image/png": "[encoded data removed]",
      "text/plain": [
       "<Figure size 576x288 with 1 Axes>"
      ]
     },
     "metadata": {},
     "output_type": "display_data"
    }
   ],
   "source": [
    "from matplotlib import mlab\n",
    "x = na_ratio\n",
    "n_bins = 50\n",
    "fig, ax = plt.subplots(figsize=(8, 4))\n",
    "\n",
    "# plot the cumulative histogram\n",
    "n, bins, patches = ax.hist(x, n_bins, normed=1, histtype='step',\n",
    "                           cumulative=True, label='Empirical')\n",
    "ax.set_title('Cumulative step histogram')\n",
    "ax.set_xlabel('Ratio of missing values')\n",
    "ax.set_ylabel('Culmulative probability')\n",
    "\n",
    "# Draw a vertical line at x=0.55\n",
    "plt.plot([0.55,0.55],[0,0.96],'r--')\n",
    "plt.text(0.52,-0.06,'0.55',fontsize=14, color=\"r\")\n",
    "# draw a horizontal line at y=0.958\n",
    "plt.axhline(y = 0.958, color=\"r\", linestyle= \"--\")\n",
    "plt.show()"
   ]
  },
  {
   "cell_type": "code",
   "execution_count": 15,
   "metadata": {},
   "outputs": [
    {
     "name": "stderr",
     "output_type": "stream",
     "text": [
      "C:\\Users\\yj_pc\\Anaconda3\\lib\\site-packages\\scipy\\stats\\stats.py:1713: FutureWarning: Using a non-tuple sequence for multidimensional indexing is deprecated; use `arr[tuple(seq)]` instead of `arr[seq]`. In the future this will be interpreted as an array index, `arr[np.array(seq)]`, which will result either in an error or a different result.\n",
      "  return np.add.reduce(sorted[indexer] * weights, axis=axis) / sumval\n"
     ]
    },
    {
     "data": {
      "image/png": "[encoded data removed]",
      "text/plain": [
       "<Figure size 432x288 with 1 Axes>"
      ]
     },
     "metadata": {},
     "output_type": "display_data"
    }
   ],
   "source": [
    "# Density Plot and Histogram of ratio of missing values\n",
    "ax = sns.distplot(na_ratio, hist=True, kde=True, \n",
    "             bins=int(180/5), color = 'darkblue', \n",
    "             hist_kws={'edgecolor':'black'},\n",
    "             kde_kws={'linewidth': 4})\n",
    "ax.set(xlabel='Ratio of missing values', ylabel='Frequency')\n",
    "ax.set_title('Relative frequency histogram')\n",
    "\n",
    "# add a vertical red line x= 0.55\n",
    "plt.axvline(x=0.55, color='red', linestyle= '--')\n",
    "plt.text(0.5,-2,'0.55',fontsize=14, color=\"r\")\n",
    "plt.show()"
   ]
  },
  {
   "cell_type": "code",
   "execution_count": 16,
   "metadata": {},
   "outputs": [],
   "source": [
    "# start from the 0 column and count the nA of that column. If the ratio of NA is higher than 55%, we delete this column.\n",
    "# Otherwise i plus 1 to the next column. Use While loop to iterate until the last column\n",
    "def delete_na(dataframe,threshold = 0.55):   # threshold = 0.55 as default value\n",
    "    i = 0\n",
    "    while i < len(dataframe.columns):    \n",
    "        if dataframe.iloc[:,i].isnull().sum()/len(dataframe) > threshold:\n",
    "            dataframe.drop(dataframe.columns[[i]], axis = 1,inplace = True)\n",
    "        else:\n",
    "            i = i+1"
   ]
  },
  {
   "cell_type": "code",
   "execution_count": 17,
   "metadata": {},
   "outputs": [],
   "source": [
    "# Implement function remova_na on training and test dataset \n",
    "delete_na(X_train_na)\n",
    "delete_na(X_test_na)"
   ]
  },
  {
   "cell_type": "code",
   "execution_count": 18,
   "metadata": {},
   "outputs": [
    {
     "data": {
      "text/plain": [
       "(1253, 566)"
      ]
     },
     "execution_count": 18,
     "metadata": {},
     "output_type": "execute_result"
    }
   ],
   "source": [
    "# check the dimension of training dataset after deletion of variables over 55% NA\n",
    "X_train_na.shape"
   ]
  },
  {
   "cell_type": "code",
   "execution_count": 19,
   "metadata": {},
   "outputs": [
    {
     "data": {
      "text/plain": [
       "(314, 562)"
      ]
     },
     "execution_count": 19,
     "metadata": {},
     "output_type": "execute_result"
    }
   ],
   "source": [
    "# check the dimension of test dataset after deletion of variables over 55% NA\n",
    "X_test_na.shape"
   ]
  },
  {
   "cell_type": "markdown",
   "metadata": {},
   "source": [
    "###  4.2 : Delete the features with very low variance. \n",
    "Instead of deleting features with the same values, we define a threshold for standard deviation of features. After this step we successfully delete some features. "
   ]
  },
  {
   "cell_type": "code",
   "execution_count": 20,
   "metadata": {},
   "outputs": [
    {
     "data": {
      "image/png": "[encoded data removed]",
      "text/plain": [
       "<Figure size 432x288 with 1 Axes>"
      ]
     },
     "metadata": {},
     "output_type": "display_data"
    }
   ],
   "source": [
    "# define a list of standard deviation of training data\n",
    "X_std = X_train_na.std() \n",
    "\n",
    "# the max of standard deviation is 6462.15\n",
    "#X_std.max()\n",
    "\n",
    "plt.hist(X_std, bins = 100, range =[X_std.min(),0.01])\n",
    "plt.xlabel('standard deviation of feature')\n",
    "plt.ylabel('Frequency')\n",
    "plt.title('Histogram of standard deviation of features')\n",
    "\n",
    "# add a vertical red threshold line x= 0.003\n",
    "plt.axvline(x=0.003, color='red', linestyle='--')\n",
    "plt.text(0.0024,-8,'0.003',fontsize=14, color=\"r\")\n",
    "plt.show()"
   ]
  },
  {
   "cell_type": "code",
   "execution_count": 21,
   "metadata": {
    "scrolled": true
   },
   "outputs": [
    {
     "data": {
      "text/plain": [
       "count     566.000000\n",
       "mean       60.102185\n",
       "std       393.076426\n",
       "min         0.000000\n",
       "25%         0.003008\n",
       "50%         0.175200\n",
       "75%         6.646880\n",
       "max      6464.728110\n",
       "dtype: float64"
      ]
     },
     "execution_count": 21,
     "metadata": {},
     "output_type": "execute_result"
    }
   ],
   "source": [
    "# descriptive statistics of x_std\n",
    "X_std.describe()"
   ]
  },
  {
   "cell_type": "code",
   "execution_count": 22,
   "metadata": {},
   "outputs": [],
   "source": [
    "# set a threshold for standard deviation of the features. We remove about 25% variables correspondingly std of 0.003.\n",
    "def remove_std(dataframe, threshold = 0.003): # threshold = 0.003 as default value\n",
    "    i = 0\n",
    "    while i < len(dataframe.columns):    \n",
    "        if dataframe.iloc[:,i].std() < threshold:      \n",
    "            dataframe.drop(dataframe.columns[[i]], axis = 1,inplace = True)\n",
    "        else:\n",
    "            i = i+1"
   ]
  },
  {
   "cell_type": "code",
   "execution_count": 23,
   "metadata": {},
   "outputs": [],
   "source": [
    "## use the defined function remove_std on both training and test dataset to remove the features with very lower std.\n",
    "remove_std(X_train_na)\n",
    "remove_std(X_test_na)"
   ]
  },
  {
   "cell_type": "code",
   "execution_count": 24,
   "metadata": {},
   "outputs": [
    {
     "data": {
      "text/plain": [
       "(1253, 425)"
      ]
     },
     "execution_count": 24,
     "metadata": {},
     "output_type": "execute_result"
    }
   ],
   "source": [
    "X_train_na.shape   # dimension of the training dataset"
   ]
  },
  {
   "cell_type": "code",
   "execution_count": 25,
   "metadata": {},
   "outputs": [
    {
     "data": {
      "text/plain": [
       "(314, 408)"
      ]
     },
     "execution_count": 25,
     "metadata": {},
     "output_type": "execute_result"
    }
   ],
   "source": [
    "X_test_na.shape   # dimension of the test dataset"
   ]
  },
  {
   "cell_type": "markdown",
   "metadata": {},
   "source": [
    "### 4.3 : Outliers replacement\n",
    "We recognized some outliers in data understanding phase. Now we replace outliers using 3S rules with NaN. "
   ]
  },
  {
   "cell_type": "code",
   "execution_count": 26,
   "metadata": {},
   "outputs": [
    {
     "data": {
      "image/png": "[encoded data removed]",
      "text/plain": [
       "<Figure size 432x288 with 1 Axes>"
      ]
     },
     "metadata": {},
     "output_type": "display_data"
    }
   ],
   "source": [
    "# Discover outlier using visualization tools like boxplot, for example one extreme outlier in feature 5 \n",
    "sns.boxplot(x= X_train_na.iloc[:,4])   # boxplot diagram of feature 5\n",
    "plt.title('Boxplot of feature 5')\n",
    "plt.show()"
   ]
  },
  {
   "cell_type": "code",
   "execution_count": 27,
   "metadata": {},
   "outputs": [],
   "source": [
    "# Define a function to calculate the z-scores of the dataframe\n",
    "def z_score(df):\n",
    "    df.columns = [X + \"_zscore\" for X in df.columns.tolist()]\n",
    "    return ((df - df.mean())/df.std(ddof=0))"
   ]
  },
  {
   "cell_type": "code",
   "execution_count": 28,
   "metadata": {},
   "outputs": [],
   "source": [
    "# compute Zscore for training and test datasets\n",
    "\n",
    "X_train_zscore = z_score(X_train_na) \n",
    "X_test_zscore = z_score(X_test_na)"
   ]
  },
  {
   "cell_type": "code",
   "execution_count": 29,
   "metadata": {},
   "outputs": [
    {
     "data": {
      "text/html": [
       "<div>\n",
       "<style scoped>\n",
       "    .dataframe tbody tr th:only-of-type {\n",
       "        vertical-align: middle;\n",
       "    }\n",
       "\n",
       "    .dataframe tbody tr th {\n",
       "        vertical-align: top;\n",
       "    }\n",
       "\n",
       "    .dataframe thead th {\n",
       "        text-align: right;\n",
       "    }\n",
       "</style>\n",
       "<table border=\"1\" class=\"dataframe\">\n",
       "  <thead>\n",
       "    <tr style=\"text-align: right;\">\n",
       "      <th></th>\n",
       "      <th>feature_1_zscore</th>\n",
       "      <th>feature_2_zscore</th>\n",
       "      <th>feature_3_zscore</th>\n",
       "      <th>feature_4_zscore</th>\n",
       "      <th>feature_5_zscore</th>\n",
       "      <th>feature_7_zscore</th>\n",
       "      <th>feature_8_zscore</th>\n",
       "      <th>feature_9_zscore</th>\n",
       "      <th>feature_10_zscore</th>\n",
       "      <th>feature_11_zscore</th>\n",
       "      <th>...</th>\n",
       "      <th>feature_576_zscore</th>\n",
       "      <th>feature_577_zscore</th>\n",
       "      <th>feature_578_zscore</th>\n",
       "      <th>feature_583_zscore</th>\n",
       "      <th>feature_584_zscore</th>\n",
       "      <th>feature_585_zscore</th>\n",
       "      <th>feature_586_zscore</th>\n",
       "      <th>feature_587_zscore</th>\n",
       "      <th>feature_588_zscore</th>\n",
       "      <th>feature_590_zscore</th>\n",
       "    </tr>\n",
       "  </thead>\n",
       "  <tbody>\n",
       "    <tr>\n",
       "      <th>1198</th>\n",
       "      <td>0.837162</td>\n",
       "      <td>-0.069206</td>\n",
       "      <td>-0.511365</td>\n",
       "      <td>-0.432685</td>\n",
       "      <td>-0.052540</td>\n",
       "      <td>0.740973</td>\n",
       "      <td>-0.147896</td>\n",
       "      <td>-0.870329</td>\n",
       "      <td>-0.924795</td>\n",
       "      <td>-0.078624</td>\n",
       "      <td>...</td>\n",
       "      <td>-0.178097</td>\n",
       "      <td>-0.262093</td>\n",
       "      <td>0.031325</td>\n",
       "      <td>-0.753157</td>\n",
       "      <td>-0.139744</td>\n",
       "      <td>-0.140104</td>\n",
       "      <td>-0.131432</td>\n",
       "      <td>0.051297</td>\n",
       "      <td>-0.693406</td>\n",
       "      <td>-0.551666</td>\n",
       "    </tr>\n",
       "    <tr>\n",
       "      <th>436</th>\n",
       "      <td>0.785930</td>\n",
       "      <td>-0.089188</td>\n",
       "      <td>0.585261</td>\n",
       "      <td>0.087234</td>\n",
       "      <td>-0.030636</td>\n",
       "      <td>0.806364</td>\n",
       "      <td>-0.248165</td>\n",
       "      <td>0.850026</td>\n",
       "      <td>0.508637</td>\n",
       "      <td>-1.347349</td>\n",
       "      <td>...</td>\n",
       "      <td>-0.223822</td>\n",
       "      <td>-0.247292</td>\n",
       "      <td>-0.433732</td>\n",
       "      <td>0.116966</td>\n",
       "      <td>0.847867</td>\n",
       "      <td>0.658646</td>\n",
       "      <td>0.811639</td>\n",
       "      <td>0.899082</td>\n",
       "      <td>-1.281979</td>\n",
       "      <td>-0.878099</td>\n",
       "    </tr>\n",
       "    <tr>\n",
       "      <th>635</th>\n",
       "      <td>0.045517</td>\n",
       "      <td>0.343180</td>\n",
       "      <td>0.031100</td>\n",
       "      <td>-1.177142</td>\n",
       "      <td>-0.038347</td>\n",
       "      <td>0.853345</td>\n",
       "      <td>-0.110295</td>\n",
       "      <td>-1.252931</td>\n",
       "      <td>0.039634</td>\n",
       "      <td>0.544987</td>\n",
       "      <td>...</td>\n",
       "      <td>0.015472</td>\n",
       "      <td>-0.240885</td>\n",
       "      <td>0.061823</td>\n",
       "      <td>-0.057058</td>\n",
       "      <td>-0.302595</td>\n",
       "      <td>-0.309536</td>\n",
       "      <td>-0.289518</td>\n",
       "      <td>0.891084</td>\n",
       "      <td>0.836883</td>\n",
       "      <td>-0.288967</td>\n",
       "    </tr>\n",
       "    <tr>\n",
       "      <th>996</th>\n",
       "      <td>-1.542293</td>\n",
       "      <td>0.909679</td>\n",
       "      <td>0.806855</td>\n",
       "      <td>0.830417</td>\n",
       "      <td>-0.025277</td>\n",
       "      <td>-0.720916</td>\n",
       "      <td>0.265712</td>\n",
       "      <td>1.772614</td>\n",
       "      <td>-1.004063</td>\n",
       "      <td>0.641754</td>\n",
       "      <td>...</td>\n",
       "      <td>-0.234491</td>\n",
       "      <td>-0.229964</td>\n",
       "      <td>-0.269297</td>\n",
       "      <td>0.116966</td>\n",
       "      <td>0.101906</td>\n",
       "      <td>-0.115900</td>\n",
       "      <td>0.095514</td>\n",
       "      <td>-0.132656</td>\n",
       "      <td>0.483739</td>\n",
       "      <td>0.043814</td>\n",
       "    </tr>\n",
       "    <tr>\n",
       "      <th>782</th>\n",
       "      <td>-0.433113</td>\n",
       "      <td>-0.371564</td>\n",
       "      <td>-2.805036</td>\n",
       "      <td>-1.144961</td>\n",
       "      <td>-0.037938</td>\n",
       "      <td>0.844760</td>\n",
       "      <td>0.416115</td>\n",
       "      <td>-0.305922</td>\n",
       "      <td>-0.561482</td>\n",
       "      <td>0.050399</td>\n",
       "      <td>...</td>\n",
       "      <td>-0.214677</td>\n",
       "      <td>-0.254297</td>\n",
       "      <td>-0.177479</td>\n",
       "      <td>-0.405108</td>\n",
       "      <td>0.091399</td>\n",
       "      <td>-0.019081</td>\n",
       "      <td>0.090221</td>\n",
       "      <td>1.250992</td>\n",
       "      <td>-0.999464</td>\n",
       "      <td>-0.830954</td>\n",
       "    </tr>\n",
       "  </tbody>\n",
       "</table>\n",
       "<p>5 rows × 425 columns</p>\n",
       "</div>"
      ],
      "text/plain": [
       "      feature_1_zscore  feature_2_zscore  feature_3_zscore  feature_4_zscore  \\\n",
       "1198          0.837162         -0.069206         -0.511365         -0.432685   \n",
       "436           0.785930         -0.089188          0.585261          0.087234   \n",
       "635           0.045517          0.343180          0.031100         -1.177142   \n",
       "996          -1.542293          0.909679          0.806855          0.830417   \n",
       "782          -0.433113         -0.371564         -2.805036         -1.144961   \n",
       "\n",
       "      feature_5_zscore  feature_7_zscore  feature_8_zscore  feature_9_zscore  \\\n",
       "1198         -0.052540          0.740973         -0.147896         -0.870329   \n",
       "436          -0.030636          0.806364         -0.248165          0.850026   \n",
       "635          -0.038347          0.853345         -0.110295         -1.252931   \n",
       "996          -0.025277         -0.720916          0.265712          1.772614   \n",
       "782          -0.037938          0.844760          0.416115         -0.305922   \n",
       "\n",
       "      feature_10_zscore  feature_11_zscore         ...          \\\n",
       "1198          -0.924795          -0.078624         ...           \n",
       "436            0.508637          -1.347349         ...           \n",
       "635            0.039634           0.544987         ...           \n",
       "996           -1.004063           0.641754         ...           \n",
       "782           -0.561482           0.050399         ...           \n",
       "\n",
       "      feature_576_zscore  feature_577_zscore  feature_578_zscore  \\\n",
       "1198           -0.178097           -0.262093            0.031325   \n",
       "436            -0.223822           -0.247292           -0.433732   \n",
       "635             0.015472           -0.240885            0.061823   \n",
       "996            -0.234491           -0.229964           -0.269297   \n",
       "782            -0.214677           -0.254297           -0.177479   \n",
       "\n",
       "      feature_583_zscore  feature_584_zscore  feature_585_zscore  \\\n",
       "1198           -0.753157           -0.139744           -0.140104   \n",
       "436             0.116966            0.847867            0.658646   \n",
       "635            -0.057058           -0.302595           -0.309536   \n",
       "996             0.116966            0.101906           -0.115900   \n",
       "782            -0.405108            0.091399           -0.019081   \n",
       "\n",
       "      feature_586_zscore  feature_587_zscore  feature_588_zscore  \\\n",
       "1198           -0.131432            0.051297           -0.693406   \n",
       "436             0.811639            0.899082           -1.281979   \n",
       "635            -0.289518            0.891084            0.836883   \n",
       "996             0.095514           -0.132656            0.483739   \n",
       "782             0.090221            1.250992           -0.999464   \n",
       "\n",
       "      feature_590_zscore  \n",
       "1198           -0.551666  \n",
       "436            -0.878099  \n",
       "635            -0.288967  \n",
       "996             0.043814  \n",
       "782            -0.830954  \n",
       "\n",
       "[5 rows x 425 columns]"
      ]
     },
     "execution_count": 29,
     "metadata": {},
     "output_type": "execute_result"
    }
   ],
   "source": [
    "# show the first 5 rows of dataset after zscore \n",
    "X_train_zscore.head()"
   ]
  },
  {
   "cell_type": "code",
   "execution_count": 30,
   "metadata": {},
   "outputs": [],
   "source": [
    "# Defining a function to replace outliers with nan values. \n",
    "def outlier_impute(dataframe, threshold=3):   # threshold =3 is default value\n",
    "    for cols in dataframe.columns:\n",
    "        dataframe.loc[((dataframe[cols]>threshold) | (dataframe[cols]<-threshold)),cols] = np.nan\n",
    "    return dataframe"
   ]
  },
  {
   "cell_type": "code",
   "execution_count": 31,
   "metadata": {},
   "outputs": [],
   "source": [
    "# Assigning imputed dataframe to new variable for train and test dataframes.\n",
    "X_train_o = outlier_impute(X_train_zscore)\n",
    "\n",
    "X_test_o = outlier_impute(X_test_zscore)"
   ]
  },
  {
   "cell_type": "code",
   "execution_count": 32,
   "metadata": {},
   "outputs": [
    {
     "data": {
      "image/png": "[encoded data removed]",
      "text/plain": [
       "<Figure size 432x288 with 1 Axes>"
      ]
     },
     "metadata": {},
     "output_type": "display_data"
    }
   ],
   "source": [
    "# check again the boxplot diagram of feature 5 which we can see the extreme outlier is replaced with nan.\n",
    "sns.boxplot(x= X_train_o.iloc[:,4])   # boxplot diagram of feature 5\n",
    "plt.title('Boxplot of feature 5')\n",
    "plt.show()"
   ]
  },
  {
   "cell_type": "markdown",
   "metadata": {},
   "source": [
    "### 4.4 : Missing values part II imputation\n",
    "We implemented two approaches. One is to replace with mean. The second is to replace with KNN. In the second presentation we compared with two methods and came to conclusion that the final accuracy of the model is not effected. "
   ]
  },
  {
   "cell_type": "markdown",
   "metadata": {},
   "source": [
    "#### 4.4 - (1) Simple approach to impute missing values with mean"
   ]
  },
  {
   "cell_type": "code",
   "execution_count": 33,
   "metadata": {},
   "outputs": [],
   "source": [
    "# define a function to replace Nan with mean of the column. \n",
    "# For loop will iterate from the first feature to the last feature.\n",
    "def na_mean_imputer(dataframe):\n",
    "    for i in range(len(dataframe.columns)): \n",
    "        mean = dataframe.iloc[:,i].mean()\n",
    "        dataframe.iloc[:,i].fillna(mean, inplace=True)\n",
    "    return dataframe"
   ]
  },
  {
   "cell_type": "code",
   "execution_count": 34,
   "metadata": {},
   "outputs": [],
   "source": [
    "# Assiging the imputed dataframes to new variables to perform mean imputation.\n",
    "X_train_mean_in = X_train_o.copy()\n",
    "X_test_mean_in = X_test_o.copy()"
   ]
  },
  {
   "cell_type": "code",
   "execution_count": 35,
   "metadata": {},
   "outputs": [],
   "source": [
    "# implement function on training and test dataset\n",
    "X_train_mean_out = na_mean_imputer(X_train_mean_in)  \n",
    "X_test_mean_out = na_mean_imputer(X_test_mean_in)"
   ]
  },
  {
   "cell_type": "code",
   "execution_count": 36,
   "metadata": {
    "scrolled": true
   },
   "outputs": [
    {
     "data": {
      "text/plain": [
       "(1253, 425)"
      ]
     },
     "execution_count": 36,
     "metadata": {},
     "output_type": "execute_result"
    }
   ],
   "source": [
    "# Dataset after imputation\n",
    "X_train_mean_out.shape"
   ]
  },
  {
   "cell_type": "markdown",
   "metadata": {},
   "source": [
    "### 4.5: Feature selection \n",
    "After data preprocessing listed above, we still have 425 features in training dataset. Feature selection enables to choose the most important features and avoid redudant and noise in the input. \n",
    "\n",
    "In the second presentation we compared 3 different methods, namely, Boruta, PCA, Chi2. We compared the results and finally decided to continue with Boruta solution. "
   ]
  },
  {
   "cell_type": "markdown",
   "metadata": {},
   "source": [
    "###### Boruta algorithm "
   ]
  },
  {
   "cell_type": "code",
   "execution_count": 37,
   "metadata": {
    "scrolled": true
   },
   "outputs": [
    {
     "name": "stdout",
     "output_type": "stream",
     "text": [
      "Iteration: \t1 / 100\n",
      "Confirmed: \t0\n",
      "Tentative: \t425\n",
      "Rejected: \t0\n",
      "Iteration: \t2 / 100\n",
      "Confirmed: \t0\n",
      "Tentative: \t425\n",
      "Rejected: \t0\n",
      "Iteration: \t3 / 100\n",
      "Confirmed: \t0\n",
      "Tentative: \t425\n",
      "Rejected: \t0\n",
      "Iteration: \t4 / 100\n",
      "Confirmed: \t0\n",
      "Tentative: \t425\n",
      "Rejected: \t0\n",
      "Iteration: \t5 / 100\n",
      "Confirmed: \t0\n",
      "Tentative: \t425\n",
      "Rejected: \t0\n",
      "Iteration: \t6 / 100\n",
      "Confirmed: \t0\n",
      "Tentative: \t425\n",
      "Rejected: \t0\n",
      "Iteration: \t7 / 100\n",
      "Confirmed: \t0\n",
      "Tentative: \t425\n",
      "Rejected: \t0\n",
      "Iteration: \t8 / 100\n",
      "Confirmed: \t0\n",
      "Tentative: \t17\n",
      "Rejected: \t408\n",
      "Iteration: \t9 / 100\n",
      "Confirmed: \t2\n",
      "Tentative: \t15\n",
      "Rejected: \t408\n",
      "Iteration: \t10 / 100\n",
      "Confirmed: \t2\n",
      "Tentative: \t15\n",
      "Rejected: \t408\n",
      "Iteration: \t11 / 100\n",
      "Confirmed: \t2\n",
      "Tentative: \t15\n",
      "Rejected: \t408\n",
      "Iteration: \t12 / 100\n",
      "Confirmed: \t3\n",
      "Tentative: \t14\n",
      "Rejected: \t408\n",
      "Iteration: \t13 / 100\n",
      "Confirmed: \t3\n",
      "Tentative: \t14\n",
      "Rejected: \t408\n",
      "Iteration: \t14 / 100\n",
      "Confirmed: \t3\n",
      "Tentative: \t14\n",
      "Rejected: \t408\n",
      "Iteration: \t15 / 100\n",
      "Confirmed: \t3\n",
      "Tentative: \t14\n",
      "Rejected: \t408\n",
      "Iteration: \t16 / 100\n",
      "Confirmed: \t3\n",
      "Tentative: \t14\n",
      "Rejected: \t408\n",
      "Iteration: \t17 / 100\n",
      "Confirmed: \t3\n",
      "Tentative: \t14\n",
      "Rejected: \t408\n",
      "Iteration: \t18 / 100\n",
      "Confirmed: \t3\n",
      "Tentative: \t14\n",
      "Rejected: \t408\n",
      "Iteration: \t19 / 100\n",
      "Confirmed: \t3\n",
      "Tentative: \t14\n",
      "Rejected: \t408\n",
      "Iteration: \t20 / 100\n",
      "Confirmed: \t3\n",
      "Tentative: \t14\n",
      "Rejected: \t408\n",
      "Iteration: \t21 / 100\n",
      "Confirmed: \t3\n",
      "Tentative: \t14\n",
      "Rejected: \t408\n",
      "Iteration: \t22 / 100\n",
      "Confirmed: \t5\n",
      "Tentative: \t12\n",
      "Rejected: \t408\n",
      "Iteration: \t23 / 100\n",
      "Confirmed: \t5\n",
      "Tentative: \t12\n",
      "Rejected: \t408\n",
      "Iteration: \t24 / 100\n",
      "Confirmed: \t5\n",
      "Tentative: \t12\n",
      "Rejected: \t408\n",
      "Iteration: \t25 / 100\n",
      "Confirmed: \t5\n",
      "Tentative: \t12\n",
      "Rejected: \t408\n",
      "Iteration: \t26 / 100\n",
      "Confirmed: \t5\n",
      "Tentative: \t12\n",
      "Rejected: \t408\n",
      "Iteration: \t27 / 100\n",
      "Confirmed: \t5\n",
      "Tentative: \t12\n",
      "Rejected: \t408\n",
      "Iteration: \t28 / 100\n",
      "Confirmed: \t5\n",
      "Tentative: \t12\n",
      "Rejected: \t408\n",
      "Iteration: \t29 / 100\n",
      "Confirmed: \t7\n",
      "Tentative: \t10\n",
      "Rejected: \t408\n",
      "Iteration: \t30 / 100\n",
      "Confirmed: \t7\n",
      "Tentative: \t10\n",
      "Rejected: \t408\n",
      "Iteration: \t31 / 100\n",
      "Confirmed: \t7\n",
      "Tentative: \t10\n",
      "Rejected: \t408\n",
      "Iteration: \t32 / 100\n",
      "Confirmed: \t8\n",
      "Tentative: \t9\n",
      "Rejected: \t408\n",
      "Iteration: \t33 / 100\n",
      "Confirmed: \t8\n",
      "Tentative: \t9\n",
      "Rejected: \t408\n",
      "Iteration: \t34 / 100\n",
      "Confirmed: \t8\n",
      "Tentative: \t9\n",
      "Rejected: \t408\n",
      "Iteration: \t35 / 100\n",
      "Confirmed: \t8\n",
      "Tentative: \t9\n",
      "Rejected: \t408\n",
      "Iteration: \t36 / 100\n",
      "Confirmed: \t8\n",
      "Tentative: \t9\n",
      "Rejected: \t408\n",
      "Iteration: \t37 / 100\n",
      "Confirmed: \t8\n",
      "Tentative: \t9\n",
      "Rejected: \t408\n",
      "Iteration: \t38 / 100\n",
      "Confirmed: \t8\n",
      "Tentative: \t9\n",
      "Rejected: \t408\n",
      "Iteration: \t39 / 100\n",
      "Confirmed: \t8\n",
      "Tentative: \t9\n",
      "Rejected: \t408\n",
      "Iteration: \t40 / 100\n",
      "Confirmed: \t8\n",
      "Tentative: \t9\n",
      "Rejected: \t408\n",
      "Iteration: \t41 / 100\n",
      "Confirmed: \t8\n",
      "Tentative: \t9\n",
      "Rejected: \t408\n",
      "Iteration: \t42 / 100\n",
      "Confirmed: \t8\n",
      "Tentative: \t9\n",
      "Rejected: \t408\n",
      "Iteration: \t43 / 100\n",
      "Confirmed: \t8\n",
      "Tentative: \t9\n",
      "Rejected: \t408\n",
      "Iteration: \t44 / 100\n",
      "Confirmed: \t8\n",
      "Tentative: \t9\n",
      "Rejected: \t408\n",
      "Iteration: \t45 / 100\n",
      "Confirmed: \t8\n",
      "Tentative: \t9\n",
      "Rejected: \t408\n",
      "Iteration: \t46 / 100\n",
      "Confirmed: \t9\n",
      "Tentative: \t8\n",
      "Rejected: \t408\n",
      "Iteration: \t47 / 100\n",
      "Confirmed: \t9\n",
      "Tentative: \t8\n",
      "Rejected: \t408\n",
      "Iteration: \t48 / 100\n",
      "Confirmed: \t9\n",
      "Tentative: \t8\n",
      "Rejected: \t408\n",
      "Iteration: \t49 / 100\n",
      "Confirmed: \t9\n",
      "Tentative: \t8\n",
      "Rejected: \t408\n",
      "Iteration: \t50 / 100\n",
      "Confirmed: \t9\n",
      "Tentative: \t8\n",
      "Rejected: \t408\n",
      "Iteration: \t51 / 100\n",
      "Confirmed: \t9\n",
      "Tentative: \t8\n",
      "Rejected: \t408\n",
      "Iteration: \t52 / 100\n",
      "Confirmed: \t9\n",
      "Tentative: \t8\n",
      "Rejected: \t408\n",
      "Iteration: \t53 / 100\n",
      "Confirmed: \t9\n",
      "Tentative: \t8\n",
      "Rejected: \t408\n",
      "Iteration: \t54 / 100\n",
      "Confirmed: \t10\n",
      "Tentative: \t7\n",
      "Rejected: \t408\n",
      "Iteration: \t55 / 100\n",
      "Confirmed: \t10\n",
      "Tentative: \t7\n",
      "Rejected: \t408\n",
      "Iteration: \t56 / 100\n",
      "Confirmed: \t10\n",
      "Tentative: \t7\n",
      "Rejected: \t408\n",
      "Iteration: \t57 / 100\n",
      "Confirmed: \t11\n",
      "Tentative: \t6\n",
      "Rejected: \t408\n",
      "Iteration: \t58 / 100\n",
      "Confirmed: \t11\n",
      "Tentative: \t6\n",
      "Rejected: \t408\n",
      "Iteration: \t59 / 100\n",
      "Confirmed: \t12\n",
      "Tentative: \t5\n",
      "Rejected: \t408\n",
      "Iteration: \t60 / 100\n",
      "Confirmed: \t12\n",
      "Tentative: \t5\n",
      "Rejected: \t408\n",
      "Iteration: \t61 / 100\n",
      "Confirmed: \t12\n",
      "Tentative: \t5\n",
      "Rejected: \t408\n",
      "Iteration: \t62 / 100\n",
      "Confirmed: \t12\n",
      "Tentative: \t5\n",
      "Rejected: \t408\n",
      "Iteration: \t63 / 100\n",
      "Confirmed: \t12\n",
      "Tentative: \t5\n",
      "Rejected: \t408\n",
      "Iteration: \t64 / 100\n",
      "Confirmed: \t12\n",
      "Tentative: \t5\n",
      "Rejected: \t408\n",
      "Iteration: \t65 / 100\n",
      "Confirmed: \t12\n",
      "Tentative: \t5\n",
      "Rejected: \t408\n",
      "Iteration: \t66 / 100\n",
      "Confirmed: \t12\n",
      "Tentative: \t5\n",
      "Rejected: \t408\n",
      "Iteration: \t67 / 100\n",
      "Confirmed: \t12\n",
      "Tentative: \t5\n",
      "Rejected: \t408\n",
      "Iteration: \t68 / 100\n",
      "Confirmed: \t12\n",
      "Tentative: \t5\n",
      "Rejected: \t408\n",
      "Iteration: \t69 / 100\n",
      "Confirmed: \t12\n",
      "Tentative: \t5\n",
      "Rejected: \t408\n",
      "Iteration: \t70 / 100\n",
      "Confirmed: \t12\n",
      "Tentative: \t5\n",
      "Rejected: \t408\n",
      "Iteration: \t71 / 100\n",
      "Confirmed: \t12\n",
      "Tentative: \t5\n",
      "Rejected: \t408\n",
      "Iteration: \t72 / 100\n",
      "Confirmed: \t12\n",
      "Tentative: \t5\n",
      "Rejected: \t408\n",
      "Iteration: \t73 / 100\n",
      "Confirmed: \t12\n",
      "Tentative: \t5\n",
      "Rejected: \t408\n",
      "Iteration: \t74 / 100\n",
      "Confirmed: \t12\n",
      "Tentative: \t5\n",
      "Rejected: \t408\n",
      "Iteration: \t75 / 100\n",
      "Confirmed: \t12\n",
      "Tentative: \t5\n",
      "Rejected: \t408\n",
      "Iteration: \t76 / 100\n",
      "Confirmed: \t12\n",
      "Tentative: \t5\n",
      "Rejected: \t408\n",
      "Iteration: \t77 / 100\n",
      "Confirmed: \t12\n",
      "Tentative: \t5\n",
      "Rejected: \t408\n",
      "Iteration: \t78 / 100\n",
      "Confirmed: \t12\n",
      "Tentative: \t5\n",
      "Rejected: \t408\n",
      "Iteration: \t79 / 100\n",
      "Confirmed: \t12\n",
      "Tentative: \t5\n",
      "Rejected: \t408\n",
      "Iteration: \t80 / 100\n",
      "Confirmed: \t12\n",
      "Tentative: \t5\n",
      "Rejected: \t408\n",
      "Iteration: \t81 / 100\n",
      "Confirmed: \t12\n",
      "Tentative: \t5\n",
      "Rejected: \t408\n",
      "Iteration: \t82 / 100\n",
      "Confirmed: \t12\n",
      "Tentative: \t5\n",
      "Rejected: \t408\n",
      "Iteration: \t83 / 100\n",
      "Confirmed: \t12\n",
      "Tentative: \t5\n",
      "Rejected: \t408\n",
      "Iteration: \t84 / 100\n",
      "Confirmed: \t12\n",
      "Tentative: \t5\n",
      "Rejected: \t408\n",
      "Iteration: \t85 / 100\n",
      "Confirmed: \t12\n",
      "Tentative: \t5\n",
      "Rejected: \t408\n",
      "Iteration: \t86 / 100\n",
      "Confirmed: \t12\n",
      "Tentative: \t5\n",
      "Rejected: \t408\n",
      "Iteration: \t87 / 100\n",
      "Confirmed: \t12\n",
      "Tentative: \t5\n",
      "Rejected: \t408\n",
      "Iteration: \t88 / 100\n",
      "Confirmed: \t12\n",
      "Tentative: \t5\n",
      "Rejected: \t408\n",
      "Iteration: \t89 / 100\n",
      "Confirmed: \t12\n",
      "Tentative: \t5\n",
      "Rejected: \t408\n",
      "Iteration: \t90 / 100\n",
      "Confirmed: \t12\n",
      "Tentative: \t5\n",
      "Rejected: \t408\n",
      "Iteration: \t91 / 100\n",
      "Confirmed: \t12\n",
      "Tentative: \t5\n",
      "Rejected: \t408\n",
      "Iteration: \t92 / 100\n",
      "Confirmed: \t12\n",
      "Tentative: \t5\n",
      "Rejected: \t408\n",
      "Iteration: \t93 / 100\n",
      "Confirmed: \t12\n",
      "Tentative: \t5\n",
      "Rejected: \t408\n",
      "Iteration: \t94 / 100\n",
      "Confirmed: \t12\n",
      "Tentative: \t5\n",
      "Rejected: \t408\n",
      "Iteration: \t95 / 100\n",
      "Confirmed: \t12\n",
      "Tentative: \t5\n",
      "Rejected: \t408\n",
      "Iteration: \t96 / 100\n",
      "Confirmed: \t12\n",
      "Tentative: \t5\n",
      "Rejected: \t408\n",
      "Iteration: \t97 / 100\n",
      "Confirmed: \t12\n",
      "Tentative: \t5\n",
      "Rejected: \t408\n",
      "Iteration: \t98 / 100\n",
      "Confirmed: \t12\n",
      "Tentative: \t5\n",
      "Rejected: \t408\n",
      "Iteration: \t99 / 100\n",
      "Confirmed: \t12\n",
      "Tentative: \t5\n",
      "Rejected: \t408\n",
      "\n",
      "\n",
      "BorutaPy finished running.\n",
      "\n",
      "Iteration: \t100 / 100\n",
      "Confirmed: \t12\n",
      "Tentative: \t4\n",
      "Rejected: \t408\n"
     ]
    }
   ],
   "source": [
    "# NOTE BorutaPy accepts numpy arrays only, hence the .values attribute\n",
    "X_train_b = X_train_mean_out.values\n",
    "y_train_b = y_train.values\n",
    "y_train_b = y_train_b.ravel()\n",
    "\n",
    "# define random forest classifier, with utilising all cores and\n",
    "# sampling in proportion to y labels\n",
    "rf = RandomForestClassifier(n_jobs=-1, class_weight='balanced', max_depth=5)\n",
    "\n",
    "# define Boruta feature selection method\n",
    "feat_selector = BorutaPy(rf, n_estimators='auto', verbose=2, random_state=1)\n",
    "\n",
    "# find all relevant features - 5 features should be selected\n",
    "feat_selector.fit(X_train_b, y_train_b)\n",
    "\n",
    "# call transform() on X to filter it down to selected features\n",
    "X_train_boruta_tf = feat_selector.transform(X_train_b)"
   ]
  },
  {
   "cell_type": "code",
   "execution_count": 38,
   "metadata": {},
   "outputs": [
    {
     "data": {
      "text/plain": [
       "12"
      ]
     },
     "execution_count": 38,
     "metadata": {},
     "output_type": "execute_result"
    }
   ],
   "source": [
    "# Make a list and count the selected features\n",
    "selected_feat= X_train_mean_out.columns[(feat_selector.support_)]\n",
    "len(selected_feat)"
   ]
  },
  {
   "cell_type": "code",
   "execution_count": 39,
   "metadata": {},
   "outputs": [
    {
     "name": "stdout",
     "output_type": "stream",
     "text": [
      "Index(['feature_32_zscore', 'feature_34_zscore', 'feature_60_zscore',\n",
      "       'feature_66_zscore', 'feature_104_zscore', 'feature_131_zscore',\n",
      "       'feature_206_zscore', 'feature_214_zscore', 'feature_248_zscore',\n",
      "       'feature_352_zscore', 'feature_478_zscore', 'feature_520_zscore'],\n",
      "      dtype='object')\n"
     ]
    }
   ],
   "source": [
    "# Return the name of selected features\n",
    "print(selected_feat)"
   ]
  },
  {
   "cell_type": "code",
   "execution_count": 40,
   "metadata": {},
   "outputs": [],
   "source": [
    "# create a dataframe with selected features \n",
    "X_train_boruta = pd.DataFrame(X_train_mean_out, columns = selected_feat)"
   ]
  },
  {
   "cell_type": "code",
   "execution_count": 41,
   "metadata": {
    "scrolled": true
   },
   "outputs": [
    {
     "data": {
      "text/html": [
       "<div>\n",
       "<style scoped>\n",
       "    .dataframe tbody tr th:only-of-type {\n",
       "        vertical-align: middle;\n",
       "    }\n",
       "\n",
       "    .dataframe tbody tr th {\n",
       "        vertical-align: top;\n",
       "    }\n",
       "\n",
       "    .dataframe thead th {\n",
       "        text-align: right;\n",
       "    }\n",
       "</style>\n",
       "<table border=\"1\" class=\"dataframe\">\n",
       "  <thead>\n",
       "    <tr style=\"text-align: right;\">\n",
       "      <th></th>\n",
       "      <th>feature_32_zscore</th>\n",
       "      <th>feature_34_zscore</th>\n",
       "      <th>feature_60_zscore</th>\n",
       "      <th>feature_66_zscore</th>\n",
       "      <th>feature_104_zscore</th>\n",
       "      <th>feature_131_zscore</th>\n",
       "      <th>feature_206_zscore</th>\n",
       "      <th>feature_214_zscore</th>\n",
       "      <th>feature_248_zscore</th>\n",
       "      <th>feature_352_zscore</th>\n",
       "      <th>feature_478_zscore</th>\n",
       "      <th>feature_520_zscore</th>\n",
       "    </tr>\n",
       "  </thead>\n",
       "  <tbody>\n",
       "    <tr>\n",
       "      <th>count</th>\n",
       "      <td>1.253000e+03</td>\n",
       "      <td>1253.000000</td>\n",
       "      <td>1253.000000</td>\n",
       "      <td>1253.000000</td>\n",
       "      <td>1253.000000</td>\n",
       "      <td>1253.000000</td>\n",
       "      <td>1253.000000</td>\n",
       "      <td>1253.000000</td>\n",
       "      <td>1253.000000</td>\n",
       "      <td>1253.000000</td>\n",
       "      <td>1253.000000</td>\n",
       "      <td>1253.000000</td>\n",
       "    </tr>\n",
       "    <tr>\n",
       "      <th>mean</th>\n",
       "      <td>1.348341e-14</td>\n",
       "      <td>-0.092869</td>\n",
       "      <td>-0.024442</td>\n",
       "      <td>-0.043423</td>\n",
       "      <td>-0.009633</td>\n",
       "      <td>0.009390</td>\n",
       "      <td>-0.059443</td>\n",
       "      <td>-0.046077</td>\n",
       "      <td>-0.093964</td>\n",
       "      <td>-0.048325</td>\n",
       "      <td>-0.059536</td>\n",
       "      <td>-0.098069</td>\n",
       "    </tr>\n",
       "    <tr>\n",
       "      <th>std</th>\n",
       "      <td>1.000000e+00</td>\n",
       "      <td>0.315323</td>\n",
       "      <td>0.823507</td>\n",
       "      <td>0.810029</td>\n",
       "      <td>0.942150</td>\n",
       "      <td>0.978451</td>\n",
       "      <td>0.278781</td>\n",
       "      <td>0.654090</td>\n",
       "      <td>0.547076</td>\n",
       "      <td>0.667928</td>\n",
       "      <td>0.208913</td>\n",
       "      <td>0.497247</td>\n",
       "    </tr>\n",
       "    <tr>\n",
       "      <th>min</th>\n",
       "      <td>-2.995172e+00</td>\n",
       "      <td>-1.037885</td>\n",
       "      <td>-2.255645</td>\n",
       "      <td>-2.604832</td>\n",
       "      <td>-2.900349</td>\n",
       "      <td>-2.908103</td>\n",
       "      <td>-0.520935</td>\n",
       "      <td>-1.295231</td>\n",
       "      <td>-0.810312</td>\n",
       "      <td>-1.301147</td>\n",
       "      <td>-0.403827</td>\n",
       "      <td>-0.743595</td>\n",
       "    </tr>\n",
       "    <tr>\n",
       "      <th>25%</th>\n",
       "      <td>-5.714482e-01</td>\n",
       "      <td>-0.286757</td>\n",
       "      <td>-0.493693</td>\n",
       "      <td>-0.581673</td>\n",
       "      <td>-0.669944</td>\n",
       "      <td>-0.660163</td>\n",
       "      <td>-0.244259</td>\n",
       "      <td>-0.521537</td>\n",
       "      <td>-0.429120</td>\n",
       "      <td>-0.537668</td>\n",
       "      <td>-0.198923</td>\n",
       "      <td>-0.401482</td>\n",
       "    </tr>\n",
       "    <tr>\n",
       "      <th>50%</th>\n",
       "      <td>-4.412373e-01</td>\n",
       "      <td>-0.140653</td>\n",
       "      <td>-0.215812</td>\n",
       "      <td>-0.113992</td>\n",
       "      <td>-0.104020</td>\n",
       "      <td>0.171119</td>\n",
       "      <td>-0.113964</td>\n",
       "      <td>-0.072371</td>\n",
       "      <td>-0.093964</td>\n",
       "      <td>-0.077490</td>\n",
       "      <td>-0.099838</td>\n",
       "      <td>-0.098069</td>\n",
       "    </tr>\n",
       "    <tr>\n",
       "      <th>75%</th>\n",
       "      <td>-2.577413e-01</td>\n",
       "      <td>0.068890</td>\n",
       "      <td>0.125317</td>\n",
       "      <td>0.389305</td>\n",
       "      <td>0.528483</td>\n",
       "      <td>0.841662</td>\n",
       "      <td>0.054937</td>\n",
       "      <td>0.318003</td>\n",
       "      <td>-0.093964</td>\n",
       "      <td>0.325167</td>\n",
       "      <td>0.024667</td>\n",
       "      <td>-0.098069</td>\n",
       "    </tr>\n",
       "    <tr>\n",
       "      <th>max</th>\n",
       "      <td>2.135588e+00</td>\n",
       "      <td>1.546000</td>\n",
       "      <td>2.689102</td>\n",
       "      <td>2.999985</td>\n",
       "      <td>2.825467</td>\n",
       "      <td>1.735320</td>\n",
       "      <td>2.051990</td>\n",
       "      <td>2.937745</td>\n",
       "      <td>2.971352</td>\n",
       "      <td>2.756794</td>\n",
       "      <td>1.495759</td>\n",
       "      <td>2.791656</td>\n",
       "    </tr>\n",
       "  </tbody>\n",
       "</table>\n",
       "</div>"
      ],
      "text/plain": [
       "       feature_32_zscore  feature_34_zscore  feature_60_zscore  \\\n",
       "count       1.253000e+03        1253.000000        1253.000000   \n",
       "mean        1.348341e-14          -0.092869          -0.024442   \n",
       "std         1.000000e+00           0.315323           0.823507   \n",
       "min        -2.995172e+00          -1.037885          -2.255645   \n",
       "25%        -5.714482e-01          -0.286757          -0.493693   \n",
       "50%        -4.412373e-01          -0.140653          -0.215812   \n",
       "75%        -2.577413e-01           0.068890           0.125317   \n",
       "max         2.135588e+00           1.546000           2.689102   \n",
       "\n",
       "       feature_66_zscore  feature_104_zscore  feature_131_zscore  \\\n",
       "count        1253.000000         1253.000000         1253.000000   \n",
       "mean           -0.043423           -0.009633            0.009390   \n",
       "std             0.810029            0.942150            0.978451   \n",
       "min            -2.604832           -2.900349           -2.908103   \n",
       "25%            -0.581673           -0.669944           -0.660163   \n",
       "50%            -0.113992           -0.104020            0.171119   \n",
       "75%             0.389305            0.528483            0.841662   \n",
       "max             2.999985            2.825467            1.735320   \n",
       "\n",
       "       feature_206_zscore  feature_214_zscore  feature_248_zscore  \\\n",
       "count         1253.000000         1253.000000         1253.000000   \n",
       "mean            -0.059443           -0.046077           -0.093964   \n",
       "std              0.278781            0.654090            0.547076   \n",
       "min             -0.520935           -1.295231           -0.810312   \n",
       "25%             -0.244259           -0.521537           -0.429120   \n",
       "50%             -0.113964           -0.072371           -0.093964   \n",
       "75%              0.054937            0.318003           -0.093964   \n",
       "max              2.051990            2.937745            2.971352   \n",
       "\n",
       "       feature_352_zscore  feature_478_zscore  feature_520_zscore  \n",
       "count         1253.000000         1253.000000         1253.000000  \n",
       "mean            -0.048325           -0.059536           -0.098069  \n",
       "std              0.667928            0.208913            0.497247  \n",
       "min             -1.301147           -0.403827           -0.743595  \n",
       "25%             -0.537668           -0.198923           -0.401482  \n",
       "50%             -0.077490           -0.099838           -0.098069  \n",
       "75%              0.325167            0.024667           -0.098069  \n",
       "max              2.756794            1.495759            2.791656  "
      ]
     },
     "execution_count": 41,
     "metadata": {},
     "output_type": "execute_result"
    }
   ],
   "source": [
    "# an overview of descriptive statistics of selected features\n",
    "X_train_boruta.describe()"
   ]
  },
  {
   "cell_type": "code",
   "execution_count": 42,
   "metadata": {},
   "outputs": [
    {
     "data": {
      "text/plain": [
       "(314, 12)"
      ]
     },
     "execution_count": 42,
     "metadata": {},
     "output_type": "execute_result"
    }
   ],
   "source": [
    "# for the test dataset to have the same selected features from training dataset\n",
    "X_test_boruta = pd.DataFrame(X_test_mean_out, columns= selected_feat)\n",
    "X_test_boruta.shape"
   ]
  },
  {
   "cell_type": "code",
   "execution_count": 46,
   "metadata": {},
   "outputs": [
    {
     "data": {
      "image/png": "[encoded data removed]",
      "text/plain": [
       "<Figure size 1440x1080 with 12 Axes>"
      ]
     },
     "metadata": {},
     "output_type": "display_data"
    }
   ],
   "source": [
    "# histogram of remaining features\n",
    "X_train_boruta.hist(bins=50, figsize=(20,15))\n",
    "plt.show()"
   ]
  },
  {
   "cell_type": "markdown",
   "metadata": {},
   "source": [
    "### 4.6 Dealing with imbalanced dataset\n",
    "\n",
    "Secom dataset is imbalanced. We have only fewer failure cases compared to pass cases. In order to get better detection of the failure cases the oversampling method is required. We compared two approaches here: SMOTE and ADASYN."
   ]
  },
  {
   "cell_type": "markdown",
   "metadata": {},
   "source": [
    "Method 1: SMOTE Oversampling"
   ]
  },
  {
   "cell_type": "code",
   "execution_count": 43,
   "metadata": {},
   "outputs": [
    {
     "name": "stdout",
     "output_type": "stream",
     "text": [
      "Before oversampling, count of label '-1':1170\n",
      "Before oversampling, count of label '-1':83 \n",
      "\n",
      "After OverSampling, the shape of train_X: (2340, 12)\n",
      "After OverSampling, the shape of train_y: (2340,) \n",
      "\n",
      "After oversampling, count of label '-1':1170\n",
      "After oversampling, count of label '1':1170 \n",
      "\n"
     ]
    }
   ],
   "source": [
    "print(\"Before oversampling, count of label '-1':{}\".format(sum(y_train == -1)))\n",
    "print(\"Before oversampling, count of label '-1':{} \\n\".format(sum(y_train == 1)))\n",
    "\n",
    "sm = SMOTE(random_state=2)\n",
    "\n",
    "X_train_smote, y_train_smote = sm.fit_sample(X_train_boruta, y_train.ravel())\n",
    "\n",
    "print('After OverSampling, the shape of train_X: {}'.format(X_train_smote.shape))\n",
    "print('After OverSampling, the shape of train_y: {} \\n'.format(y_train_smote.shape))\n",
    "\n",
    "print(\"After oversampling, count of label '-1':{}\".format(sum(y_train_smote == -1)))\n",
    "print(\"After oversampling, count of label '1':{} \\n\".format(sum(y_train_smote == 1)))"
   ]
  },
  {
   "cell_type": "markdown",
   "metadata": {},
   "source": [
    "Method 2: ADASYN Oversampling"
   ]
  },
  {
   "cell_type": "code",
   "execution_count": 48,
   "metadata": {},
   "outputs": [
    {
     "name": "stdout",
     "output_type": "stream",
     "text": [
      "After OverSampling, the shape of train_X: (2351, 12)\n",
      "After OverSampling, the shape of train_y: (2351,) \n",
      "\n",
      "After oversampling, count of label '-1':1170\n",
      "After oversampling, count of label '1':1181 \n",
      "\n"
     ]
    }
   ],
   "source": [
    "X_train_adasyn, y_train_adasyn = ADASYN().fit_resample(X_train_boruta, y_train.ravel())\n",
    "print('After OverSampling, the shape of train_X: {}'.format(X_train_adasyn.shape))\n",
    "print('After OverSampling, the shape of train_y: {} \\n'.format(y_train_adasyn.shape))\n",
    "\n",
    "print(\"After oversampling, count of label '-1':{}\".format(sum(y_train_adasyn == -1)))\n",
    "print(\"After oversampling, count of label '1':{} \\n\".format(sum(y_train_adasyn == 1)))"
   ]
  },
  {
   "cell_type": "markdown",
   "metadata": {},
   "source": [
    "###### Visualize the data before and after oversampling."
   ]
  },
  {
   "cell_type": "code",
   "execution_count": 49,
   "metadata": {},
   "outputs": [
    {
     "data": {
      "image/png": "[encoded data removed]",
      "text/plain": [
       "<Figure size 1080x576 with 2 Axes>"
      ]
     },
     "metadata": {},
     "output_type": "display_data"
    }
   ],
   "source": [
    "# plot two subgraphs in one row.\n",
    "fig, (ax1, ax2) = plt.subplots(ncols=2, figsize=(15, 8))\n",
    "\n",
    "# l is the class either -1 or 1. m is the type of the points.\n",
    "\n",
    "# Before SMOTE\n",
    "for l, c, m in zip((-1,1), ('blue', 'red'), ('^', 's')):\n",
    "    ax1.scatter(X_train_boruta_tf[y_train == l,1],\n",
    "                X_train_boruta_tf[y_train == l,2],\n",
    "                color=c,\n",
    "                label='class %s' % l,\n",
    "                alpha=0.5,\n",
    "                marker=m\n",
    "                )\n",
    "# After SMOTE  \n",
    "for l, c, m in zip((-1, 1), ('blue', 'red'), ('^', 's')):\n",
    "    ax2.scatter(X_train_smote[y_train_smote == l,1],    \n",
    "                X_train_smote[y_train_smote == l,2],\n",
    "                color=c,\n",
    "                label='class %s' % l,\n",
    "                alpha=0.5,\n",
    "                marker=m\n",
    "                )\n",
    "\n",
    "ax1.set_title('Scatter plot of feature 34 and feature 60 before SMOTE')\n",
    "ax2.set_title('Scatter plot of feature 34 and feature 60 after SMOTE')\n",
    "\n",
    "for ax in (ax1, ax2):\n",
    "    ax.set_xlabel(X_train_boruta.columns[1])\n",
    "    ax.set_ylabel(X_train_boruta.columns[2])\n",
    "    ax.legend(loc='upper right')\n",
    "    ax.grid()\n",
    "\n",
    "plt.tight_layout()\n",
    "\n",
    "plt.show()"
   ]
  },
  {
   "cell_type": "markdown",
   "metadata": {},
   "source": [
    "### 4.6 : Data normalization or Data scaling\n",
    "Some models like KNN and SVM are very sensitive to the input data, requiring data scaling. While some models like Random Forest and Naive Bayes are very robust and invariant to feature scaling.\n",
    "\n",
    "Two method are defined below, one is data standardization, the other is MinMax scaling. Even though we did standardization at the beginning of data preprocessing. After imputation of missing values the dataset is no more standardized because it introduce new datas to the dataset."
   ]
  },
  {
   "cell_type": "markdown",
   "metadata": {},
   "source": [
    "Method I : Standardization to have mean=0, std=1"
   ]
  },
  {
   "cell_type": "code",
   "execution_count": 50,
   "metadata": {},
   "outputs": [],
   "source": [
    "# standardize the dataset to have a mean= 0 and std=1\n",
    "sc = StandardScaler()\n",
    "\n",
    "# standardize the training dataset AFTER boruta feature selection\n",
    "X_train_mean_std = sc.fit_transform(X_train_smote)\n",
    "\n",
    "# standardize the training dataset for KNN imputed\n",
    "#X_train_knn_std = sc.fit_transform(x_train_knn_out)\n",
    "\n",
    "# standardize the test dataset for mean imputed\n",
    "X_test_mean_std = sc.fit_transform(X_test_boruta)\n",
    "\n",
    "# standardize the test dataset for KNN imputed\n",
    "#X_test_knn_std = sc.fit_transform(x_test_knn_out)\n",
    "\n",
    "# Convert the numpy array back to the panda dataframe\n",
    "X_train_mean_std_df= pd.DataFrame(X_train_mean_std, columns = selected_feat)\n",
    "X_test_mean_std_df = pd.DataFrame(X_test_mean_std, columns = selected_feat)\n",
    "\n"
   ]
  },
  {
   "cell_type": "code",
   "execution_count": null,
   "metadata": {},
   "outputs": [],
   "source": []
  },
  {
   "cell_type": "markdown",
   "metadata": {},
   "source": [
    "Method II: MinMax scaling to [0,1]"
   ]
  },
  {
   "cell_type": "code",
   "execution_count": 51,
   "metadata": {},
   "outputs": [],
   "source": [
    "# scale the imputed data to the range [0, 1], which is the default range.\n",
    "from sklearn.preprocessing import MinMaxScaler\n",
    "Mmsc = MinMaxScaler()\n",
    "\n",
    "# Scale mean imputed values\n",
    "X_train_mean_MinMax = Mmsc.fit_transform(X_train_smote)\n",
    "X_test_mean_MinMax = Mmsc.fit_transform(X_test_boruta)\n",
    "\n",
    "# Scale KNN imputed values\n",
    "#x_train_knn_MinMax = Mmsc.fit_transform(x_train_knn_out)\n",
    "#x_test_knn_MinMax = Mmsc.fit_transform(x_test_knn_out)"
   ]
  },
  {
   "cell_type": "code",
   "execution_count": 52,
   "metadata": {},
   "outputs": [],
   "source": [
    "# Convert the numpy array back to the panda dataframe\n",
    "X_train_mean_MinMax_df = pd.DataFrame(X_train_mean_MinMax, columns = selected_feat)\n",
    "X_test_mean_MinMax_df = pd.DataFrame(X_test_mean_MinMax, columns = selected_feat)"
   ]
  },
  {
   "cell_type": "markdown",
   "metadata": {},
   "source": [
    "## Step 5: Build models on the training dataset and evaluate on the test dataset\n",
    "We build the following models on the training datasets: 1. Logistic Regression, 2. Random Forest. 3.SVM, 4. Naive Bayes. 5. Adaboost 6. Voting classifer\n"
   ]
  },
  {
   "cell_type": "markdown",
   "metadata": {},
   "source": [
    "#### Model 1 Logistic Regression Without dealing with Imbalanced dataset\n",
    "We build logistic Regression using training data before implementing SMOTE. So the training dataset is imbalanced."
   ]
  },
  {
   "cell_type": "code",
   "execution_count": 71,
   "metadata": {},
   "outputs": [
    {
     "name": "stdout",
     "output_type": "stream",
     "text": [
      "train accuracy: 0.933759\n"
     ]
    },
    {
     "name": "stderr",
     "output_type": "stream",
     "text": [
      "C:\\Users\\yj_pc\\Anaconda3\\lib\\site-packages\\sklearn\\linear_model\\logistic.py:432: FutureWarning: Default solver will be changed to 'lbfgs' in 0.22. Specify a solver to silence this warning.\n",
      "  FutureWarning)\n"
     ]
    }
   ],
   "source": [
    "# Model 1: Logistic Regression without SMOTE implementation\n",
    "lr_be = LogisticRegression(penalty='l1',C=1.0, random_state=0).fit(X_train_boruta, y_train)   # use Boruta algorithm feature selection \n",
    "\n",
    "print('train accuracy: %f' % lr_be.score(X_train_boruta,y_train))"
   ]
  },
  {
   "cell_type": "code",
   "execution_count": 72,
   "metadata": {},
   "outputs": [
    {
     "name": "stdout",
     "output_type": "stream",
     "text": [
      "false classification: 21\n",
      "test accuracy: 0.933121\n",
      "F1 score of test dataset: 0.086957\n",
      "Recall score of test dataset: 0.047619\n"
     ]
    },
    {
     "data": {
      "text/plain": [
       "array([[292,   1],\n",
       "       [ 20,   1]], dtype=int64)"
      ]
     },
     "execution_count": 72,
     "metadata": {},
     "output_type": "execute_result"
    }
   ],
   "source": [
    "# making predictions on the testing set \n",
    "y_pred_lr_be = lr_be.predict(X_test_boruta)\n",
    "print('false classification: %d' %(y_test != y_pred_lr_be).sum())\n",
    "print('test accuracy: %f' % lr_be.score(X_test_boruta ,y_test))\n",
    "\n",
    "# calculate the confusion matrix\n",
    "cnf_matrix_lr_be = confusion_matrix(y_test, y_pred_lr_be)\n",
    "\n",
    "# Calculate F1 score\n",
    "print('F1 score of test dataset: %f' % f1_score(y_test, y_pred_lr_be))\n",
    "print('Recall score of test dataset: %f' % recall_score(y_test, y_pred_lr_be))\n",
    "cnf_matrix_lr_be"
   ]
  },
  {
   "cell_type": "code",
   "execution_count": 55,
   "metadata": {},
   "outputs": [
    {
     "name": "stdout",
     "output_type": "stream",
     "text": [
      "              precision    recall  f1-score   support\n",
      "\n",
      "    class -1       0.94      1.00      0.97       293\n",
      "     class 1       0.50      0.05      0.09        21\n",
      "\n",
      "    accuracy                           0.93       314\n",
      "   macro avg       0.72      0.52      0.53       314\n",
      "weighted avg       0.91      0.93      0.91       314\n",
      "\n"
     ]
    }
   ],
   "source": [
    "print(classification_report(y_test, y_pred_lr_be, target_names = ['class -1', 'class 1']))"
   ]
  },
  {
   "cell_type": "markdown",
   "metadata": {},
   "source": [
    "This model is useless because it can not detect the fault wafer. The reason is due to the imblanced data. The model has preference to predict the majority class. "
   ]
  },
  {
   "cell_type": "markdown",
   "metadata": {},
   "source": [
    "#### Model 1: Logistic Regression with Balanced training data\n",
    "Without oversampling technique the logistic model has through high accuracy but it can not classify the minor class. So it is necessary to feed the model with the balanced data.\n",
    "\n",
    "Here we can compare the results with two oversampling techniques: SMOTE and ADASYN."
   ]
  },
  {
   "cell_type": "code",
   "execution_count": 45,
   "metadata": {},
   "outputs": [
    {
     "name": "stdout",
     "output_type": "stream",
     "text": [
      "Fitting 5 folds for each of 10 candidates, totalling 50 fits\n"
     ]
    },
    {
     "name": "stderr",
     "output_type": "stream",
     "text": [
      "[Parallel(n_jobs=3)]: Using backend LokyBackend with 3 concurrent workers.\n",
      "[Parallel(n_jobs=3)]: Done  12 tasks      | elapsed:    1.7s\n",
      "[Parallel(n_jobs=3)]: Done  34 out of  50 | elapsed:    1.8s remaining:    0.8s\n",
      "[Parallel(n_jobs=3)]: Done  50 out of  50 | elapsed:    2.0s finished\n",
      "C:\\Users\\yj_pc\\Anaconda3\\lib\\site-packages\\sklearn\\linear_model\\logistic.py:432: FutureWarning: Default solver will be changed to 'lbfgs' in 0.22. Specify a solver to silence this warning.\n",
      "  FutureWarning)\n"
     ]
    },
    {
     "data": {
      "text/plain": [
       "GridSearchCV(cv=5, error_score='raise-deprecating',\n",
       "             estimator=LogisticRegression(C=1.0, class_weight=None, dual=False,\n",
       "                                          fit_intercept=True,\n",
       "                                          intercept_scaling=1, l1_ratio=None,\n",
       "                                          max_iter=100, multi_class='warn',\n",
       "                                          n_jobs=None, penalty='l2',\n",
       "                                          random_state=None, solver='warn',\n",
       "                                          tol=0.0001, verbose=0,\n",
       "                                          warm_start=False),\n",
       "             iid='warn', n_jobs=3,\n",
       "             param_grid={'C': array([ 1.,  2.,  3.,  4.,  5.,  6.,  7.,  8.,  9., 10.])},\n",
       "             pre_dispatch='2*n_jobs', refit=True, return_train_score=False,\n",
       "             scoring=None, verbose=5)"
      ]
     },
     "execution_count": 45,
     "metadata": {},
     "output_type": "execute_result"
    }
   ],
   "source": [
    "# Using Gridsearch to find the best parameter // Tuning the hyper-parameters of an estimator\n",
    "from sklearn.model_selection import GridSearchCV\n",
    "\n",
    "parameters = {\n",
    "    'C': np.linspace(1, 10, 10)\n",
    "             }\n",
    "lr = LogisticRegression()\n",
    "clf = GridSearchCV(lr, parameters, cv=5, verbose=5, n_jobs=3)\n",
    "clf.fit(X_train_smote, y_train_smote.ravel())\n"
   ]
  },
  {
   "cell_type": "code",
   "execution_count": 52,
   "metadata": {},
   "outputs": [
    {
     "data": {
      "text/plain": [
       "{'C': 10.0}"
      ]
     },
     "execution_count": 52,
     "metadata": {},
     "output_type": "execute_result"
    }
   ],
   "source": [
    "clf.best_params_"
   ]
  },
  {
   "cell_type": "code",
   "execution_count": 53,
   "metadata": {},
   "outputs": [
    {
     "name": "stdout",
     "output_type": "stream",
     "text": [
      "train accuracy after smote: 0.667094\n"
     ]
    },
    {
     "name": "stderr",
     "output_type": "stream",
     "text": [
      "C:\\Users\\yj_pc\\Anaconda3\\lib\\site-packages\\sklearn\\linear_model\\logistic.py:432: FutureWarning: Default solver will be changed to 'lbfgs' in 0.22. Specify a solver to silence this warning.\n",
      "  FutureWarning)\n",
      "C:\\Users\\yj_pc\\Anaconda3\\lib\\site-packages\\sklearn\\linear_model\\logistic.py:432: FutureWarning: Default solver will be changed to 'lbfgs' in 0.22. Specify a solver to silence this warning.\n",
      "  FutureWarning)\n"
     ]
    },
    {
     "ename": "NameError",
     "evalue": "name 'X_train_adasyn' is not defined",
     "output_type": "error",
     "traceback": [
      "\u001b[1;31m---------------------------------------------------------------------------\u001b[0m",
      "\u001b[1;31mNameError\u001b[0m                                 Traceback (most recent call last)",
      "\u001b[1;32m<ipython-input-53-b8e55be6213c>\u001b[0m in \u001b[0;36m<module>\u001b[1;34m()\u001b[0m\n\u001b[0;32m      8\u001b[0m \u001b[1;33m\u001b[0m\u001b[0m\n\u001b[0;32m      9\u001b[0m \u001b[0mprint\u001b[0m\u001b[1;33m(\u001b[0m\u001b[1;34m'train accuracy after smote: %f'\u001b[0m \u001b[1;33m%\u001b[0m\u001b[0mlr_smote\u001b[0m\u001b[1;33m.\u001b[0m\u001b[0mscore\u001b[0m\u001b[1;33m(\u001b[0m\u001b[0mX_train_smote\u001b[0m\u001b[1;33m,\u001b[0m\u001b[0my_train_smote\u001b[0m\u001b[1;33m)\u001b[0m\u001b[1;33m)\u001b[0m\u001b[1;33m\u001b[0m\u001b[0m\n\u001b[1;32m---> 10\u001b[1;33m \u001b[0mprint\u001b[0m\u001b[1;33m(\u001b[0m\u001b[1;34m'train accuracy after adasyn: %f'\u001b[0m \u001b[1;33m%\u001b[0m\u001b[0mlr_ada\u001b[0m\u001b[1;33m.\u001b[0m\u001b[0mscore\u001b[0m\u001b[1;33m(\u001b[0m\u001b[0mX_train_adasyn\u001b[0m\u001b[1;33m,\u001b[0m\u001b[0my_train_adasyn\u001b[0m\u001b[1;33m)\u001b[0m\u001b[1;33m)\u001b[0m\u001b[1;33m\u001b[0m\u001b[0m\n\u001b[0m",
      "\u001b[1;31mNameError\u001b[0m: name 'X_train_adasyn' is not defined"
     ]
    }
   ],
   "source": [
    "# Logistic Regression with SMOTE implementation\n",
    "lr_smote = LogisticRegression(C=10,penalty='l2', verbose=0)\n",
    "lr_smote.fit(X_train_smote, y_train_smote.ravel())\n",
    "\n",
    "# Logistic Regression with ADASYN implementation\n",
    "lr_ada = LogisticRegression(C=1,penalty='l2', verbose=0)\n",
    "lr_ada.fit(X_train_smote, y_train_smote.ravel())\n",
    "\n",
    "print('train accuracy after smote: %f' %lr_smote.score(X_train_smote,y_train_smote))\n",
    "print('train accuracy after adasyn: %f' %lr_ada.score(X_train_adasyn,y_train_adasyn))"
   ]
  },
  {
   "cell_type": "code",
   "execution_count": 54,
   "metadata": {},
   "outputs": [
    {
     "name": "stdout",
     "output_type": "stream",
     "text": [
      "false classification after smote: 105  false classification after adasyn: 83\n",
      "test accuracy after smote: 0.665605  test accuracy after adasyn: 0.735669\n",
      "F1 score of test dataset after smote: 0.173228\n",
      "Recall score of test dataset after smote: 0.523810\n"
     ]
    }
   ],
   "source": [
    "# Assess the model on test datasets\n",
    "\n",
    "# making predictions on the testing set \n",
    "y_pred_lr_smote_test = lr_smote.predict(X_test_boruta)      # on the smote test dataset\n",
    "y_pred_lr_ada_test = lr_ada.predict(X_test_boruta)      # on the adasyn test dataset\n",
    "\n",
    "print('false classification after smote: %d' %(y_test != y_pred_lr_smote_test).sum() +\n",
    "      '  false classification after adasyn: %d' %(y_test != y_pred_lr_ada_test).sum())\n",
    "print('test accuracy after smote: %f' % lr_smote.score(X_test_boruta ,y_test) + \n",
    "     '  test accuracy after adasyn: %f' % lr_ada.score(X_test_boruta ,y_test))\n",
    "print('F1 score of test dataset after smote: %f' %f1_score(y_test,y_pred_lr_smote_test))\n",
    "print('Recall score of test dataset after smote: %f' % recall_score(y_test,y_pred_lr_smote_test))"
   ]
  },
  {
   "cell_type": "code",
   "execution_count": 55,
   "metadata": {},
   "outputs": [
    {
     "name": "stdout",
     "output_type": "stream",
     "text": [
      "[[198  95]\n",
      " [ 10  11]]\n",
      "[[219  74]\n",
      " [  9  12]]\n"
     ]
    }
   ],
   "source": [
    "# confusion matrix after smote\n",
    "cnf_matrix_lr_smote_test = confusion_matrix(y_test, y_pred_lr_smote_test)\n",
    "# confusion matrix after adasyn\n",
    "cnf_matrix_lr_ada_test = confusion_matrix(y_test, y_pred_lr_ada_test)\n",
    "\n",
    "print(cnf_matrix_lr_smote_test)\n",
    "print(cnf_matrix_lr_ada_test)"
   ]
  },
  {
   "cell_type": "markdown",
   "metadata": {},
   "source": [
    "### Model 2 : Random forest with balanced data input\n",
    "We compare also the model with training data after SMOTE and Adasyn. SMOTE has given better results shown in the test accuracy."
   ]
  },
  {
   "cell_type": "code",
   "execution_count": 56,
   "metadata": {
    "scrolled": true
   },
   "outputs": [
    {
     "data": {
      "text/plain": [
       "GridSearchCV(cv=5, error_score='raise-deprecating',\n",
       "             estimator=RandomForestClassifier(bootstrap=True, class_weight=None,\n",
       "                                              criterion='gini', max_depth=None,\n",
       "                                              max_features='auto',\n",
       "                                              max_leaf_nodes=None,\n",
       "                                              min_impurity_decrease=0.0,\n",
       "                                              min_impurity_split=None,\n",
       "                                              min_samples_leaf=1,\n",
       "                                              min_samples_split=2,\n",
       "                                              min_weight_fraction_leaf=0.0,\n",
       "                                              n_estimators='warn', n_jobs=None,\n",
       "                                              oob_score=False,\n",
       "                                              random_state=None, verbose=0,\n",
       "                                              warm_start=False),\n",
       "             iid='warn', n_jobs=None,\n",
       "             param_grid={'max_leaf_nodes': [16, 18],\n",
       "                         'n_estimators': [400, 500]},\n",
       "             pre_dispatch='2*n_jobs', refit=True, return_train_score=False,\n",
       "             scoring=None, verbose=0)"
      ]
     },
     "execution_count": 56,
     "metadata": {},
     "output_type": "execute_result"
    }
   ],
   "source": [
    "from sklearn.ensemble import RandomForestClassifier\n",
    "#use the GridSearch to automatically find the best parameters. \n",
    "param_grid_rnd = {'n_estimators':[400,500], 'max_leaf_nodes':[16,18]}\n",
    "\n",
    "# use random forest classifier\n",
    "rnd_clf = RandomForestClassifier()\n",
    "\n",
    "grid_search_rnd = GridSearchCV(rnd_clf, param_grid_rnd, cv = 5)\n",
    "grid_search_rnd.fit(X_train_smote, y_train_smote)"
   ]
  },
  {
   "cell_type": "code",
   "execution_count": 57,
   "metadata": {},
   "outputs": [
    {
     "data": {
      "text/plain": [
       "{'max_leaf_nodes': 18, 'n_estimators': 400}"
      ]
     },
     "execution_count": 57,
     "metadata": {},
     "output_type": "execute_result"
    }
   ],
   "source": [
    "grid_search_rnd.best_params_"
   ]
  },
  {
   "cell_type": "code",
   "execution_count": 58,
   "metadata": {},
   "outputs": [
    {
     "ename": "NameError",
     "evalue": "name 'X_train_adasyn' is not defined",
     "output_type": "error",
     "traceback": [
      "\u001b[1;31m---------------------------------------------------------------------------\u001b[0m",
      "\u001b[1;31mNameError\u001b[0m                                 Traceback (most recent call last)",
      "\u001b[1;32m<ipython-input-58-c33cdae44631>\u001b[0m in \u001b[0;36m<module>\u001b[1;34m()\u001b[0m\n\u001b[0;32m      5\u001b[0m \u001b[1;31m#Random forest after Adasyn\u001b[0m\u001b[1;33m\u001b[0m\u001b[1;33m\u001b[0m\u001b[0m\n\u001b[0;32m      6\u001b[0m \u001b[0mrf_clf_ada\u001b[0m \u001b[1;33m=\u001b[0m \u001b[0mRandomForestClassifier\u001b[0m\u001b[1;33m(\u001b[0m\u001b[0mmax_leaf_nodes\u001b[0m\u001b[1;33m=\u001b[0m \u001b[1;36m18\u001b[0m\u001b[1;33m,\u001b[0m \u001b[0mn_estimators\u001b[0m\u001b[1;33m=\u001b[0m \u001b[1;36m500\u001b[0m\u001b[1;33m)\u001b[0m\u001b[1;33m\u001b[0m\u001b[0m\n\u001b[1;32m----> 7\u001b[1;33m \u001b[0mrf_clf_ada\u001b[0m\u001b[1;33m.\u001b[0m\u001b[0mfit\u001b[0m\u001b[1;33m(\u001b[0m\u001b[0mX_train_adasyn\u001b[0m\u001b[1;33m,\u001b[0m \u001b[0my_train_adasyn\u001b[0m\u001b[1;33m)\u001b[0m\u001b[1;33m\u001b[0m\u001b[0m\n\u001b[0m\u001b[0;32m      8\u001b[0m \u001b[1;33m\u001b[0m\u001b[0m\n\u001b[0;32m      9\u001b[0m \u001b[0mprint\u001b[0m\u001b[1;33m(\u001b[0m\u001b[1;34m'train accuracy after smote: %f'\u001b[0m \u001b[1;33m%\u001b[0m \u001b[0mrf_clf_smote\u001b[0m\u001b[1;33m.\u001b[0m\u001b[0mscore\u001b[0m\u001b[1;33m(\u001b[0m\u001b[0mX_train_smote\u001b[0m\u001b[1;33m,\u001b[0m\u001b[0my_train_smote\u001b[0m\u001b[1;33m)\u001b[0m\u001b[1;33m)\u001b[0m\u001b[1;33m\u001b[0m\u001b[0m\n",
      "\u001b[1;31mNameError\u001b[0m: name 'X_train_adasyn' is not defined"
     ]
    }
   ],
   "source": [
    "# Random forest after Smote\n",
    "rf_clf_smote = RandomForestClassifier(max_leaf_nodes= 18, n_estimators= 500)\n",
    "rf_clf_smote.fit(X_train_smote,y_train_smote)\n",
    "\n",
    "#Random forest after Adasyn\n",
    "rf_clf_ada = RandomForestClassifier(max_leaf_nodes= 18, n_estimators= 500)\n",
    "rf_clf_ada.fit(X_train_adasyn, y_train_adasyn)\n",
    "\n",
    "print('train accuracy after smote: %f' % rf_clf_smote.score(X_train_smote,y_train_smote))\n",
    "print('train accuracy after adasyn: %f' % rf_clf_ada.score(X_train_adasyn, y_train_adasyn))"
   ]
  },
  {
   "cell_type": "code",
   "execution_count": 59,
   "metadata": {},
   "outputs": [
    {
     "ename": "NotFittedError",
     "evalue": "This RandomForestClassifier instance is not fitted yet. Call 'fit' with appropriate arguments before using this method.",
     "output_type": "error",
     "traceback": [
      "\u001b[1;31m---------------------------------------------------------------------------\u001b[0m",
      "\u001b[1;31mNotFittedError\u001b[0m                            Traceback (most recent call last)",
      "\u001b[1;32m<ipython-input-59-2c98db2176dd>\u001b[0m in \u001b[0;36m<module>\u001b[1;34m()\u001b[0m\n\u001b[0;32m      2\u001b[0m \u001b[0my_pred_rf_test_smote\u001b[0m \u001b[1;33m=\u001b[0m \u001b[0mrf_clf_smote\u001b[0m\u001b[1;33m.\u001b[0m\u001b[0mpredict\u001b[0m\u001b[1;33m(\u001b[0m\u001b[0mX_test_boruta\u001b[0m\u001b[1;33m)\u001b[0m   \u001b[1;31m# The model trained by input data after smote\u001b[0m\u001b[1;33m\u001b[0m\u001b[0m\n\u001b[0;32m      3\u001b[0m \u001b[1;33m\u001b[0m\u001b[0m\n\u001b[1;32m----> 4\u001b[1;33m \u001b[0my_pred_rf_test_ada\u001b[0m \u001b[1;33m=\u001b[0m \u001b[0mrf_clf_ada\u001b[0m\u001b[1;33m.\u001b[0m\u001b[0mpredict\u001b[0m\u001b[1;33m(\u001b[0m\u001b[0mX_test_boruta\u001b[0m\u001b[1;33m)\u001b[0m   \u001b[1;31m# The model trained by input data after adasyn\u001b[0m\u001b[1;33m\u001b[0m\u001b[0m\n\u001b[0m\u001b[0;32m      5\u001b[0m \u001b[1;33m\u001b[0m\u001b[0m\n\u001b[0;32m      6\u001b[0m \u001b[0mprint\u001b[0m\u001b[1;33m(\u001b[0m\u001b[1;34m'false classification after smote: %d'\u001b[0m \u001b[1;33m%\u001b[0m\u001b[1;33m(\u001b[0m\u001b[0my_test\u001b[0m \u001b[1;33m!=\u001b[0m \u001b[0my_pred_rf_test_smote\u001b[0m\u001b[1;33m)\u001b[0m\u001b[1;33m.\u001b[0m\u001b[0msum\u001b[0m\u001b[1;33m(\u001b[0m\u001b[1;33m)\u001b[0m\u001b[1;33m)\u001b[0m\u001b[1;33m\u001b[0m\u001b[0m\n",
      "\u001b[1;32m~\\Anaconda3\\lib\\site-packages\\sklearn\\ensemble\\forest.py\u001b[0m in \u001b[0;36mpredict\u001b[1;34m(self, X)\u001b[0m\n\u001b[0;32m    543\u001b[0m             \u001b[0mThe\u001b[0m \u001b[0mpredicted\u001b[0m \u001b[0mclasses\u001b[0m\u001b[1;33m.\u001b[0m\u001b[1;33m\u001b[0m\u001b[0m\n\u001b[0;32m    544\u001b[0m         \"\"\"\n\u001b[1;32m--> 545\u001b[1;33m         \u001b[0mproba\u001b[0m \u001b[1;33m=\u001b[0m \u001b[0mself\u001b[0m\u001b[1;33m.\u001b[0m\u001b[0mpredict_proba\u001b[0m\u001b[1;33m(\u001b[0m\u001b[0mX\u001b[0m\u001b[1;33m)\u001b[0m\u001b[1;33m\u001b[0m\u001b[0m\n\u001b[0m\u001b[0;32m    546\u001b[0m \u001b[1;33m\u001b[0m\u001b[0m\n\u001b[0;32m    547\u001b[0m         \u001b[1;32mif\u001b[0m \u001b[0mself\u001b[0m\u001b[1;33m.\u001b[0m\u001b[0mn_outputs_\u001b[0m \u001b[1;33m==\u001b[0m \u001b[1;36m1\u001b[0m\u001b[1;33m:\u001b[0m\u001b[1;33m\u001b[0m\u001b[0m\n",
      "\u001b[1;32m~\\Anaconda3\\lib\\site-packages\\sklearn\\ensemble\\forest.py\u001b[0m in \u001b[0;36mpredict_proba\u001b[1;34m(self, X)\u001b[0m\n\u001b[0;32m    584\u001b[0m             \u001b[0mclasses\u001b[0m \u001b[0mcorresponds\u001b[0m \u001b[0mto\u001b[0m \u001b[0mthat\u001b[0m \u001b[1;32min\u001b[0m \u001b[0mthe\u001b[0m \u001b[0mattribute\u001b[0m\u001b[0;31m \u001b[0m\u001b[0;31m`\u001b[0m\u001b[0mclasses_\u001b[0m\u001b[0;31m`\u001b[0m\u001b[1;33m.\u001b[0m\u001b[1;33m\u001b[0m\u001b[0m\n\u001b[0;32m    585\u001b[0m         \"\"\"\n\u001b[1;32m--> 586\u001b[1;33m         \u001b[0mcheck_is_fitted\u001b[0m\u001b[1;33m(\u001b[0m\u001b[0mself\u001b[0m\u001b[1;33m,\u001b[0m \u001b[1;34m'estimators_'\u001b[0m\u001b[1;33m)\u001b[0m\u001b[1;33m\u001b[0m\u001b[0m\n\u001b[0m\u001b[0;32m    587\u001b[0m         \u001b[1;31m# Check data\u001b[0m\u001b[1;33m\u001b[0m\u001b[1;33m\u001b[0m\u001b[0m\n\u001b[0;32m    588\u001b[0m         \u001b[0mX\u001b[0m \u001b[1;33m=\u001b[0m \u001b[0mself\u001b[0m\u001b[1;33m.\u001b[0m\u001b[0m_validate_X_predict\u001b[0m\u001b[1;33m(\u001b[0m\u001b[0mX\u001b[0m\u001b[1;33m)\u001b[0m\u001b[1;33m\u001b[0m\u001b[0m\n",
      "\u001b[1;32m~\\Anaconda3\\lib\\site-packages\\sklearn\\utils\\validation.py\u001b[0m in \u001b[0;36mcheck_is_fitted\u001b[1;34m(estimator, attributes, msg, all_or_any)\u001b[0m\n\u001b[0;32m    912\u001b[0m \u001b[1;33m\u001b[0m\u001b[0m\n\u001b[0;32m    913\u001b[0m     \u001b[1;32mif\u001b[0m \u001b[1;32mnot\u001b[0m \u001b[0mall_or_any\u001b[0m\u001b[1;33m(\u001b[0m\u001b[1;33m[\u001b[0m\u001b[0mhasattr\u001b[0m\u001b[1;33m(\u001b[0m\u001b[0mestimator\u001b[0m\u001b[1;33m,\u001b[0m \u001b[0mattr\u001b[0m\u001b[1;33m)\u001b[0m \u001b[1;32mfor\u001b[0m \u001b[0mattr\u001b[0m \u001b[1;32min\u001b[0m \u001b[0mattributes\u001b[0m\u001b[1;33m]\u001b[0m\u001b[1;33m)\u001b[0m\u001b[1;33m:\u001b[0m\u001b[1;33m\u001b[0m\u001b[0m\n\u001b[1;32m--> 914\u001b[1;33m         \u001b[1;32mraise\u001b[0m \u001b[0mNotFittedError\u001b[0m\u001b[1;33m(\u001b[0m\u001b[0mmsg\u001b[0m \u001b[1;33m%\u001b[0m \u001b[1;33m{\u001b[0m\u001b[1;34m'name'\u001b[0m\u001b[1;33m:\u001b[0m \u001b[0mtype\u001b[0m\u001b[1;33m(\u001b[0m\u001b[0mestimator\u001b[0m\u001b[1;33m)\u001b[0m\u001b[1;33m.\u001b[0m\u001b[0m__name__\u001b[0m\u001b[1;33m}\u001b[0m\u001b[1;33m)\u001b[0m\u001b[1;33m\u001b[0m\u001b[0m\n\u001b[0m\u001b[0;32m    915\u001b[0m \u001b[1;33m\u001b[0m\u001b[0m\n\u001b[0;32m    916\u001b[0m \u001b[1;33m\u001b[0m\u001b[0m\n",
      "\u001b[1;31mNotFittedError\u001b[0m: This RandomForestClassifier instance is not fitted yet. Call 'fit' with appropriate arguments before using this method."
     ]
    }
   ],
   "source": [
    "# Test on the test dataset\n",
    "y_pred_rf_test_smote = rf_clf_smote.predict(X_test_boruta)   # The model trained by input data after smote \n",
    "\n",
    "y_pred_rf_test_ada = rf_clf_ada.predict(X_test_boruta)   # The model trained by input data after adasyn\n",
    "\n",
    "print('false classification after smote: %d' %(y_test != y_pred_rf_test_smote).sum())\n",
    "print('false classification after adasyn: %d' %(y_test != y_pred_rf_test_ada).sum())\n",
    "print('test accuracy after smote: %f' % rf_clf_smote.score(X_test_boruta ,y_test))\n",
    "print('test accuracy after adasyn: %f' % rf_clf_ada.score(X_test_boruta ,y_test))\n",
    "\n",
    "print('F1 score of test dataset after smote: %f' % f1_score(y_test, y_pred_rf_test_smote))\n",
    "print('Recall score of test dataset after smote: %f' % recall_score(y_test, y_pred_rf_test_smote))"
   ]
  },
  {
   "cell_type": "code",
   "execution_count": 60,
   "metadata": {},
   "outputs": [
    {
     "data": {
      "text/plain": [
       "array([[227,  66],\n",
       "       [  8,  13]], dtype=int64)"
      ]
     },
     "execution_count": 60,
     "metadata": {},
     "output_type": "execute_result"
    }
   ],
   "source": [
    "# calculate the confusion matrix\n",
    "cnf_matrix_rf_smote_test = confusion_matrix(y_test, y_pred_rf_test_smote)\n",
    "cnf_matrix_rf_smote_test"
   ]
  },
  {
   "cell_type": "markdown",
   "metadata": {},
   "source": [
    "After the comparison of two models implemented with SMOTE and ADASYN, SMOTE performs better and gives higher accuracy and F1 score. We decide to use SMOTE in the following models"
   ]
  },
  {
   "cell_type": "markdown",
   "metadata": {},
   "source": [
    "#### Model 3 after SMOTE and Adasyn : Support Vector machine (SVM)"
   ]
  },
  {
   "cell_type": "code",
   "execution_count": 79,
   "metadata": {},
   "outputs": [
    {
     "name": "stdout",
     "output_type": "stream",
     "text": [
      "train accuracy: 0.878205\n"
     ]
    }
   ],
   "source": [
    "from sklearn import svm\n",
    "svm = svm.SVC(gamma='scale')\n",
    "# after smote\n",
    "svm =svm.fit(X_train_smote, y_train_smote)\n",
    "# after ada\n",
    "#svm_ada = svm.fit(X_train_adasyn, y_train_adasyn)\n",
    "\n",
    "\n",
    "print('train accuracy: %f' % svm.score(X_train_smote, y_train_smote))\n",
    "#print('train accuracy: %f' % svm.score(X_train_adasyn, y_train_adasyn))"
   ]
  },
  {
   "cell_type": "code",
   "execution_count": 81,
   "metadata": {},
   "outputs": [
    {
     "name": "stdout",
     "output_type": "stream",
     "text": [
      "false classification: 74\n",
      "test accuracy: 0.764331\n",
      "F1 score of test dataset: 0.229167\n",
      "Recall score of test dataset: 0.523810\n",
      "[[229  64]\n",
      " [ 10  11]]\n"
     ]
    }
   ],
   "source": [
    "y_pred_svm_test = svm.predict(X_test_boruta)\n",
    "\n",
    "#y_pred_svm_test_ada = svm_ada.predict(X_test_boruta)   # The model trained by input data after adasyn\n",
    "\n",
    "\n",
    "print('false classification: %d' %(y_test != y_pred_svm_test).sum())\n",
    "#print('false classification: %d' %(y_test != y_pred_svm_test_ada).sum())\n",
    "\n",
    "print('test accuracy: %f' % svm.score(X_test_boruta ,y_test))\n",
    "#print('test accuracy: %f' % svm_ada.score(X_test_boruta ,y_test))\n",
    "\n",
    "# calculate the confusion matrix\n",
    "cnf_matrix_svm = confusion_matrix(y_test, y_pred_svm_test)\n",
    "\n",
    "#cnf_matrix_svm_ada = confusion_matrix(y_test, y_pred_svm_test_ada)\n",
    "\n",
    "# Calculate F1 score\n",
    "print('F1 score of test dataset: %f' % f1_score(y_test, y_pred_svm_test))\n",
    "print('Recall score of test dataset: %f' % recall_score(y_test, y_pred_svm_test))\n",
    "\n",
    "print(cnf_matrix_svm)\n",
    "#print(cnf_matrix_svm_ada)"
   ]
  },
  {
   "cell_type": "markdown",
   "metadata": {},
   "source": [
    "#### Model 4 after SMOTE: Naive Bayes"
   ]
  },
  {
   "cell_type": "code",
   "execution_count": 63,
   "metadata": {},
   "outputs": [
    {
     "name": "stdout",
     "output_type": "stream",
     "text": [
      "train accuracy: 0.685043\n"
     ]
    }
   ],
   "source": [
    "gnb = GaussianNB()\n",
    "gnb.fit(X_train_smote, y_train_smote)\n",
    "\n",
    "print('train accuracy: %f' % gnb.score(X_train_smote, y_train_smote))"
   ]
  },
  {
   "cell_type": "code",
   "execution_count": 64,
   "metadata": {},
   "outputs": [
    {
     "name": "stdout",
     "output_type": "stream",
     "text": [
      "false classification: 86\n",
      "test accuracy: 0.726115\n",
      "F1 score of test dataset: 0.232143\n",
      "Recall score of test dataset: 0.619048\n"
     ]
    },
    {
     "data": {
      "text/plain": [
       "array([[215,  78],\n",
       "       [  8,  13]], dtype=int64)"
      ]
     },
     "execution_count": 64,
     "metadata": {},
     "output_type": "execute_result"
    }
   ],
   "source": [
    "y_pred_gnb_test = gnb.predict(X_test_boruta)\n",
    "\n",
    "print('false classification: %d' %(y_test != y_pred_gnb_test).sum())\n",
    "print('test accuracy: %f' % gnb.score(X_test_boruta ,y_test))\n",
    "\n",
    "# calculate the confusion matrix\n",
    "cnf_matrix_gnb = confusion_matrix(y_test, y_pred_gnb_test)\n",
    "\n",
    "# Calculate F1 score\n",
    "print('F1 score of test dataset: %f' % f1_score(y_test, y_pred_gnb_test))\n",
    "print('Recall score of test dataset: %f' % recall_score(y_test, y_pred_gnb_test))\n",
    "\n",
    "cnf_matrix_gnb"
   ]
  },
  {
   "cell_type": "markdown",
   "metadata": {},
   "source": [
    "#### Model 5 after SMOTE: AdaBoost"
   ]
  },
  {
   "cell_type": "code",
   "execution_count": 46,
   "metadata": {},
   "outputs": [
    {
     "data": {
      "text/plain": [
       "GridSearchCV(cv=5, error_score='raise-deprecating',\n",
       "             estimator=AdaBoostClassifier(algorithm='SAMME.R',\n",
       "                                          base_estimator=None,\n",
       "                                          learning_rate=1.0, n_estimators=50,\n",
       "                                          random_state=None),\n",
       "             iid='warn', n_jobs=None,\n",
       "             param_grid={'learning_rate': [0.1, 0.5],\n",
       "                         'n_estimators': [10, 25, 40]},\n",
       "             pre_dispatch='2*n_jobs', refit=True, return_train_score=False,\n",
       "             scoring=None, verbose=0)"
      ]
     },
     "execution_count": 46,
     "metadata": {},
     "output_type": "execute_result"
    }
   ],
   "source": [
    "#use the GridSearch to automatically find the best parameters. \n",
    "param_grid_ada_clf = {'n_estimators':[10,25,40],'learning_rate' :[0.1,0.5]}\n",
    "\n",
    "# use random forest classifier\n",
    "ada_clf = AdaBoostClassifier()\n",
    "\n",
    "grid_search_ada_clf = GridSearchCV(ada_clf, param_grid_ada_clf, cv = 5)\n",
    "grid_search_ada_clf.fit(X_train_smote, y_train_smote)\n",
    "\n",
    "#ada_clf = AdaBoostClassifier(DecisionTreeClassifier(max_depth=1),n_estimators =25, \n",
    "#                            algorithm = 'SAMME.R', learning_rate=0.5)\n",
    "#ada_clf.fit(X_train_smote, y_train_smote)\n",
    "\n",
    "#print('train accuracy: %f' % ada_clf.score(X_train_smote, y_train_smote))"
   ]
  },
  {
   "cell_type": "code",
   "execution_count": 47,
   "metadata": {},
   "outputs": [
    {
     "data": {
      "text/plain": [
       "{'learning_rate': 0.5, 'n_estimators': 40}"
      ]
     },
     "execution_count": 47,
     "metadata": {},
     "output_type": "execute_result"
    }
   ],
   "source": [
    "grid_search_ada_clf.best_params_"
   ]
  },
  {
   "cell_type": "code",
   "execution_count": 48,
   "metadata": {},
   "outputs": [
    {
     "name": "stdout",
     "output_type": "stream",
     "text": [
      "train accuracy: 0.815812\n"
     ]
    }
   ],
   "source": [
    "# however I changed back to 25 estimators realizing the model is overfitting and we get higher error on test set.\n",
    "ada_clf = AdaBoostClassifier(DecisionTreeClassifier(max_depth=1),n_estimators =25,  \n",
    "                             algorithm = 'SAMME.R', learning_rate=0.5)\n",
    "ada_clf.fit(X_train_smote, y_train_smote)\n",
    "print('train accuracy: %f' % ada_clf.score(X_train_smote, y_train_smote))\n"
   ]
  },
  {
   "cell_type": "code",
   "execution_count": 49,
   "metadata": {},
   "outputs": [
    {
     "name": "stdout",
     "output_type": "stream",
     "text": [
      "false classification: 94\n",
      "test accuracy: 0.700637\n",
      "F1 score of test dataset: 0.253968\n",
      "Recall score of test dataset: 0.761905\n"
     ]
    },
    {
     "data": {
      "text/plain": [
       "array([[204,  89],\n",
       "       [  5,  16]], dtype=int64)"
      ]
     },
     "execution_count": 49,
     "metadata": {},
     "output_type": "execute_result"
    }
   ],
   "source": [
    "y_pred_ada_test = ada_clf.predict(X_test_boruta)\n",
    "\n",
    "print('false classification: %d' %(y_test != y_pred_ada_test).sum())\n",
    "print('test accuracy: %f' % ada_clf.score(X_test_boruta ,y_test))\n",
    "\n",
    "# calculate the confusion matrix\n",
    "cnf_matrix_ada = confusion_matrix(y_test, y_pred_ada_test)\n",
    "\n",
    "# Calculate F1 score\n",
    "print('F1 score of test dataset: %f' % f1_score(y_test, y_pred_ada_test))\n",
    "print('Recall score of test dataset: %f' % recall_score(y_test, y_pred_ada_test))\n",
    "\n",
    "cnf_matrix_ada"
   ]
  },
  {
   "cell_type": "markdown",
   "metadata": {},
   "source": [
    "#### Model 6: VOTING Classifier\n",
    "The idea behind the VotingClassifier is to combine conceptually different machine learning classifiers and use a majority vote or the average predicted probabilities (soft vote) to predict the class labels. Such a classifier can be useful for a set of equally well performing model in order to balance out their individual weaknesses."
   ]
  },
  {
   "cell_type": "code",
   "execution_count": 65,
   "metadata": {},
   "outputs": [
    {
     "data": {
      "text/plain": [
       "VotingClassifier(estimators=[('rf',\n",
       "                              RandomForestClassifier(bootstrap=True,\n",
       "                                                     class_weight=None,\n",
       "                                                     criterion='gini',\n",
       "                                                     max_depth=None,\n",
       "                                                     max_features='auto',\n",
       "                                                     max_leaf_nodes=18,\n",
       "                                                     min_impurity_decrease=0.0,\n",
       "                                                     min_impurity_split=None,\n",
       "                                                     min_samples_leaf=1,\n",
       "                                                     min_samples_split=2,\n",
       "                                                     min_weight_fraction_leaf=0.0,\n",
       "                                                     n_estimators=500,\n",
       "                                                     n_jobs=None,\n",
       "                                                     oob_score=False,\n",
       "                                                     random_state=None,\n",
       "                                                     verbose=...\n",
       "                                                                                       criterion='gini',\n",
       "                                                                                       max_depth=1,\n",
       "                                                                                       max_features=None,\n",
       "                                                                                       max_leaf_nodes=None,\n",
       "                                                                                       min_impurity_decrease=0.0,\n",
       "                                                                                       min_impurity_split=None,\n",
       "                                                                                       min_samples_leaf=1,\n",
       "                                                                                       min_samples_split=2,\n",
       "                                                                                       min_weight_fraction_leaf=0.0,\n",
       "                                                                                       presort=False,\n",
       "                                                                                       random_state=None,\n",
       "                                                                                       splitter='best'),\n",
       "                                                 learning_rate=0.5,\n",
       "                                                 n_estimators=25,\n",
       "                                                 random_state=None))],\n",
       "                 flatten_transform=True, n_jobs=None, voting='soft',\n",
       "                 weights=None)"
      ]
     },
     "execution_count": 65,
     "metadata": {},
     "output_type": "execute_result"
    }
   ],
   "source": [
    "voting_clf = VotingClassifier(estimators=[('rf',rf_clf_smote),('gnb',gnb),('ada',ada_clf)], voting = 'soft')\n",
    "voting_clf.fit(X_train_smote, y_train_smote)"
   ]
  },
  {
   "cell_type": "code",
   "execution_count": 66,
   "metadata": {
    "scrolled": true
   },
   "outputs": [
    {
     "name": "stdout",
     "output_type": "stream",
     "text": [
      "RandomForestClassifier 0.7611464968152867\n",
      "GaussianNB 0.7261146496815286\n",
      "AdaBoostClassifier 0.7006369426751592\n",
      "VotingClassifier 0.7579617834394905\n"
     ]
    }
   ],
   "source": [
    "# compare the accurracy score for each classifier model\n",
    "for clf in (rf_clf_smote, gnb, ada_clf, voting_clf):\n",
    "    clf.fit(X_train_smote, y_train_smote)\n",
    "    y_pred = clf.predict(X_test_boruta)\n",
    "    print(clf.__class__.__name__, accuracy_score(y_test, y_pred))\n",
    "    #print(clf.__class__.__name__, recall_score(y_test, y_pred))"
   ]
  },
  {
   "cell_type": "code",
   "execution_count": 67,
   "metadata": {},
   "outputs": [
    {
     "data": {
      "text/plain": [
       "array([[224,  69],\n",
       "       [  7,  14]], dtype=int64)"
      ]
     },
     "execution_count": 67,
     "metadata": {},
     "output_type": "execute_result"
    }
   ],
   "source": [
    "y_pred_voting = voting_clf.predict(X_test_boruta)\n",
    "cnf_matrix_voting = confusion_matrix(y_test, y_pred_voting)\n",
    "cnf_matrix_voting"
   ]
  },
  {
   "cell_type": "markdown",
   "metadata": {},
   "source": [
    "## Step 6 : Evaluate the model with Confusion matrix , AUC, Accuracy, Recall"
   ]
  },
  {
   "cell_type": "markdown",
   "metadata": {},
   "source": [
    "##### 6.1 Confusion matrix"
   ]
  },
  {
   "cell_type": "code",
   "execution_count": 68,
   "metadata": {},
   "outputs": [],
   "source": [
    "# define a function to visualize the confusion matrix \n",
    "def plot_confusion_matrix(cm, classes,\n",
    "                          normalize=False,\n",
    "                          title='Confusion matrix',\n",
    "                          cmap=plt.cm.Blues):\n",
    "    \"\"\"\n",
    "    This function prints and plots the confusion matrix.\n",
    "    Normalization can be applied by setting `normalize=True`.\n",
    "    \"\"\"\n",
    "    plt.imshow(cm, interpolation='nearest', cmap=cmap)\n",
    "    plt.title(title)\n",
    "    plt.colorbar()\n",
    "    tick_marks = np.arange(len(classes))\n",
    "    plt.xticks(tick_marks, classes, rotation=0)\n",
    "    plt.yticks(tick_marks, classes)\n",
    "\n",
    "    if normalize:\n",
    "        cm = cm.astype('float') / cm.sum(axis=1)[:, np.newaxis]\n",
    "        #print(\"Normalized confusion matrix\")\n",
    "    else:\n",
    "        1#print('Confusion matrix, without normalization')\n",
    "\n",
    "    #print(cm)\n",
    "\n",
    "    thresh = cm.max() / 2.\n",
    "    for i, j in product(range(cm.shape[0]), range(cm.shape[1])):\n",
    "        plt.text(j, i, cm[i, j],\n",
    "                 horizontalalignment=\"center\",\n",
    "                 color=\"white\" if cm[i, j] > thresh else \"black\")\n",
    "\n",
    "    plt.tight_layout()\n",
    "    plt.ylabel('True label')\n",
    "    plt.xlabel('Predicted label')"
   ]
  },
  {
   "cell_type": "code",
   "execution_count": 82,
   "metadata": {},
   "outputs": [
    {
     "data": {
      "image/png": "[encoded data removed]",
      "text/plain": [
       "<Figure size 432x288 with 2 Axes>"
      ]
     },
     "metadata": {},
     "output_type": "display_data"
    },
    {
     "data": {
      "image/png": "[encoded data removed]",
      "text/plain": [
       "<Figure size 432x288 with 2 Axes>"
      ]
     },
     "metadata": {},
     "output_type": "display_data"
    },
    {
     "data": {
      "image/png": "[encoded data removed]",
      "text/plain": [
       "<Figure size 432x288 with 2 Axes>"
      ]
     },
     "metadata": {},
     "output_type": "display_data"
    },
    {
     "data": {
      "image/png": "[encoded data removed]",
      "text/plain": [
       "<Figure size 432x288 with 2 Axes>"
      ]
     },
     "metadata": {},
     "output_type": "display_data"
    },
    {
     "data": {
      "image/png": "[encoded data removed]",
      "text/plain": [
       "<Figure size 432x288 with 2 Axes>"
      ]
     },
     "metadata": {},
     "output_type": "display_data"
    },
    {
     "data": {
      "image/png": "[encoded data removed]",
      "text/plain": [
       "<Figure size 432x288 with 2 Axes>"
      ]
     },
     "metadata": {},
     "output_type": "display_data"
    },
    {
     "data": {
      "image/png": "[encoded data removed]",
      "text/plain": [
       "<Figure size 432x288 with 2 Axes>"
      ]
     },
     "metadata": {},
     "output_type": "display_data"
    },
    {
     "data": {
      "image/png": "[encoded data removed]",
      "text/plain": [
       "<Figure size 432x288 with 2 Axes>"
      ]
     },
     "metadata": {},
     "output_type": "display_data"
    }
   ],
   "source": [
    "class_names = [-1,1]   #y label\n",
    "\n",
    "plt.figure()\n",
    "# a list of confusion matrix to be drawn\n",
    "cnf_matrix = [cnf_matrix_lr_be,cnf_matrix_lr_smote_test, cnf_matrix_lr_ada_test,cnf_matrix_rf_smote_test,cnf_matrix_svm,cnf_matrix_gnb,cnf_matrix_ada,cnf_matrix_voting]\n",
    "# create title lists correspondingly \n",
    "title1 = ['Confusion matrix_LR_ImbalancedData','Confusion matrix_LR_Smote','Confusion matrix_LG_Adasyn','Confusion matrix_RandomForest','Confusion matrix_SVM','Confusion matrix_GNB','Confusion matrix_AdaBoost',\n",
    "         'Confusion matrix_Voting']\n",
    "\n",
    "# use for loop to plot \n",
    "for i,title in zip(cnf_matrix,title1): \n",
    "    plot_confusion_matrix(i , classes=class_names, title= title)\n",
    "    plt.show()"
   ]
  },
  {
   "cell_type": "markdown",
   "metadata": {},
   "source": [
    "#### 6.2 Comparison of Roc curve and AUC"
   ]
  },
  {
   "cell_type": "code",
   "execution_count": 112,
   "metadata": {
    "scrolled": true
   },
   "outputs": [
    {
     "data": {
      "image/png": "[encoded data removed]",
      "text/plain": [
       "<Figure size 432x288 with 1 Axes>"
      ]
     },
     "metadata": {},
     "output_type": "display_data"
    }
   ],
   "source": [
    "# Plot Roc_curve for each model and caculate the area under the curve using auc.\n",
    "# Logistic regression with original imbalanced dataset\n",
    "fpr_lr_be, tpr_lr_be, thresholds = roc_curve(y_test, y_pred_lr_be)\n",
    "auc_lr_be = round(auc(fpr_lr_be, tpr_lr_be),3)  \n",
    "\n",
    "\n",
    "#Logistic Regression \n",
    "fpr_lr, tpr_lr, thresholds = roc_curve(y_test, y_pred_lr_ada_test)\n",
    "auc_lr = round(auc(fpr_lr, tpr_lr),3)  \n",
    "\n",
    "# Random forest\n",
    "fpr_rf, tpr_rf, thresholds = roc_curve(y_test, y_pred_rf_test_smote)\n",
    "auc_rf = round(auc(fpr_rf, tpr_rf),3)  \n",
    "\n",
    "# Support Vector Machine\n",
    "fpr_svm, tpr_svm, thresholds = roc_curve(y_test, y_pred_svm_test)\n",
    "auc_svm = round(auc(fpr_svm, tpr_svm),3)\n",
    "\n",
    "# Naive Bayes\n",
    "fpr_gnb, tpr_gnb, thresholds = roc_curve(y_test, y_pred_gnb_test)  \n",
    "auc_gnb = round(auc(fpr_gnb, tpr_gnb),3)\n",
    "\n",
    "# AdaBoost\n",
    "fpr_ada, tpr_ada, thresholds = roc_curve(y_test, y_pred_ada_test)  \n",
    "auc_ada = round(auc(fpr_ada, tpr_ada),3)\n",
    "\n",
    "# Voting classifier\n",
    "fpr_voting, tpr_voting, thresholds = roc_curve(y_test, y_pred_voting)\n",
    "auc_voting = round(auc(fpr_voting, tpr_voting),3)     # round it to only 3 decimal points\n",
    "\n",
    "\n",
    "# Plot the graph\n",
    "fig, ax = plt.subplots()\n",
    "ax.plot(fpr_lr_be, tpr_lr_be, label= \"LR on ImbalancedSet, auc=\"+str(auc_lr_be),linestyle= \"--\" )\n",
    "ax.plot(fpr_lr, tpr_lr, label= \"LR after smote, auc=\"+str(auc_lr))\n",
    "ax.plot(fpr_rf, tpr_rf, label= \"Random forest, auc=\"+str(auc_rf))\n",
    "ax.plot(fpr_svm, tpr_svm, label= \"Support vector machine, auc=\"+str(auc_svm))\n",
    "ax.plot(fpr_gnb, tpr_gnb, label= \"Naive Bayes, auc=\"+str(auc_gnb))\n",
    "ax.plot(fpr_ada, tpr_ada, label= \"AdaBoost, auc=\"+str(auc_gnb))\n",
    "ax.plot(fpr_voting, tpr_voting, label= \"Voting clf, auc=\"+str(auc_voting))\n",
    "plt.legend(loc='center right',bbox_to_anchor=(1.72, 0.5))\n",
    "ax.plot([0, 1], [0, 1], transform=ax.transAxes, ls=\"--\", c=\".3\")\n",
    "plt.xlim([0.0, 1.0])\n",
    "plt.ylim([0.0, 1.0])\n",
    "plt.rcParams['font.size'] = 12\n",
    "plt.title('ROC curve')\n",
    "plt.xlabel('False Positive Rate ( Specificity)')\n",
    "plt.ylabel('True Positive Rate (Sensitivity)')\n",
    "plt.grid(True)"
   ]
  },
  {
   "cell_type": "markdown",
   "metadata": {},
   "source": [
    "Area Under the Curve, or AUC. This is a convenient way to capture the performance of a model in a single number, although it's not without certain issues. As a rule of thumb, an AUC can be classed as follows,\n",
    "\n",
    "0.90 - 1.00 = excellent\n",
    "0.80 - 0.90 = good\n",
    "0.70 - 0.80 = fair\n",
    "0.60 - 0.70 = poor\n",
    "0.50 - 0.60 = fail\n"
   ]
  },
  {
   "cell_type": "markdown",
   "metadata": {},
   "source": [
    "#### 6.3 Comparison with accuracy and sensitivity "
   ]
  },
  {
   "cell_type": "code",
   "execution_count": 102,
   "metadata": {},
   "outputs": [
    {
     "name": "stderr",
     "output_type": "stream",
     "text": [
      "/Users/XiaMarko/anaconda3/lib/python3.6/site-packages/sklearn/linear_model/logistic.py:432: FutureWarning: Default solver will be changed to 'lbfgs' in 0.22. Specify a solver to silence this warning.\n",
      "  FutureWarning)\n"
     ]
    }
   ],
   "source": [
    "# compare the accurracy score for each classifier model\n",
    "clf_total = [lr_ada, rf_clf_smote, svm, gnb, ada_clf, voting_clf]\n",
    "clf_best = [rf_clf_smote, gnb, ada_clf, voting_clf]\n",
    "\n",
    "# Create a dataframe for storing the models scores from the for loop.\n",
    "scores_df = pd.DataFrame(columns= ['models','accuracy','sensitivity','f1_score'])\n",
    "\n",
    "for clf, i in zip(clf_total,range(6)):\n",
    "    clf.fit(X_train_smote, y_train_smote)\n",
    "    y_pred = clf.predict(X_test_boruta)\n",
    "    # store the each score in the list\n",
    "    \n",
    "    scores_df.loc[i,['models']] = clf.__class__.__name__\n",
    "    scores_df.loc[i,['accuracy']] = accuracy_score(y_test, y_pred)\n",
    "    scores_df.loc[i,['sensitivity']] = recall_score(y_test, y_pred)\n",
    "    scores_df.loc[i,['f1_score']] = f1_score(y_test, y_pred)\n",
    "        \n",
    "    #scores_df.append((clf.__class__.__name__, accuracy_score(y_test, y_pred),recall_score(y_test, y_pred)))\n",
    "    #print(clf.__class__.__name__, 'accuracy: %f' % accuracy_score(y_test, y_pred))\n",
    "    #print(clf.__class__.__name__, 'recall: %f' % recall_score(y_test, y_pred))\n",
    "    #print(clf.__class__.__name__, 'f1: %f' % f1_score(y_test, y_pred))"
   ]
  },
  {
   "cell_type": "code",
   "execution_count": 103,
   "metadata": {},
   "outputs": [
    {
     "data": {
      "text/html": [
       "<div>\n",
       "<style scoped>\n",
       "    .dataframe tbody tr th:only-of-type {\n",
       "        vertical-align: middle;\n",
       "    }\n",
       "\n",
       "    .dataframe tbody tr th {\n",
       "        vertical-align: top;\n",
       "    }\n",
       "\n",
       "    .dataframe thead th {\n",
       "        text-align: right;\n",
       "    }\n",
       "</style>\n",
       "<table border=\"1\" class=\"dataframe\">\n",
       "  <thead>\n",
       "    <tr style=\"text-align: right;\">\n",
       "      <th></th>\n",
       "      <th>models</th>\n",
       "      <th>accuracy</th>\n",
       "      <th>sensitivity</th>\n",
       "      <th>f1_score</th>\n",
       "    </tr>\n",
       "  </thead>\n",
       "  <tbody>\n",
       "    <tr>\n",
       "      <th>0</th>\n",
       "      <td>LogisticRegression</td>\n",
       "      <td>0.735669</td>\n",
       "      <td>0.571429</td>\n",
       "      <td>0.224299</td>\n",
       "    </tr>\n",
       "    <tr>\n",
       "      <th>1</th>\n",
       "      <td>RandomForestClassifier</td>\n",
       "      <td>0.761146</td>\n",
       "      <td>0.619048</td>\n",
       "      <td>0.257426</td>\n",
       "    </tr>\n",
       "    <tr>\n",
       "      <th>2</th>\n",
       "      <td>SVC</td>\n",
       "      <td>0.764331</td>\n",
       "      <td>0.52381</td>\n",
       "      <td>0.229167</td>\n",
       "    </tr>\n",
       "    <tr>\n",
       "      <th>3</th>\n",
       "      <td>GaussianNB</td>\n",
       "      <td>0.726115</td>\n",
       "      <td>0.619048</td>\n",
       "      <td>0.232143</td>\n",
       "    </tr>\n",
       "    <tr>\n",
       "      <th>4</th>\n",
       "      <td>AdaBoostClassifier</td>\n",
       "      <td>0.700637</td>\n",
       "      <td>0.761905</td>\n",
       "      <td>0.253968</td>\n",
       "    </tr>\n",
       "    <tr>\n",
       "      <th>5</th>\n",
       "      <td>VotingClassifier</td>\n",
       "      <td>0.757962</td>\n",
       "      <td>0.666667</td>\n",
       "      <td>0.269231</td>\n",
       "    </tr>\n",
       "  </tbody>\n",
       "</table>\n",
       "</div>"
      ],
      "text/plain": [
       "                   models  accuracy sensitivity  f1_score\n",
       "0      LogisticRegression  0.735669    0.571429  0.224299\n",
       "1  RandomForestClassifier  0.761146    0.619048  0.257426\n",
       "2                     SVC  0.764331     0.52381  0.229167\n",
       "3              GaussianNB  0.726115    0.619048  0.232143\n",
       "4      AdaBoostClassifier  0.700637    0.761905  0.253968\n",
       "5        VotingClassifier  0.757962    0.666667  0.269231"
      ]
     },
     "execution_count": 103,
     "metadata": {},
     "output_type": "execute_result"
    }
   ],
   "source": [
    "# summary of the results of different models\n",
    "scores_df"
   ]
  },
  {
   "cell_type": "code",
   "execution_count": 100,
   "metadata": {},
   "outputs": [
    {
     "data": {
      "image/png": "[encoded data removed]",
      "text/plain": [
       "<Figure size 432x288 with 1 Axes>"
      ]
     },
     "metadata": {},
     "output_type": "display_data"
    }
   ],
   "source": [
    "# draw the accuracy with horizontal bars\n",
    "fig, ax = plt.subplots()\n",
    "\n",
    "# Sort the scores_df in descending order by accuracy\n",
    "scores_acc = scores_df.sort_values(by = 'accuracy', ascending = False)\n",
    "\n",
    "models1 = scores_acc.loc[:,'models']\n",
    "y_pos = np.arange(len(models1))\n",
    "#error = np.random.rand(len(models)) #xerr=error,color=(0.2, 0.4, 0.6, 0.6)   color='rgbkymc'\n",
    "\n",
    "ax.barh(y_pos,scores_acc.loc[:,'accuracy'] ,align = 'center', color=(0.2, 0.4, 0.6, 0.6))\n",
    "ax.set_yticks(y_pos)\n",
    "ax.set_yticklabels(models1)\n",
    "ax.invert_yaxis()  # labels read top-to-bottom\n",
    "ax.set_xlabel('Accuracy')\n",
    "ax.set_title('Comparison test accuracy between different models')\n",
    "\n",
    "plt.show()"
   ]
  },
  {
   "cell_type": "code",
   "execution_count": 101,
   "metadata": {},
   "outputs": [
    {
     "data": {
      "image/png": "[encoded data removed]",
      "text/plain": [
       "<Figure size 432x288 with 1 Axes>"
      ]
     },
     "metadata": {},
     "output_type": "display_data"
    }
   ],
   "source": [
    "# draw the accuracy with horizontal bars\n",
    "fig, ax = plt.subplots()\n",
    "\n",
    "# Sort the scores_df in descending order by sensitivity\n",
    "scores_sen = scores_df.sort_values(by = 'sensitivity', ascending = False)\n",
    "\n",
    "models2 = scores_sen.loc[:,'models']\n",
    "y_pos = np.arange(len(models2))\n",
    "#error = np.random.rand(len(models)) #xerr=error,\n",
    "\n",
    "ax.barh(y_pos, scores_sen.loc[:,'sensitivity'] ,align = 'center')\n",
    "ax.set_yticks(y_pos)\n",
    "ax.set_yticklabels(models2)\n",
    "ax.invert_yaxis()  # labels read top-to-bottom\n",
    "ax.set_xlabel('Sensitivity or Recall')\n",
    "ax.set_title('Comparison test sensitivity between different models')\n",
    "\n",
    "plt.show()"
   ]
  },
  {
   "cell_type": "markdown",
   "metadata": {},
   "source": [
    "### Model 7 after SMOTE: 3 layer Neural Networks using TensorFlow   - Not successful. Only for our own reference to continue.\n",
    "We tried to build a neural network using TensorFlow but not successful due to the limited time."
   ]
  },
  {
   "cell_type": "code",
   "execution_count": 82,
   "metadata": {},
   "outputs": [],
   "source": [
    "import tensorflow as tf"
   ]
  },
  {
   "cell_type": "code",
   "execution_count": 96,
   "metadata": {},
   "outputs": [
    {
     "name": "stdout",
     "output_type": "stream",
     "text": [
      "number of training examples = 12\n",
      "number of test examples = 12\n",
      "X_train shape: (2340, 12)\n",
      "Y_train shape: (2340,)\n",
      "X_test shape: (314, 12)\n",
      "Y_test shape: (314,)\n"
     ]
    }
   ],
   "source": [
    "# prepare the input and label\n",
    "#X_train = tf.transpose(X_train_smote.copy())\n",
    "#X_test = tf.transpose(x_test_mean_MinMax.copy())\n",
    "\n",
    "X_train = X_train_smote.copy()\n",
    "X_test = X_test_mean_MinMax.copy()\n",
    "\n",
    "\n",
    "# convert training and test labels to one hot matrices\n",
    "#Y_train = tf.one_hot(y_train_smote, 2, axis = -1)  #axis = 0\n",
    "#Y_test = tf.one_hot(y_test, 2, axis =-1)\n",
    "Y_train = y_train_smote\n",
    "Y_test = y_test\n",
    "\n",
    "\n",
    "\n",
    "print(\"number of training examples = \" + str(X_train.shape[1]))\n",
    "print (\"number of test examples = \" + str(X_test.shape[1]))\n",
    "print (\"X_train shape: \" + str(X_train.shape))\n",
    "print (\"Y_train shape: \" + str(Y_train.shape))\n",
    "print (\"X_test shape: \" + str(X_test.shape))\n",
    "print (\"Y_test shape: \" + str(Y_test.shape))"
   ]
  },
  {
   "cell_type": "code",
   "execution_count": 86,
   "metadata": {},
   "outputs": [],
   "source": [
    "seed = 128\n",
    "rng = np.random.RandomState(seed)\n",
    "\n",
    "def dense_to_one_hot(labels_dense, num_classes=2):\n",
    "    \"\"\"Convert class labels from scalars to one-hot vectors\"\"\"\n",
    "    num_labels = labels_dense.shape[0]\n",
    "    index_offset = np.arange(num_labels) * num_classes\n",
    "    labels_one_hot = np.zeros((num_labels, num_classes))\n",
    "    labels_one_hot.flat[index_offset + labels_dense.ravel()] = 1\n",
    "    \n",
    "    return labels_one_hot"
   ]
  },
  {
   "cell_type": "code",
   "execution_count": 87,
   "metadata": {},
   "outputs": [
    {
     "data": {
      "text/plain": [
       "array([[0., 1.],\n",
       "       [0., 1.],\n",
       "       [0., 1.],\n",
       "       ...,\n",
       "       [0., 1.],\n",
       "       [0., 1.],\n",
       "       [0., 1.]])"
      ]
     },
     "execution_count": 87,
     "metadata": {},
     "output_type": "execute_result"
    }
   ],
   "source": [
    "# convert training and test labels to one hot matrices\n",
    "#Y_train = dense_to_one_hot(y_train_smote, 2)  #axis = 0\n",
    "#Y_test = dense_to_one_hot(y_test, 2)\n",
    "\n",
    "#Y_train"
   ]
  },
  {
   "cell_type": "code",
   "execution_count": 88,
   "metadata": {},
   "outputs": [],
   "source": [
    "n_inputs = 12     # 12 features\n",
    "n_hidden1 = 300   # 25 neurons in layer 1\n",
    "n_hidden2 = 300   # 12 neurons in layer 2\n",
    "n_outputs = 2     # output layer has 2 classes"
   ]
  },
  {
   "cell_type": "code",
   "execution_count": 100,
   "metadata": {},
   "outputs": [
    {
     "name": "stdout",
     "output_type": "stream",
     "text": [
      "X =Tensor(\"X_3:0\", shape=(?, 12), dtype=float32)\n",
      "Y =Tensor(\"Y_3:0\", dtype=int64)\n"
     ]
    }
   ],
   "source": [
    "# define input X and y \n",
    "X = tf.placeholder(tf.float32, shape=(None,n_inputs), name = 'X')\n",
    "Y = tf.placeholder(tf.int64, shape=(None), name = \"Y\")\n",
    "\n",
    "print('X =' + str(X))\n",
    "print('Y =' + str(Y))"
   ]
  },
  {
   "cell_type": "code",
   "execution_count": 90,
   "metadata": {},
   "outputs": [],
   "source": [
    "# now declare the weights connecting the input to the hidden layer\n",
    "W1 = tf.Variable(tf.random_normal([12, 300], stddev=0.03), name='W1')\n",
    "b1 = tf.Variable(tf.random_normal([300]), name='b1')\n",
    "# and the weights connecting the hidden layer to the output layer\n",
    "W2 = tf.Variable(tf.random_normal([300, 2], stddev=0.03), name='W2')\n",
    "b2 = tf.Variable(tf.random_normal([2]), name='b2')\n",
    "\n",
    "#W3 = tf.Variable(tf.random_normal([300, 2], stddev=0.03), name='W3')\n",
    "#b3 = tf.Variable(tf.random_normal([2]), name='b3')"
   ]
  },
  {
   "cell_type": "code",
   "execution_count": 91,
   "metadata": {},
   "outputs": [],
   "source": [
    "# calculate the output of the hidden layer\n",
    "hidden1 = tf.add(tf.matmul(X, W1), b1)\n",
    "hidden1 = tf.nn.relu(hidden1)"
   ]
  },
  {
   "cell_type": "code",
   "execution_count": 92,
   "metadata": {},
   "outputs": [],
   "source": [
    "# now calculate the hidden layer output - in this case, let's use a softmax activated\n",
    "# output layer\n",
    "logits = tf.add(tf.matmul(hidden1, W2), b2)"
   ]
  },
  {
   "cell_type": "code",
   "execution_count": 93,
   "metadata": {},
   "outputs": [
    {
     "name": "stderr",
     "output_type": "stream",
     "text": [
      "WARNING: Logging before flag parsing goes to stderr.\n",
      "W0626 23:40:05.543308 4500997568 deprecation.py:323] From /Users/XiaMarko/anaconda3/lib/python3.6/site-packages/tensorflow/python/ops/nn_impl.py:180: add_dispatch_support.<locals>.wrapper (from tensorflow.python.ops.array_ops) is deprecated and will be removed in a future version.\n",
      "Instructions for updating:\n",
      "Use tf.where in 2.0, which has the same broadcast rule as np.where\n"
     ]
    }
   ],
   "source": [
    "#y_clipped = tf.clip_by_value(y_, 1e-10, 0.9999999)\n",
    "#cross_entropy = -tf.reduce_mean(tf.reduce_sum(Y * tf.log(y_clipped)\n",
    " #                        + (1 - Y) * tf.log(1 - y_clipped), axis=1))\n",
    "cost = tf.reduce_mean(tf.nn.sigmoid_cross_entropy_with_logits(logits = logits,labels = Y))  # sigmoid function"
   ]
  },
  {
   "cell_type": "code",
   "execution_count": 113,
   "metadata": {},
   "outputs": [],
   "source": [
    "learning_rate = 0.01\n",
    "# Add an optimizer\n",
    "optimizer = tf.train.AdamOptimizer(learning_rate = learning_rate).minimize(cost)\n"
   ]
  },
  {
   "cell_type": "code",
   "execution_count": 101,
   "metadata": {},
   "outputs": [],
   "source": [
    "# finally setup the initialisation operator\n",
    "init_op = tf.global_variables_initializer()\n",
    "\n",
    "# define an accuracy assessment operation\n",
    "with tf.name_scope('eval'):\n",
    "    correct = tf.nn.in_top_k(logits, Y, 1)\n",
    "    accuracy = tf.reduce_mean(tf.cast(correct,tf.float32))"
   ]
  },
  {
   "cell_type": "code",
   "execution_count": 102,
   "metadata": {},
   "outputs": [],
   "source": [
    "# save the model\n",
    "init = tf.global_variables_initializer()\n",
    "saver = tf.train.Saver()"
   ]
  },
  {
   "cell_type": "code",
   "execution_count": 110,
   "metadata": {},
   "outputs": [],
   "source": [
    "# To stop potential randomness\n",
    "seed = 128\n",
    "rng = np.random.RandomState(seed)\n",
    "\n",
    "\n",
    "def preproc(unclean_batch_x):\n",
    "    \"\"\"Convert values to range 0-1\"\"\"\n",
    "    temp_batch = unclean_batch_x / unclean_batch_x.max()\n",
    "    \n",
    "    return temp_batch\n",
    "\n"
   ]
  },
  {
   "cell_type": "code",
   "execution_count": 106,
   "metadata": {},
   "outputs": [],
   "source": [
    "#Setting up the training\n",
    "epochs =400\n"
   ]
  },
  {
   "cell_type": "code",
   "execution_count": 119,
   "metadata": {},
   "outputs": [],
   "source": [
    "def dense_to_one_hot(labels_dense, num_classes=2):\n",
    "    \"\"\"Convert class labels from scalars to one-hot vectors\"\"\"\n",
    "    num_labels = labels_dense.shape[0]\n",
    "    index_offset = np.arange(num_labels) * num_classes\n",
    "    labels_one_hot = np.zeros((num_labels, num_classes))\n",
    "    labels_one_hot.flat[index_offset + labels_dense.ravel()] = 1\n",
    "    \n",
    "    return labels_one_hot\n",
    "\n",
    "\n",
    "# convert training and test labels to one hot matrices\n",
    "Y_train = dense_to_one_hot(y_train_smote, 2)  \n",
    "Y_test = dense_to_one_hot(y_test, 2)\n",
    "\n"
   ]
  },
  {
   "cell_type": "code",
   "execution_count": 123,
   "metadata": {},
   "outputs": [
    {
     "ename": "InvalidArgumentError",
     "evalue": "You must feed a value for placeholder tensor 'X' with dtype float and shape [?,12]\n\t [[node X (defined at <ipython-input-89-977b1eff731b>:2) ]]\n\nOriginal stack trace for 'X':\n  File \"/Users/XiaMarko/anaconda3/lib/python3.6/runpy.py\", line 193, in _run_module_as_main\n    \"__main__\", mod_spec)\n  File \"/Users/XiaMarko/anaconda3/lib/python3.6/runpy.py\", line 85, in _run_code\n    exec(code, run_globals)\n  File \"/Users/XiaMarko/anaconda3/lib/python3.6/site-packages/ipykernel_launcher.py\", line 16, in <module>\n    app.launch_new_instance()\n  File \"/Users/XiaMarko/anaconda3/lib/python3.6/site-packages/traitlets/config/application.py\", line 658, in launch_instance\n    app.start()\n  File \"/Users/XiaMarko/anaconda3/lib/python3.6/site-packages/ipykernel/kernelapp.py\", line 505, in start\n    self.io_loop.start()\n  File \"/Users/XiaMarko/anaconda3/lib/python3.6/site-packages/tornado/platform/asyncio.py\", line 148, in start\n    self.asyncio_loop.run_forever()\n  File \"/Users/XiaMarko/anaconda3/lib/python3.6/asyncio/base_events.py\", line 438, in run_forever\n    self._run_once()\n  File \"/Users/XiaMarko/anaconda3/lib/python3.6/asyncio/base_events.py\", line 1451, in _run_once\n    handle._run()\n  File \"/Users/XiaMarko/anaconda3/lib/python3.6/asyncio/events.py\", line 145, in _run\n    self._callback(*self._args)\n  File \"/Users/XiaMarko/anaconda3/lib/python3.6/site-packages/tornado/ioloop.py\", line 690, in <lambda>\n    lambda f: self._run_callback(functools.partial(callback, future))\n  File \"/Users/XiaMarko/anaconda3/lib/python3.6/site-packages/tornado/ioloop.py\", line 743, in _run_callback\n    ret = callback()\n  File \"/Users/XiaMarko/anaconda3/lib/python3.6/site-packages/tornado/gen.py\", line 781, in inner\n    self.run()\n  File \"/Users/XiaMarko/anaconda3/lib/python3.6/site-packages/tornado/gen.py\", line 742, in run\n    yielded = self.gen.send(value)\n  File \"/Users/XiaMarko/anaconda3/lib/python3.6/site-packages/ipykernel/kernelbase.py\", line 365, in process_one\n    yield gen.maybe_future(dispatch(*args))\n  File \"/Users/XiaMarko/anaconda3/lib/python3.6/site-packages/tornado/gen.py\", line 209, in wrapper\n    yielded = next(result)\n  File \"/Users/XiaMarko/anaconda3/lib/python3.6/site-packages/ipykernel/kernelbase.py\", line 272, in dispatch_shell\n    yield gen.maybe_future(handler(stream, idents, msg))\n  File \"/Users/XiaMarko/anaconda3/lib/python3.6/site-packages/tornado/gen.py\", line 209, in wrapper\n    yielded = next(result)\n  File \"/Users/XiaMarko/anaconda3/lib/python3.6/site-packages/ipykernel/kernelbase.py\", line 542, in execute_request\n    user_expressions, allow_stdin,\n  File \"/Users/XiaMarko/anaconda3/lib/python3.6/site-packages/tornado/gen.py\", line 209, in wrapper\n    yielded = next(result)\n  File \"/Users/XiaMarko/anaconda3/lib/python3.6/site-packages/ipykernel/ipkernel.py\", line 294, in do_execute\n    res = shell.run_cell(code, store_history=store_history, silent=silent)\n  File \"/Users/XiaMarko/anaconda3/lib/python3.6/site-packages/ipykernel/zmqshell.py\", line 536, in run_cell\n    return super(ZMQInteractiveShell, self).run_cell(*args, **kwargs)\n  File \"/Users/XiaMarko/anaconda3/lib/python3.6/site-packages/IPython/core/interactiveshell.py\", line 2848, in run_cell\n    raw_cell, store_history, silent, shell_futures)\n  File \"/Users/XiaMarko/anaconda3/lib/python3.6/site-packages/IPython/core/interactiveshell.py\", line 2874, in _run_cell\n    return runner(coro)\n  File \"/Users/XiaMarko/anaconda3/lib/python3.6/site-packages/IPython/core/async_helpers.py\", line 67, in _pseudo_sync_runner\n    coro.send(None)\n  File \"/Users/XiaMarko/anaconda3/lib/python3.6/site-packages/IPython/core/interactiveshell.py\", line 3049, in run_cell_async\n    interactivity=interactivity, compiler=compiler, result=result)\n  File \"/Users/XiaMarko/anaconda3/lib/python3.6/site-packages/IPython/core/interactiveshell.py\", line 3214, in run_ast_nodes\n    if (yield from self.run_code(code, result)):\n  File \"/Users/XiaMarko/anaconda3/lib/python3.6/site-packages/IPython/core/interactiveshell.py\", line 3296, in run_code\n    exec(code_obj, self.user_global_ns, self.user_ns)\n  File \"<ipython-input-89-977b1eff731b>\", line 2, in <module>\n    X = tf.placeholder(tf.float32, shape=(None,n_inputs), name = 'X')\n  File \"/Users/XiaMarko/anaconda3/lib/python3.6/site-packages/tensorflow/python/ops/array_ops.py\", line 2143, in placeholder\n    return gen_array_ops.placeholder(dtype=dtype, shape=shape, name=name)\n  File \"/Users/XiaMarko/anaconda3/lib/python3.6/site-packages/tensorflow/python/ops/gen_array_ops.py\", line 6262, in placeholder\n    \"Placeholder\", dtype=dtype, shape=shape, name=name)\n  File \"/Users/XiaMarko/anaconda3/lib/python3.6/site-packages/tensorflow/python/framework/op_def_library.py\", line 788, in _apply_op_helper\n    op_def=op_def)\n  File \"/Users/XiaMarko/anaconda3/lib/python3.6/site-packages/tensorflow/python/util/deprecation.py\", line 507, in new_func\n    return func(*args, **kwargs)\n  File \"/Users/XiaMarko/anaconda3/lib/python3.6/site-packages/tensorflow/python/framework/ops.py\", line 3616, in create_op\n    op_def=op_def)\n  File \"/Users/XiaMarko/anaconda3/lib/python3.6/site-packages/tensorflow/python/framework/ops.py\", line 2005, in __init__\n    self._traceback = tf_stack.extract_stack()\n",
     "output_type": "error",
     "traceback": [
      "\u001b[0;31m---------------------------------------------------------------------------\u001b[0m",
      "\u001b[0;31mInvalidArgumentError\u001b[0m                      Traceback (most recent call last)",
      "\u001b[0;32m~/anaconda3/lib/python3.6/site-packages/tensorflow/python/client/session.py\u001b[0m in \u001b[0;36m_do_call\u001b[0;34m(self, fn, *args)\u001b[0m\n\u001b[1;32m   1355\u001b[0m     \u001b[0;32mtry\u001b[0m\u001b[0;34m:\u001b[0m\u001b[0;34m\u001b[0m\u001b[0;34m\u001b[0m\u001b[0m\n\u001b[0;32m-> 1356\u001b[0;31m       \u001b[0;32mreturn\u001b[0m \u001b[0mfn\u001b[0m\u001b[0;34m(\u001b[0m\u001b[0;34m*\u001b[0m\u001b[0margs\u001b[0m\u001b[0;34m)\u001b[0m\u001b[0;34m\u001b[0m\u001b[0;34m\u001b[0m\u001b[0m\n\u001b[0m\u001b[1;32m   1357\u001b[0m     \u001b[0;32mexcept\u001b[0m \u001b[0merrors\u001b[0m\u001b[0;34m.\u001b[0m\u001b[0mOpError\u001b[0m \u001b[0;32mas\u001b[0m \u001b[0me\u001b[0m\u001b[0;34m:\u001b[0m\u001b[0;34m\u001b[0m\u001b[0;34m\u001b[0m\u001b[0m\n",
      "\u001b[0;32m~/anaconda3/lib/python3.6/site-packages/tensorflow/python/client/session.py\u001b[0m in \u001b[0;36m_run_fn\u001b[0;34m(feed_dict, fetch_list, target_list, options, run_metadata)\u001b[0m\n\u001b[1;32m   1340\u001b[0m       return self._call_tf_sessionrun(\n\u001b[0;32m-> 1341\u001b[0;31m           options, feed_dict, fetch_list, target_list, run_metadata)\n\u001b[0m\u001b[1;32m   1342\u001b[0m \u001b[0;34m\u001b[0m\u001b[0m\n",
      "\u001b[0;32m~/anaconda3/lib/python3.6/site-packages/tensorflow/python/client/session.py\u001b[0m in \u001b[0;36m_call_tf_sessionrun\u001b[0;34m(self, options, feed_dict, fetch_list, target_list, run_metadata)\u001b[0m\n\u001b[1;32m   1428\u001b[0m         \u001b[0mself\u001b[0m\u001b[0;34m.\u001b[0m\u001b[0m_session\u001b[0m\u001b[0;34m,\u001b[0m \u001b[0moptions\u001b[0m\u001b[0;34m,\u001b[0m \u001b[0mfeed_dict\u001b[0m\u001b[0;34m,\u001b[0m \u001b[0mfetch_list\u001b[0m\u001b[0;34m,\u001b[0m \u001b[0mtarget_list\u001b[0m\u001b[0;34m,\u001b[0m\u001b[0;34m\u001b[0m\u001b[0;34m\u001b[0m\u001b[0m\n\u001b[0;32m-> 1429\u001b[0;31m         run_metadata)\n\u001b[0m\u001b[1;32m   1430\u001b[0m \u001b[0;34m\u001b[0m\u001b[0m\n",
      "\u001b[0;31mInvalidArgumentError\u001b[0m: You must feed a value for placeholder tensor 'X' with dtype float and shape [?,12]\n\t [[{{node X}}]]",
      "\nDuring handling of the above exception, another exception occurred:\n",
      "\u001b[0;31mInvalidArgumentError\u001b[0m                      Traceback (most recent call last)",
      "\u001b[0;32m<ipython-input-123-9404588cf0ee>\u001b[0m in \u001b[0;36m<module>\u001b[0;34m\u001b[0m\n\u001b[1;32m      1\u001b[0m \u001b[0;32mwith\u001b[0m \u001b[0mtf\u001b[0m\u001b[0;34m.\u001b[0m\u001b[0mSession\u001b[0m\u001b[0;34m(\u001b[0m\u001b[0;34m)\u001b[0m \u001b[0;32mas\u001b[0m \u001b[0msess\u001b[0m\u001b[0;34m:\u001b[0m\u001b[0;34m\u001b[0m\u001b[0;34m\u001b[0m\u001b[0m\n\u001b[1;32m      2\u001b[0m     \u001b[0msess\u001b[0m\u001b[0;34m.\u001b[0m\u001b[0mrun\u001b[0m\u001b[0;34m(\u001b[0m\u001b[0minit_op\u001b[0m\u001b[0;34m)\u001b[0m\u001b[0;34m\u001b[0m\u001b[0;34m\u001b[0m\u001b[0m\n\u001b[0;32m----> 3\u001b[0;31m     \u001b[0msess\u001b[0m\u001b[0;34m.\u001b[0m\u001b[0mrun\u001b[0m\u001b[0;34m(\u001b[0m\u001b[0;34m[\u001b[0m\u001b[0moptimizer\u001b[0m\u001b[0;34m,\u001b[0m \u001b[0mcost\u001b[0m\u001b[0;34m]\u001b[0m\u001b[0;34m,\u001b[0m \u001b[0mfeed_dict\u001b[0m \u001b[0;34m=\u001b[0m \u001b[0;34m{\u001b[0m\u001b[0mX\u001b[0m\u001b[0;34m:\u001b[0m \u001b[0mX_train\u001b[0m\u001b[0;34m,\u001b[0m \u001b[0mY\u001b[0m\u001b[0;34m:\u001b[0m \u001b[0mY_train\u001b[0m\u001b[0;34m}\u001b[0m\u001b[0;34m)\u001b[0m\u001b[0;34m\u001b[0m\u001b[0;34m\u001b[0m\u001b[0m\n\u001b[0m",
      "\u001b[0;32m~/anaconda3/lib/python3.6/site-packages/tensorflow/python/client/session.py\u001b[0m in \u001b[0;36mrun\u001b[0;34m(self, fetches, feed_dict, options, run_metadata)\u001b[0m\n\u001b[1;32m    948\u001b[0m     \u001b[0;32mtry\u001b[0m\u001b[0;34m:\u001b[0m\u001b[0;34m\u001b[0m\u001b[0;34m\u001b[0m\u001b[0m\n\u001b[1;32m    949\u001b[0m       result = self._run(None, fetches, feed_dict, options_ptr,\n\u001b[0;32m--> 950\u001b[0;31m                          run_metadata_ptr)\n\u001b[0m\u001b[1;32m    951\u001b[0m       \u001b[0;32mif\u001b[0m \u001b[0mrun_metadata\u001b[0m\u001b[0;34m:\u001b[0m\u001b[0;34m\u001b[0m\u001b[0;34m\u001b[0m\u001b[0m\n\u001b[1;32m    952\u001b[0m         \u001b[0mproto_data\u001b[0m \u001b[0;34m=\u001b[0m \u001b[0mtf_session\u001b[0m\u001b[0;34m.\u001b[0m\u001b[0mTF_GetBuffer\u001b[0m\u001b[0;34m(\u001b[0m\u001b[0mrun_metadata_ptr\u001b[0m\u001b[0;34m)\u001b[0m\u001b[0;34m\u001b[0m\u001b[0;34m\u001b[0m\u001b[0m\n",
      "\u001b[0;32m~/anaconda3/lib/python3.6/site-packages/tensorflow/python/client/session.py\u001b[0m in \u001b[0;36m_run\u001b[0;34m(self, handle, fetches, feed_dict, options, run_metadata)\u001b[0m\n\u001b[1;32m   1171\u001b[0m     \u001b[0;32mif\u001b[0m \u001b[0mfinal_fetches\u001b[0m \u001b[0;32mor\u001b[0m \u001b[0mfinal_targets\u001b[0m \u001b[0;32mor\u001b[0m \u001b[0;34m(\u001b[0m\u001b[0mhandle\u001b[0m \u001b[0;32mand\u001b[0m \u001b[0mfeed_dict_tensor\u001b[0m\u001b[0;34m)\u001b[0m\u001b[0;34m:\u001b[0m\u001b[0;34m\u001b[0m\u001b[0;34m\u001b[0m\u001b[0m\n\u001b[1;32m   1172\u001b[0m       results = self._do_run(handle, final_targets, final_fetches,\n\u001b[0;32m-> 1173\u001b[0;31m                              feed_dict_tensor, options, run_metadata)\n\u001b[0m\u001b[1;32m   1174\u001b[0m     \u001b[0;32melse\u001b[0m\u001b[0;34m:\u001b[0m\u001b[0;34m\u001b[0m\u001b[0;34m\u001b[0m\u001b[0m\n\u001b[1;32m   1175\u001b[0m       \u001b[0mresults\u001b[0m \u001b[0;34m=\u001b[0m \u001b[0;34m[\u001b[0m\u001b[0;34m]\u001b[0m\u001b[0;34m\u001b[0m\u001b[0;34m\u001b[0m\u001b[0m\n",
      "\u001b[0;32m~/anaconda3/lib/python3.6/site-packages/tensorflow/python/client/session.py\u001b[0m in \u001b[0;36m_do_run\u001b[0;34m(self, handle, target_list, fetch_list, feed_dict, options, run_metadata)\u001b[0m\n\u001b[1;32m   1348\u001b[0m     \u001b[0;32mif\u001b[0m \u001b[0mhandle\u001b[0m \u001b[0;32mis\u001b[0m \u001b[0;32mNone\u001b[0m\u001b[0;34m:\u001b[0m\u001b[0;34m\u001b[0m\u001b[0;34m\u001b[0m\u001b[0m\n\u001b[1;32m   1349\u001b[0m       return self._do_call(_run_fn, feeds, fetches, targets, options,\n\u001b[0;32m-> 1350\u001b[0;31m                            run_metadata)\n\u001b[0m\u001b[1;32m   1351\u001b[0m     \u001b[0;32melse\u001b[0m\u001b[0;34m:\u001b[0m\u001b[0;34m\u001b[0m\u001b[0;34m\u001b[0m\u001b[0m\n\u001b[1;32m   1352\u001b[0m       \u001b[0;32mreturn\u001b[0m \u001b[0mself\u001b[0m\u001b[0;34m.\u001b[0m\u001b[0m_do_call\u001b[0m\u001b[0;34m(\u001b[0m\u001b[0m_prun_fn\u001b[0m\u001b[0;34m,\u001b[0m \u001b[0mhandle\u001b[0m\u001b[0;34m,\u001b[0m \u001b[0mfeeds\u001b[0m\u001b[0;34m,\u001b[0m \u001b[0mfetches\u001b[0m\u001b[0;34m)\u001b[0m\u001b[0;34m\u001b[0m\u001b[0;34m\u001b[0m\u001b[0m\n",
      "\u001b[0;32m~/anaconda3/lib/python3.6/site-packages/tensorflow/python/client/session.py\u001b[0m in \u001b[0;36m_do_call\u001b[0;34m(self, fn, *args)\u001b[0m\n\u001b[1;32m   1368\u001b[0m           \u001b[0;32mpass\u001b[0m\u001b[0;34m\u001b[0m\u001b[0;34m\u001b[0m\u001b[0m\n\u001b[1;32m   1369\u001b[0m       \u001b[0mmessage\u001b[0m \u001b[0;34m=\u001b[0m \u001b[0merror_interpolation\u001b[0m\u001b[0;34m.\u001b[0m\u001b[0minterpolate\u001b[0m\u001b[0;34m(\u001b[0m\u001b[0mmessage\u001b[0m\u001b[0;34m,\u001b[0m \u001b[0mself\u001b[0m\u001b[0;34m.\u001b[0m\u001b[0m_graph\u001b[0m\u001b[0;34m)\u001b[0m\u001b[0;34m\u001b[0m\u001b[0;34m\u001b[0m\u001b[0m\n\u001b[0;32m-> 1370\u001b[0;31m       \u001b[0;32mraise\u001b[0m \u001b[0mtype\u001b[0m\u001b[0;34m(\u001b[0m\u001b[0me\u001b[0m\u001b[0;34m)\u001b[0m\u001b[0;34m(\u001b[0m\u001b[0mnode_def\u001b[0m\u001b[0;34m,\u001b[0m \u001b[0mop\u001b[0m\u001b[0;34m,\u001b[0m \u001b[0mmessage\u001b[0m\u001b[0;34m)\u001b[0m\u001b[0;34m\u001b[0m\u001b[0;34m\u001b[0m\u001b[0m\n\u001b[0m\u001b[1;32m   1371\u001b[0m \u001b[0;34m\u001b[0m\u001b[0m\n\u001b[1;32m   1372\u001b[0m   \u001b[0;32mdef\u001b[0m \u001b[0m_extend_graph\u001b[0m\u001b[0;34m(\u001b[0m\u001b[0mself\u001b[0m\u001b[0;34m)\u001b[0m\u001b[0;34m:\u001b[0m\u001b[0;34m\u001b[0m\u001b[0;34m\u001b[0m\u001b[0m\n",
      "\u001b[0;31mInvalidArgumentError\u001b[0m: You must feed a value for placeholder tensor 'X' with dtype float and shape [?,12]\n\t [[node X (defined at <ipython-input-89-977b1eff731b>:2) ]]\n\nOriginal stack trace for 'X':\n  File \"/Users/XiaMarko/anaconda3/lib/python3.6/runpy.py\", line 193, in _run_module_as_main\n    \"__main__\", mod_spec)\n  File \"/Users/XiaMarko/anaconda3/lib/python3.6/runpy.py\", line 85, in _run_code\n    exec(code, run_globals)\n  File \"/Users/XiaMarko/anaconda3/lib/python3.6/site-packages/ipykernel_launcher.py\", line 16, in <module>\n    app.launch_new_instance()\n  File \"/Users/XiaMarko/anaconda3/lib/python3.6/site-packages/traitlets/config/application.py\", line 658, in launch_instance\n    app.start()\n  File \"/Users/XiaMarko/anaconda3/lib/python3.6/site-packages/ipykernel/kernelapp.py\", line 505, in start\n    self.io_loop.start()\n  File \"/Users/XiaMarko/anaconda3/lib/python3.6/site-packages/tornado/platform/asyncio.py\", line 148, in start\n    self.asyncio_loop.run_forever()\n  File \"/Users/XiaMarko/anaconda3/lib/python3.6/asyncio/base_events.py\", line 438, in run_forever\n    self._run_once()\n  File \"/Users/XiaMarko/anaconda3/lib/python3.6/asyncio/base_events.py\", line 1451, in _run_once\n    handle._run()\n  File \"/Users/XiaMarko/anaconda3/lib/python3.6/asyncio/events.py\", line 145, in _run\n    self._callback(*self._args)\n  File \"/Users/XiaMarko/anaconda3/lib/python3.6/site-packages/tornado/ioloop.py\", line 690, in <lambda>\n    lambda f: self._run_callback(functools.partial(callback, future))\n  File \"/Users/XiaMarko/anaconda3/lib/python3.6/site-packages/tornado/ioloop.py\", line 743, in _run_callback\n    ret = callback()\n  File \"/Users/XiaMarko/anaconda3/lib/python3.6/site-packages/tornado/gen.py\", line 781, in inner\n    self.run()\n  File \"/Users/XiaMarko/anaconda3/lib/python3.6/site-packages/tornado/gen.py\", line 742, in run\n    yielded = self.gen.send(value)\n  File \"/Users/XiaMarko/anaconda3/lib/python3.6/site-packages/ipykernel/kernelbase.py\", line 365, in process_one\n    yield gen.maybe_future(dispatch(*args))\n  File \"/Users/XiaMarko/anaconda3/lib/python3.6/site-packages/tornado/gen.py\", line 209, in wrapper\n    yielded = next(result)\n  File \"/Users/XiaMarko/anaconda3/lib/python3.6/site-packages/ipykernel/kernelbase.py\", line 272, in dispatch_shell\n    yield gen.maybe_future(handler(stream, idents, msg))\n  File \"/Users/XiaMarko/anaconda3/lib/python3.6/site-packages/tornado/gen.py\", line 209, in wrapper\n    yielded = next(result)\n  File \"/Users/XiaMarko/anaconda3/lib/python3.6/site-packages/ipykernel/kernelbase.py\", line 542, in execute_request\n    user_expressions, allow_stdin,\n  File \"/Users/XiaMarko/anaconda3/lib/python3.6/site-packages/tornado/gen.py\", line 209, in wrapper\n    yielded = next(result)\n  File \"/Users/XiaMarko/anaconda3/lib/python3.6/site-packages/ipykernel/ipkernel.py\", line 294, in do_execute\n    res = shell.run_cell(code, store_history=store_history, silent=silent)\n  File \"/Users/XiaMarko/anaconda3/lib/python3.6/site-packages/ipykernel/zmqshell.py\", line 536, in run_cell\n    return super(ZMQInteractiveShell, self).run_cell(*args, **kwargs)\n  File \"/Users/XiaMarko/anaconda3/lib/python3.6/site-packages/IPython/core/interactiveshell.py\", line 2848, in run_cell\n    raw_cell, store_history, silent, shell_futures)\n  File \"/Users/XiaMarko/anaconda3/lib/python3.6/site-packages/IPython/core/interactiveshell.py\", line 2874, in _run_cell\n    return runner(coro)\n  File \"/Users/XiaMarko/anaconda3/lib/python3.6/site-packages/IPython/core/async_helpers.py\", line 67, in _pseudo_sync_runner\n    coro.send(None)\n  File \"/Users/XiaMarko/anaconda3/lib/python3.6/site-packages/IPython/core/interactiveshell.py\", line 3049, in run_cell_async\n    interactivity=interactivity, compiler=compiler, result=result)\n  File \"/Users/XiaMarko/anaconda3/lib/python3.6/site-packages/IPython/core/interactiveshell.py\", line 3214, in run_ast_nodes\n    if (yield from self.run_code(code, result)):\n  File \"/Users/XiaMarko/anaconda3/lib/python3.6/site-packages/IPython/core/interactiveshell.py\", line 3296, in run_code\n    exec(code_obj, self.user_global_ns, self.user_ns)\n  File \"<ipython-input-89-977b1eff731b>\", line 2, in <module>\n    X = tf.placeholder(tf.float32, shape=(None,n_inputs), name = 'X')\n  File \"/Users/XiaMarko/anaconda3/lib/python3.6/site-packages/tensorflow/python/ops/array_ops.py\", line 2143, in placeholder\n    return gen_array_ops.placeholder(dtype=dtype, shape=shape, name=name)\n  File \"/Users/XiaMarko/anaconda3/lib/python3.6/site-packages/tensorflow/python/ops/gen_array_ops.py\", line 6262, in placeholder\n    \"Placeholder\", dtype=dtype, shape=shape, name=name)\n  File \"/Users/XiaMarko/anaconda3/lib/python3.6/site-packages/tensorflow/python/framework/op_def_library.py\", line 788, in _apply_op_helper\n    op_def=op_def)\n  File \"/Users/XiaMarko/anaconda3/lib/python3.6/site-packages/tensorflow/python/util/deprecation.py\", line 507, in new_func\n    return func(*args, **kwargs)\n  File \"/Users/XiaMarko/anaconda3/lib/python3.6/site-packages/tensorflow/python/framework/ops.py\", line 3616, in create_op\n    op_def=op_def)\n  File \"/Users/XiaMarko/anaconda3/lib/python3.6/site-packages/tensorflow/python/framework/ops.py\", line 2005, in __init__\n    self._traceback = tf_stack.extract_stack()\n"
     ]
    }
   ],
   "source": [
    "with tf.Session() as sess:\n",
    "    sess.run(init_op)\n",
    "    sess.run([optimizer, cost], feed_dict = {X: X_train, Y: Y_train})"
   ]
  },
  {
   "cell_type": "code",
   "execution_count": 122,
   "metadata": {
    "scrolled": true
   },
   "outputs": [
    {
     "ename": "FailedPreconditionError",
     "evalue": "Attempting to use uninitialized value beta1_power_2\n\t [[node beta1_power_2/read (defined at <ipython-input-113-442eaac57f19>:3) ]]\n\nOriginal stack trace for 'beta1_power_2/read':\n  File \"/Users/XiaMarko/anaconda3/lib/python3.6/runpy.py\", line 193, in _run_module_as_main\n    \"__main__\", mod_spec)\n  File \"/Users/XiaMarko/anaconda3/lib/python3.6/runpy.py\", line 85, in _run_code\n    exec(code, run_globals)\n  File \"/Users/XiaMarko/anaconda3/lib/python3.6/site-packages/ipykernel_launcher.py\", line 16, in <module>\n    app.launch_new_instance()\n  File \"/Users/XiaMarko/anaconda3/lib/python3.6/site-packages/traitlets/config/application.py\", line 658, in launch_instance\n    app.start()\n  File \"/Users/XiaMarko/anaconda3/lib/python3.6/site-packages/ipykernel/kernelapp.py\", line 505, in start\n    self.io_loop.start()\n  File \"/Users/XiaMarko/anaconda3/lib/python3.6/site-packages/tornado/platform/asyncio.py\", line 148, in start\n    self.asyncio_loop.run_forever()\n  File \"/Users/XiaMarko/anaconda3/lib/python3.6/asyncio/base_events.py\", line 438, in run_forever\n    self._run_once()\n  File \"/Users/XiaMarko/anaconda3/lib/python3.6/asyncio/base_events.py\", line 1451, in _run_once\n    handle._run()\n  File \"/Users/XiaMarko/anaconda3/lib/python3.6/asyncio/events.py\", line 145, in _run\n    self._callback(*self._args)\n  File \"/Users/XiaMarko/anaconda3/lib/python3.6/site-packages/tornado/ioloop.py\", line 690, in <lambda>\n    lambda f: self._run_callback(functools.partial(callback, future))\n  File \"/Users/XiaMarko/anaconda3/lib/python3.6/site-packages/tornado/ioloop.py\", line 743, in _run_callback\n    ret = callback()\n  File \"/Users/XiaMarko/anaconda3/lib/python3.6/site-packages/tornado/gen.py\", line 781, in inner\n    self.run()\n  File \"/Users/XiaMarko/anaconda3/lib/python3.6/site-packages/tornado/gen.py\", line 742, in run\n    yielded = self.gen.send(value)\n  File \"/Users/XiaMarko/anaconda3/lib/python3.6/site-packages/ipykernel/kernelbase.py\", line 365, in process_one\n    yield gen.maybe_future(dispatch(*args))\n  File \"/Users/XiaMarko/anaconda3/lib/python3.6/site-packages/tornado/gen.py\", line 209, in wrapper\n    yielded = next(result)\n  File \"/Users/XiaMarko/anaconda3/lib/python3.6/site-packages/ipykernel/kernelbase.py\", line 272, in dispatch_shell\n    yield gen.maybe_future(handler(stream, idents, msg))\n  File \"/Users/XiaMarko/anaconda3/lib/python3.6/site-packages/tornado/gen.py\", line 209, in wrapper\n    yielded = next(result)\n  File \"/Users/XiaMarko/anaconda3/lib/python3.6/site-packages/ipykernel/kernelbase.py\", line 542, in execute_request\n    user_expressions, allow_stdin,\n  File \"/Users/XiaMarko/anaconda3/lib/python3.6/site-packages/tornado/gen.py\", line 209, in wrapper\n    yielded = next(result)\n  File \"/Users/XiaMarko/anaconda3/lib/python3.6/site-packages/ipykernel/ipkernel.py\", line 294, in do_execute\n    res = shell.run_cell(code, store_history=store_history, silent=silent)\n  File \"/Users/XiaMarko/anaconda3/lib/python3.6/site-packages/ipykernel/zmqshell.py\", line 536, in run_cell\n    return super(ZMQInteractiveShell, self).run_cell(*args, **kwargs)\n  File \"/Users/XiaMarko/anaconda3/lib/python3.6/site-packages/IPython/core/interactiveshell.py\", line 2848, in run_cell\n    raw_cell, store_history, silent, shell_futures)\n  File \"/Users/XiaMarko/anaconda3/lib/python3.6/site-packages/IPython/core/interactiveshell.py\", line 2874, in _run_cell\n    return runner(coro)\n  File \"/Users/XiaMarko/anaconda3/lib/python3.6/site-packages/IPython/core/async_helpers.py\", line 67, in _pseudo_sync_runner\n    coro.send(None)\n  File \"/Users/XiaMarko/anaconda3/lib/python3.6/site-packages/IPython/core/interactiveshell.py\", line 3049, in run_cell_async\n    interactivity=interactivity, compiler=compiler, result=result)\n  File \"/Users/XiaMarko/anaconda3/lib/python3.6/site-packages/IPython/core/interactiveshell.py\", line 3214, in run_ast_nodes\n    if (yield from self.run_code(code, result)):\n  File \"/Users/XiaMarko/anaconda3/lib/python3.6/site-packages/IPython/core/interactiveshell.py\", line 3296, in run_code\n    exec(code_obj, self.user_global_ns, self.user_ns)\n  File \"<ipython-input-113-442eaac57f19>\", line 3, in <module>\n    optimizer = tf.train.AdamOptimizer(learning_rate = learning_rate).minimize(cost)\n  File \"/Users/XiaMarko/anaconda3/lib/python3.6/site-packages/tensorflow/python/training/optimizer.py\", line 413, in minimize\n    name=name)\n  File \"/Users/XiaMarko/anaconda3/lib/python3.6/site-packages/tensorflow/python/training/optimizer.py\", line 597, in apply_gradients\n    self._create_slots(var_list)\n  File \"/Users/XiaMarko/anaconda3/lib/python3.6/site-packages/tensorflow/python/training/adam.py\", line 125, in _create_slots\n    initial_value=self._beta1, name=\"beta1_power\", colocate_with=first_var)\n  File \"/Users/XiaMarko/anaconda3/lib/python3.6/site-packages/tensorflow/python/training/optimizer.py\", line 830, in _create_non_slot_variable\n    colocate_with))\n  File \"/Users/XiaMarko/anaconda3/lib/python3.6/site-packages/tensorflow/python/ops/variables.py\", line 259, in __call__\n    return cls._variable_v1_call(*args, **kwargs)\n  File \"/Users/XiaMarko/anaconda3/lib/python3.6/site-packages/tensorflow/python/ops/variables.py\", line 220, in _variable_v1_call\n    shape=shape)\n  File \"/Users/XiaMarko/anaconda3/lib/python3.6/site-packages/tensorflow/python/ops/variables.py\", line 198, in <lambda>\n    previous_getter = lambda **kwargs: default_variable_creator(None, **kwargs)\n  File \"/Users/XiaMarko/anaconda3/lib/python3.6/site-packages/tensorflow/python/ops/variable_scope.py\", line 2511, in default_variable_creator\n    shape=shape)\n  File \"/Users/XiaMarko/anaconda3/lib/python3.6/site-packages/tensorflow/python/ops/variables.py\", line 263, in __call__\n    return super(VariableMetaclass, cls).__call__(*args, **kwargs)\n  File \"/Users/XiaMarko/anaconda3/lib/python3.6/site-packages/tensorflow/python/ops/variables.py\", line 1568, in __init__\n    shape=shape)\n  File \"/Users/XiaMarko/anaconda3/lib/python3.6/site-packages/tensorflow/python/ops/variables.py\", line 1755, in _init_from_args\n    self._snapshot = array_ops.identity(self._variable, name=\"read\")\n  File \"/Users/XiaMarko/anaconda3/lib/python3.6/site-packages/tensorflow/python/util/dispatch.py\", line 180, in wrapper\n    return target(*args, **kwargs)\n  File \"/Users/XiaMarko/anaconda3/lib/python3.6/site-packages/tensorflow/python/ops/array_ops.py\", line 86, in identity\n    ret = gen_array_ops.identity(input, name=name)\n  File \"/Users/XiaMarko/anaconda3/lib/python3.6/site-packages/tensorflow/python/ops/gen_array_ops.py\", line 4253, in identity\n    \"Identity\", input=input, name=name)\n  File \"/Users/XiaMarko/anaconda3/lib/python3.6/site-packages/tensorflow/python/framework/op_def_library.py\", line 788, in _apply_op_helper\n    op_def=op_def)\n  File \"/Users/XiaMarko/anaconda3/lib/python3.6/site-packages/tensorflow/python/util/deprecation.py\", line 507, in new_func\n    return func(*args, **kwargs)\n  File \"/Users/XiaMarko/anaconda3/lib/python3.6/site-packages/tensorflow/python/framework/ops.py\", line 3616, in create_op\n    op_def=op_def)\n  File \"/Users/XiaMarko/anaconda3/lib/python3.6/site-packages/tensorflow/python/framework/ops.py\", line 2005, in __init__\n    self._traceback = tf_stack.extract_stack()\n",
     "output_type": "error",
     "traceback": [
      "\u001b[0;31m---------------------------------------------------------------------------\u001b[0m",
      "\u001b[0;31mFailedPreconditionError\u001b[0m                   Traceback (most recent call last)",
      "\u001b[0;32m~/anaconda3/lib/python3.6/site-packages/tensorflow/python/client/session.py\u001b[0m in \u001b[0;36m_do_call\u001b[0;34m(self, fn, *args)\u001b[0m\n\u001b[1;32m   1355\u001b[0m     \u001b[0;32mtry\u001b[0m\u001b[0;34m:\u001b[0m\u001b[0;34m\u001b[0m\u001b[0;34m\u001b[0m\u001b[0m\n\u001b[0;32m-> 1356\u001b[0;31m       \u001b[0;32mreturn\u001b[0m \u001b[0mfn\u001b[0m\u001b[0;34m(\u001b[0m\u001b[0;34m*\u001b[0m\u001b[0margs\u001b[0m\u001b[0;34m)\u001b[0m\u001b[0;34m\u001b[0m\u001b[0;34m\u001b[0m\u001b[0m\n\u001b[0m\u001b[1;32m   1357\u001b[0m     \u001b[0;32mexcept\u001b[0m \u001b[0merrors\u001b[0m\u001b[0;34m.\u001b[0m\u001b[0mOpError\u001b[0m \u001b[0;32mas\u001b[0m \u001b[0me\u001b[0m\u001b[0;34m:\u001b[0m\u001b[0;34m\u001b[0m\u001b[0;34m\u001b[0m\u001b[0m\n",
      "\u001b[0;32m~/anaconda3/lib/python3.6/site-packages/tensorflow/python/client/session.py\u001b[0m in \u001b[0;36m_run_fn\u001b[0;34m(feed_dict, fetch_list, target_list, options, run_metadata)\u001b[0m\n\u001b[1;32m   1340\u001b[0m       return self._call_tf_sessionrun(\n\u001b[0;32m-> 1341\u001b[0;31m           options, feed_dict, fetch_list, target_list, run_metadata)\n\u001b[0m\u001b[1;32m   1342\u001b[0m \u001b[0;34m\u001b[0m\u001b[0m\n",
      "\u001b[0;32m~/anaconda3/lib/python3.6/site-packages/tensorflow/python/client/session.py\u001b[0m in \u001b[0;36m_call_tf_sessionrun\u001b[0;34m(self, options, feed_dict, fetch_list, target_list, run_metadata)\u001b[0m\n\u001b[1;32m   1428\u001b[0m         \u001b[0mself\u001b[0m\u001b[0;34m.\u001b[0m\u001b[0m_session\u001b[0m\u001b[0;34m,\u001b[0m \u001b[0moptions\u001b[0m\u001b[0;34m,\u001b[0m \u001b[0mfeed_dict\u001b[0m\u001b[0;34m,\u001b[0m \u001b[0mfetch_list\u001b[0m\u001b[0;34m,\u001b[0m \u001b[0mtarget_list\u001b[0m\u001b[0;34m,\u001b[0m\u001b[0;34m\u001b[0m\u001b[0;34m\u001b[0m\u001b[0m\n\u001b[0;32m-> 1429\u001b[0;31m         run_metadata)\n\u001b[0m\u001b[1;32m   1430\u001b[0m \u001b[0;34m\u001b[0m\u001b[0m\n",
      "\u001b[0;31mFailedPreconditionError\u001b[0m: Attempting to use uninitialized value beta1_power_2\n\t [[{{node beta1_power_2/read}}]]",
      "\nDuring handling of the above exception, another exception occurred:\n",
      "\u001b[0;31mFailedPreconditionError\u001b[0m                   Traceback (most recent call last)",
      "\u001b[0;32m<ipython-input-122-172d904a8b35>\u001b[0m in \u001b[0;36m<module>\u001b[0;34m\u001b[0m\n\u001b[1;32m      8\u001b[0m         \u001b[0;31m#for i in range(total_batch):\u001b[0m\u001b[0;34m\u001b[0m\u001b[0;34m\u001b[0m\u001b[0;34m\u001b[0m\u001b[0m\n\u001b[1;32m      9\u001b[0m             \u001b[0;31m#batch_x, batch_y = batch_creator(batch_size, train_x.shape[0], 'train')\u001b[0m\u001b[0;34m\u001b[0m\u001b[0;34m\u001b[0m\u001b[0;34m\u001b[0m\u001b[0m\n\u001b[0;32m---> 10\u001b[0;31m         \u001b[0m_\u001b[0m\u001b[0;34m,\u001b[0m \u001b[0mc\u001b[0m \u001b[0;34m=\u001b[0m\u001b[0msess\u001b[0m\u001b[0;34m.\u001b[0m\u001b[0mrun\u001b[0m\u001b[0;34m(\u001b[0m\u001b[0;34m[\u001b[0m\u001b[0moptimizer\u001b[0m\u001b[0;34m,\u001b[0m \u001b[0mcost\u001b[0m\u001b[0;34m]\u001b[0m\u001b[0;34m,\u001b[0m \u001b[0mfeed_dict\u001b[0m \u001b[0;34m=\u001b[0m \u001b[0;34m{\u001b[0m\u001b[0mX\u001b[0m\u001b[0;34m:\u001b[0m \u001b[0mX_train\u001b[0m\u001b[0;34m,\u001b[0m \u001b[0mY\u001b[0m\u001b[0;34m:\u001b[0m \u001b[0mY_train\u001b[0m\u001b[0;34m}\u001b[0m\u001b[0;34m)\u001b[0m\u001b[0;34m\u001b[0m\u001b[0;34m\u001b[0m\u001b[0m\n\u001b[0m\u001b[1;32m     11\u001b[0m         \u001b[0mavg_cost\u001b[0m \u001b[0;34m+=\u001b[0m \u001b[0mc\u001b[0m \u001b[0;34m/\u001b[0m \u001b[0mtotal_batch\u001b[0m\u001b[0;34m\u001b[0m\u001b[0;34m\u001b[0m\u001b[0m\n\u001b[1;32m     12\u001b[0m         \u001b[0mprint\u001b[0m\u001b[0;34m(\u001b[0m\u001b[0;34m\"Epoch:\"\u001b[0m\u001b[0;34m,\u001b[0m \u001b[0;34m(\u001b[0m\u001b[0mepoch\u001b[0m \u001b[0;34m+\u001b[0m \u001b[0;36m1\u001b[0m\u001b[0;34m)\u001b[0m\u001b[0;34m,\u001b[0m \u001b[0;34m\"cost =\"\u001b[0m\u001b[0;34m,\u001b[0m \u001b[0;34m\"{:.3f}\"\u001b[0m\u001b[0;34m.\u001b[0m\u001b[0mformat\u001b[0m\u001b[0;34m(\u001b[0m\u001b[0mavg_cost\u001b[0m\u001b[0;34m)\u001b[0m\u001b[0;34m)\u001b[0m\u001b[0;34m\u001b[0m\u001b[0;34m\u001b[0m\u001b[0m\n",
      "\u001b[0;32m~/anaconda3/lib/python3.6/site-packages/tensorflow/python/client/session.py\u001b[0m in \u001b[0;36mrun\u001b[0;34m(self, fetches, feed_dict, options, run_metadata)\u001b[0m\n\u001b[1;32m    948\u001b[0m     \u001b[0;32mtry\u001b[0m\u001b[0;34m:\u001b[0m\u001b[0;34m\u001b[0m\u001b[0;34m\u001b[0m\u001b[0m\n\u001b[1;32m    949\u001b[0m       result = self._run(None, fetches, feed_dict, options_ptr,\n\u001b[0;32m--> 950\u001b[0;31m                          run_metadata_ptr)\n\u001b[0m\u001b[1;32m    951\u001b[0m       \u001b[0;32mif\u001b[0m \u001b[0mrun_metadata\u001b[0m\u001b[0;34m:\u001b[0m\u001b[0;34m\u001b[0m\u001b[0;34m\u001b[0m\u001b[0m\n\u001b[1;32m    952\u001b[0m         \u001b[0mproto_data\u001b[0m \u001b[0;34m=\u001b[0m \u001b[0mtf_session\u001b[0m\u001b[0;34m.\u001b[0m\u001b[0mTF_GetBuffer\u001b[0m\u001b[0;34m(\u001b[0m\u001b[0mrun_metadata_ptr\u001b[0m\u001b[0;34m)\u001b[0m\u001b[0;34m\u001b[0m\u001b[0;34m\u001b[0m\u001b[0m\n",
      "\u001b[0;32m~/anaconda3/lib/python3.6/site-packages/tensorflow/python/client/session.py\u001b[0m in \u001b[0;36m_run\u001b[0;34m(self, handle, fetches, feed_dict, options, run_metadata)\u001b[0m\n\u001b[1;32m   1171\u001b[0m     \u001b[0;32mif\u001b[0m \u001b[0mfinal_fetches\u001b[0m \u001b[0;32mor\u001b[0m \u001b[0mfinal_targets\u001b[0m \u001b[0;32mor\u001b[0m \u001b[0;34m(\u001b[0m\u001b[0mhandle\u001b[0m \u001b[0;32mand\u001b[0m \u001b[0mfeed_dict_tensor\u001b[0m\u001b[0;34m)\u001b[0m\u001b[0;34m:\u001b[0m\u001b[0;34m\u001b[0m\u001b[0;34m\u001b[0m\u001b[0m\n\u001b[1;32m   1172\u001b[0m       results = self._do_run(handle, final_targets, final_fetches,\n\u001b[0;32m-> 1173\u001b[0;31m                              feed_dict_tensor, options, run_metadata)\n\u001b[0m\u001b[1;32m   1174\u001b[0m     \u001b[0;32melse\u001b[0m\u001b[0;34m:\u001b[0m\u001b[0;34m\u001b[0m\u001b[0;34m\u001b[0m\u001b[0m\n\u001b[1;32m   1175\u001b[0m       \u001b[0mresults\u001b[0m \u001b[0;34m=\u001b[0m \u001b[0;34m[\u001b[0m\u001b[0;34m]\u001b[0m\u001b[0;34m\u001b[0m\u001b[0;34m\u001b[0m\u001b[0m\n",
      "\u001b[0;32m~/anaconda3/lib/python3.6/site-packages/tensorflow/python/client/session.py\u001b[0m in \u001b[0;36m_do_run\u001b[0;34m(self, handle, target_list, fetch_list, feed_dict, options, run_metadata)\u001b[0m\n\u001b[1;32m   1348\u001b[0m     \u001b[0;32mif\u001b[0m \u001b[0mhandle\u001b[0m \u001b[0;32mis\u001b[0m \u001b[0;32mNone\u001b[0m\u001b[0;34m:\u001b[0m\u001b[0;34m\u001b[0m\u001b[0;34m\u001b[0m\u001b[0m\n\u001b[1;32m   1349\u001b[0m       return self._do_call(_run_fn, feeds, fetches, targets, options,\n\u001b[0;32m-> 1350\u001b[0;31m                            run_metadata)\n\u001b[0m\u001b[1;32m   1351\u001b[0m     \u001b[0;32melse\u001b[0m\u001b[0;34m:\u001b[0m\u001b[0;34m\u001b[0m\u001b[0;34m\u001b[0m\u001b[0m\n\u001b[1;32m   1352\u001b[0m       \u001b[0;32mreturn\u001b[0m \u001b[0mself\u001b[0m\u001b[0;34m.\u001b[0m\u001b[0m_do_call\u001b[0m\u001b[0;34m(\u001b[0m\u001b[0m_prun_fn\u001b[0m\u001b[0;34m,\u001b[0m \u001b[0mhandle\u001b[0m\u001b[0;34m,\u001b[0m \u001b[0mfeeds\u001b[0m\u001b[0;34m,\u001b[0m \u001b[0mfetches\u001b[0m\u001b[0;34m)\u001b[0m\u001b[0;34m\u001b[0m\u001b[0;34m\u001b[0m\u001b[0m\n",
      "\u001b[0;32m~/anaconda3/lib/python3.6/site-packages/tensorflow/python/client/session.py\u001b[0m in \u001b[0;36m_do_call\u001b[0;34m(self, fn, *args)\u001b[0m\n\u001b[1;32m   1368\u001b[0m           \u001b[0;32mpass\u001b[0m\u001b[0;34m\u001b[0m\u001b[0;34m\u001b[0m\u001b[0m\n\u001b[1;32m   1369\u001b[0m       \u001b[0mmessage\u001b[0m \u001b[0;34m=\u001b[0m \u001b[0merror_interpolation\u001b[0m\u001b[0;34m.\u001b[0m\u001b[0minterpolate\u001b[0m\u001b[0;34m(\u001b[0m\u001b[0mmessage\u001b[0m\u001b[0;34m,\u001b[0m \u001b[0mself\u001b[0m\u001b[0;34m.\u001b[0m\u001b[0m_graph\u001b[0m\u001b[0;34m)\u001b[0m\u001b[0;34m\u001b[0m\u001b[0;34m\u001b[0m\u001b[0m\n\u001b[0;32m-> 1370\u001b[0;31m       \u001b[0;32mraise\u001b[0m \u001b[0mtype\u001b[0m\u001b[0;34m(\u001b[0m\u001b[0me\u001b[0m\u001b[0;34m)\u001b[0m\u001b[0;34m(\u001b[0m\u001b[0mnode_def\u001b[0m\u001b[0;34m,\u001b[0m \u001b[0mop\u001b[0m\u001b[0;34m,\u001b[0m \u001b[0mmessage\u001b[0m\u001b[0;34m)\u001b[0m\u001b[0;34m\u001b[0m\u001b[0;34m\u001b[0m\u001b[0m\n\u001b[0m\u001b[1;32m   1371\u001b[0m \u001b[0;34m\u001b[0m\u001b[0m\n\u001b[1;32m   1372\u001b[0m   \u001b[0;32mdef\u001b[0m \u001b[0m_extend_graph\u001b[0m\u001b[0;34m(\u001b[0m\u001b[0mself\u001b[0m\u001b[0;34m)\u001b[0m\u001b[0;34m:\u001b[0m\u001b[0;34m\u001b[0m\u001b[0;34m\u001b[0m\u001b[0m\n",
      "\u001b[0;31mFailedPreconditionError\u001b[0m: Attempting to use uninitialized value beta1_power_2\n\t [[node beta1_power_2/read (defined at <ipython-input-113-442eaac57f19>:3) ]]\n\nOriginal stack trace for 'beta1_power_2/read':\n  File \"/Users/XiaMarko/anaconda3/lib/python3.6/runpy.py\", line 193, in _run_module_as_main\n    \"__main__\", mod_spec)\n  File \"/Users/XiaMarko/anaconda3/lib/python3.6/runpy.py\", line 85, in _run_code\n    exec(code, run_globals)\n  File \"/Users/XiaMarko/anaconda3/lib/python3.6/site-packages/ipykernel_launcher.py\", line 16, in <module>\n    app.launch_new_instance()\n  File \"/Users/XiaMarko/anaconda3/lib/python3.6/site-packages/traitlets/config/application.py\", line 658, in launch_instance\n    app.start()\n  File \"/Users/XiaMarko/anaconda3/lib/python3.6/site-packages/ipykernel/kernelapp.py\", line 505, in start\n    self.io_loop.start()\n  File \"/Users/XiaMarko/anaconda3/lib/python3.6/site-packages/tornado/platform/asyncio.py\", line 148, in start\n    self.asyncio_loop.run_forever()\n  File \"/Users/XiaMarko/anaconda3/lib/python3.6/asyncio/base_events.py\", line 438, in run_forever\n    self._run_once()\n  File \"/Users/XiaMarko/anaconda3/lib/python3.6/asyncio/base_events.py\", line 1451, in _run_once\n    handle._run()\n  File \"/Users/XiaMarko/anaconda3/lib/python3.6/asyncio/events.py\", line 145, in _run\n    self._callback(*self._args)\n  File \"/Users/XiaMarko/anaconda3/lib/python3.6/site-packages/tornado/ioloop.py\", line 690, in <lambda>\n    lambda f: self._run_callback(functools.partial(callback, future))\n  File \"/Users/XiaMarko/anaconda3/lib/python3.6/site-packages/tornado/ioloop.py\", line 743, in _run_callback\n    ret = callback()\n  File \"/Users/XiaMarko/anaconda3/lib/python3.6/site-packages/tornado/gen.py\", line 781, in inner\n    self.run()\n  File \"/Users/XiaMarko/anaconda3/lib/python3.6/site-packages/tornado/gen.py\", line 742, in run\n    yielded = self.gen.send(value)\n  File \"/Users/XiaMarko/anaconda3/lib/python3.6/site-packages/ipykernel/kernelbase.py\", line 365, in process_one\n    yield gen.maybe_future(dispatch(*args))\n  File \"/Users/XiaMarko/anaconda3/lib/python3.6/site-packages/tornado/gen.py\", line 209, in wrapper\n    yielded = next(result)\n  File \"/Users/XiaMarko/anaconda3/lib/python3.6/site-packages/ipykernel/kernelbase.py\", line 272, in dispatch_shell\n    yield gen.maybe_future(handler(stream, idents, msg))\n  File \"/Users/XiaMarko/anaconda3/lib/python3.6/site-packages/tornado/gen.py\", line 209, in wrapper\n    yielded = next(result)\n  File \"/Users/XiaMarko/anaconda3/lib/python3.6/site-packages/ipykernel/kernelbase.py\", line 542, in execute_request\n    user_expressions, allow_stdin,\n  File \"/Users/XiaMarko/anaconda3/lib/python3.6/site-packages/tornado/gen.py\", line 209, in wrapper\n    yielded = next(result)\n  File \"/Users/XiaMarko/anaconda3/lib/python3.6/site-packages/ipykernel/ipkernel.py\", line 294, in do_execute\n    res = shell.run_cell(code, store_history=store_history, silent=silent)\n  File \"/Users/XiaMarko/anaconda3/lib/python3.6/site-packages/ipykernel/zmqshell.py\", line 536, in run_cell\n    return super(ZMQInteractiveShell, self).run_cell(*args, **kwargs)\n  File \"/Users/XiaMarko/anaconda3/lib/python3.6/site-packages/IPython/core/interactiveshell.py\", line 2848, in run_cell\n    raw_cell, store_history, silent, shell_futures)\n  File \"/Users/XiaMarko/anaconda3/lib/python3.6/site-packages/IPython/core/interactiveshell.py\", line 2874, in _run_cell\n    return runner(coro)\n  File \"/Users/XiaMarko/anaconda3/lib/python3.6/site-packages/IPython/core/async_helpers.py\", line 67, in _pseudo_sync_runner\n    coro.send(None)\n  File \"/Users/XiaMarko/anaconda3/lib/python3.6/site-packages/IPython/core/interactiveshell.py\", line 3049, in run_cell_async\n    interactivity=interactivity, compiler=compiler, result=result)\n  File \"/Users/XiaMarko/anaconda3/lib/python3.6/site-packages/IPython/core/interactiveshell.py\", line 3214, in run_ast_nodes\n    if (yield from self.run_code(code, result)):\n  File \"/Users/XiaMarko/anaconda3/lib/python3.6/site-packages/IPython/core/interactiveshell.py\", line 3296, in run_code\n    exec(code_obj, self.user_global_ns, self.user_ns)\n  File \"<ipython-input-113-442eaac57f19>\", line 3, in <module>\n    optimizer = tf.train.AdamOptimizer(learning_rate = learning_rate).minimize(cost)\n  File \"/Users/XiaMarko/anaconda3/lib/python3.6/site-packages/tensorflow/python/training/optimizer.py\", line 413, in minimize\n    name=name)\n  File \"/Users/XiaMarko/anaconda3/lib/python3.6/site-packages/tensorflow/python/training/optimizer.py\", line 597, in apply_gradients\n    self._create_slots(var_list)\n  File \"/Users/XiaMarko/anaconda3/lib/python3.6/site-packages/tensorflow/python/training/adam.py\", line 125, in _create_slots\n    initial_value=self._beta1, name=\"beta1_power\", colocate_with=first_var)\n  File \"/Users/XiaMarko/anaconda3/lib/python3.6/site-packages/tensorflow/python/training/optimizer.py\", line 830, in _create_non_slot_variable\n    colocate_with))\n  File \"/Users/XiaMarko/anaconda3/lib/python3.6/site-packages/tensorflow/python/ops/variables.py\", line 259, in __call__\n    return cls._variable_v1_call(*args, **kwargs)\n  File \"/Users/XiaMarko/anaconda3/lib/python3.6/site-packages/tensorflow/python/ops/variables.py\", line 220, in _variable_v1_call\n    shape=shape)\n  File \"/Users/XiaMarko/anaconda3/lib/python3.6/site-packages/tensorflow/python/ops/variables.py\", line 198, in <lambda>\n    previous_getter = lambda **kwargs: default_variable_creator(None, **kwargs)\n  File \"/Users/XiaMarko/anaconda3/lib/python3.6/site-packages/tensorflow/python/ops/variable_scope.py\", line 2511, in default_variable_creator\n    shape=shape)\n  File \"/Users/XiaMarko/anaconda3/lib/python3.6/site-packages/tensorflow/python/ops/variables.py\", line 263, in __call__\n    return super(VariableMetaclass, cls).__call__(*args, **kwargs)\n  File \"/Users/XiaMarko/anaconda3/lib/python3.6/site-packages/tensorflow/python/ops/variables.py\", line 1568, in __init__\n    shape=shape)\n  File \"/Users/XiaMarko/anaconda3/lib/python3.6/site-packages/tensorflow/python/ops/variables.py\", line 1755, in _init_from_args\n    self._snapshot = array_ops.identity(self._variable, name=\"read\")\n  File \"/Users/XiaMarko/anaconda3/lib/python3.6/site-packages/tensorflow/python/util/dispatch.py\", line 180, in wrapper\n    return target(*args, **kwargs)\n  File \"/Users/XiaMarko/anaconda3/lib/python3.6/site-packages/tensorflow/python/ops/array_ops.py\", line 86, in identity\n    ret = gen_array_ops.identity(input, name=name)\n  File \"/Users/XiaMarko/anaconda3/lib/python3.6/site-packages/tensorflow/python/ops/gen_array_ops.py\", line 4253, in identity\n    \"Identity\", input=input, name=name)\n  File \"/Users/XiaMarko/anaconda3/lib/python3.6/site-packages/tensorflow/python/framework/op_def_library.py\", line 788, in _apply_op_helper\n    op_def=op_def)\n  File \"/Users/XiaMarko/anaconda3/lib/python3.6/site-packages/tensorflow/python/util/deprecation.py\", line 507, in new_func\n    return func(*args, **kwargs)\n  File \"/Users/XiaMarko/anaconda3/lib/python3.6/site-packages/tensorflow/python/framework/ops.py\", line 3616, in create_op\n    op_def=op_def)\n  File \"/Users/XiaMarko/anaconda3/lib/python3.6/site-packages/tensorflow/python/framework/ops.py\", line 2005, in __init__\n    self._traceback = tf_stack.extract_stack()\n"
     ]
    }
   ],
   "source": [
    "with tf.Session() as sess:\n",
    "    \n",
    "   # initialise the variables\n",
    "    sess.run(init_op)\n",
    "    total_batch = 1 #int( 2340/ batch_size)   #len(X_train.shape[1])\n",
    "    for epoch in range(epochs):\n",
    "        avg_cost = 0\n",
    "        #for i in range(total_batch):\n",
    "            #batch_x, batch_y = batch_creator(batch_size, train_x.shape[0], 'train')\n",
    "        _, c =sess.run([optimizer, cost], feed_dict = {X: X_train, Y: Y_train})\n",
    "        avg_cost += c / total_batch\n",
    "        print(\"Epoch:\", (epoch + 1), \"cost =\", \"{:.3f}\".format(avg_cost))\n",
    "    #print(sess.run(accuracy, feed_dict={X: train_x, Y: train_y }))\n"
   ]
  },
  {
   "cell_type": "code",
   "execution_count": 244,
   "metadata": {
    "scrolled": true
   },
   "outputs": [
    {
     "ename": "TypeError",
     "evalue": "object of type 'Dimension' has no len()",
     "output_type": "error",
     "traceback": [
      "\u001b[0;31m---------------------------------------------------------------------------\u001b[0m",
      "\u001b[0;31mTypeError\u001b[0m                                 Traceback (most recent call last)",
      "\u001b[0;32m<ipython-input-244-8ae3bb6fd955>\u001b[0m in \u001b[0;36m<module>\u001b[0;34m\u001b[0m\n\u001b[0;32m----> 1\u001b[0;31m \u001b[0mlen\u001b[0m\u001b[0;34m(\u001b[0m\u001b[0mX_train\u001b[0m\u001b[0;34m.\u001b[0m\u001b[0mshape\u001b[0m\u001b[0;34m[\u001b[0m\u001b[0;36m1\u001b[0m\u001b[0;34m]\u001b[0m\u001b[0;34m)\u001b[0m\u001b[0;34m\u001b[0m\u001b[0;34m\u001b[0m\u001b[0m\n\u001b[0m",
      "\u001b[0;31mTypeError\u001b[0m: object of type 'Dimension' has no len()"
     ]
    }
   ],
   "source": [
    "len(X_train.shape[1])"
   ]
  },
  {
   "cell_type": "markdown",
   "metadata": {},
   "source": [
    "ROC: Receiver Operating curve is a standard technique for summarizing classifier performance over a range of \n",
    "tradeoffs between TP and FP error rates"
   ]
  }
 ],
 "metadata": {
  "kernelspec": {
   "display_name": "Python 3",
   "language": "python",
   "name": "python3"
  },
  "language_info": {
   "codemirror_mode": {
    "name": "ipython",
    "version": 3
   },
   "file_extension": ".py",
   "mimetype": "text/x-python",
   "name": "python",
   "nbconvert_exporter": "python",
   "pygments_lexer": "ipython3",
   "version": "3.7.4"
  }
 },
 "nbformat": 4,
 "nbformat_minor": 4
}
